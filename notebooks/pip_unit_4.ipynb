{
 "cells": [
  {
   "cell_type": "markdown",
   "metadata": {
    "slideshow": {
     "slide_type": "slide"
    }
   },
   "source": [
    "# Programmierung in Python <span class=\"tocSkip\" />\n",
    "\n",
    "**Univ.-Prof. Dr. Martin Hepp,** Universität der Bundeswehr München\n",
    "<br /><br />\n",
    "\n",
    "## Einheit 4: Datenvisualisierung <span class=\"tocSkip\" />\n",
    "**Version: 2019-11-08** -- Work in progress ;-)\n",
    "<br /><br />\n",
    "[**http://www.ebusiness-unibw.org/wiki/Teaching/PIP**](http://www.ebusiness-unibw.org/wiki/Teaching/PIP)"
   ]
  },
  {
   "cell_type": "markdown",
   "metadata": {
    "slideshow": {
     "slide_type": "slide"
    }
   },
   "source": [
    "# Grundlagen der Datenvisualisierung\n",
    "## Ziel und Probleme\n",
    "## Ansätze\n",
    "## Datenvisualisierung in Python"
   ]
  },
  {
   "cell_type": "markdown",
   "metadata": {
    "slideshow": {
     "slide_type": "slide"
    }
   },
   "source": [
    "# Matplotlib\n",
    "## Geschichte\n",
    "## Grundlagen der Anwendung\n",
    "- Beispiel\n",
    "- Anzeige in Jupyter Notebooks\n",
    "- Speichern als Datei\n",
    "\n",
    "## Ressourcen"
   ]
  },
  {
   "cell_type": "markdown",
   "metadata": {
    "slideshow": {
     "slide_type": "slide"
    }
   },
   "source": [
    "# Balkendiagramme"
   ]
  },
  {
   "cell_type": "markdown",
   "metadata": {
    "slideshow": {
     "slide_type": "slide"
    }
   },
   "source": [
    "# Liniendiagramme"
   ]
  },
  {
   "cell_type": "markdown",
   "metadata": {
    "slideshow": {
     "slide_type": "slide"
    }
   },
   "source": [
    "# Boxplots"
   ]
  },
  {
   "cell_type": "markdown",
   "metadata": {
    "slideshow": {
     "slide_type": "slide"
    }
   },
   "source": [
    "# Tortendiagramme"
   ]
  },
  {
   "cell_type": "markdown",
   "metadata": {
    "slideshow": {
     "slide_type": "slide"
    }
   },
   "source": [
    "# Scatter Plots"
   ]
  },
  {
   "cell_type": "markdown",
   "metadata": {
    "slideshow": {
     "slide_type": "slide"
    }
   },
   "source": [
    "# Spinnennetz"
   ]
  },
  {
   "cell_type": "markdown",
   "metadata": {
    "slideshow": {
     "slide_type": "slide"
    }
   },
   "source": [
    "# Heatmaps"
   ]
  },
  {
   "cell_type": "markdown",
   "metadata": {
    "slideshow": {
     "slide_type": "slide"
    }
   },
   "source": [
    "# Individualisierung und Gestaltung\n",
    "## Titel\n",
    "## Achsen und Achsenbeschriftungen\n",
    "## Farben\n",
    "## Legende\n",
    "## Mehrere Diagramme"
   ]
  },
  {
   "cell_type": "markdown",
   "metadata": {
    "slideshow": {
     "slide_type": "slide"
    }
   },
   "source": [
    "# Visualisierung von Daten mit geographischem Bezug\n",
    "Landkarten etc."
   ]
  },
  {
   "cell_type": "markdown",
   "metadata": {
    "slideshow": {
     "slide_type": "slide"
    }
   },
   "source": [
    "# Quellenangaben und weiterführende Literatur\n",
    "\\[Pyt2019\\]&nbsp;&nbsp;&nbsp;&nbsp;Python Software Foundation. Python 3.8.0 Documentation. [https://docs.python.org/3/](https://docs.python.org/3/).\n",
    "\n",
    "\\[Ov2019\\]&nbsp;&nbsp;&nbsp;&nbsp; Ohne Verfasser. Plotting Data with Matplotlib.\n",
    "https://howtothink.readthedocs.io/en/latest/PvL_H.html"
   ]
  },
  {
   "cell_type": "markdown",
   "metadata": {
    "slideshow": {
     "slide_type": "slide"
    }
   },
   "source": [
    "# Vielen Dank! <a class=\"tocSkip\">\n",
    "    \n",
    "[**http://www.ebusiness-unibw.org/wiki/Teaching/PIP**](http://www.ebusiness-unibw.org/wiki/Teaching/PIP)"
   ]
  }
 ],
 "metadata": {
  "anaconda-cloud": {},
  "celltoolbar": "Slideshow",
  "kernelspec": {
   "display_name": "Python 3",
   "language": "python",
   "name": "python3"
  },
  "language_info": {
   "codemirror_mode": {
    "name": "ipython",
    "version": 3
   },
   "file_extension": ".py",
   "mimetype": "text/x-python",
   "name": "python",
   "nbconvert_exporter": "python",
   "pygments_lexer": "ipython3",
   "version": "3.7.1"
  },
  "rise": {
   "backimage": "background.png",
   "enable_chalkboard": false,
   "footer": "Univ.-Prof. Dr. Martin Hepp",
   "header": "Programmierung in Python",
   "showSlideNumber": "pdf",
   "slideNumber": "c/t",
   "theme": "chesterish",
   "transition": "none"
  },
  "toc": {
   "base_numbering": 1,
   "nav_menu": {},
   "number_sections": true,
   "sideBar": true,
   "skip_h1_title": false,
   "title_cell": "Table of Contents",
   "title_sidebar": "Inhaltsverzeichnis",
   "toc_cell": false,
   "toc_position": {},
   "toc_section_display": true,
   "toc_window_display": false
  }
 },
 "nbformat": 4,
 "nbformat_minor": 1
}
