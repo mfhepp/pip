{
 "cells": [
  {
   "cell_type": "markdown",
   "metadata": {
    "slideshow": {
     "slide_type": "slide"
    }
   },
   "source": [
    "# Programmierung in Python <span class=\"tocSkip\" />\n",
    "\n",
    "**Univ.-Prof. Dr. Martin Hepp,** Universität der Bundeswehr München\n",
    "<br /><br />\n",
    "\n",
    "## Einheit 3: Objektorientierte Programmierung in Python<span class=\"tocSkip\" />\n",
    "**Version: 2019-12-10** \n",
    "<br /><br />\n",
    "[**http://www.ebusiness-unibw.org/wiki/Teaching/PIP**](http://www.ebusiness-unibw.org/wiki/Teaching/PIP)"
   ]
  },
  {
   "cell_type": "markdown",
   "metadata": {
    "slideshow": {
     "slide_type": "slide"
    }
   },
   "source": [
    "# Funktionen und Modularisierung"
   ]
  },
  {
   "cell_type": "markdown",
   "metadata": {},
   "source": [
    "## Motivation\n",
    "- Programmteile, die oft wiederholt werden, sollten nicht mehrfach vorhanden sein.\n",
    "- Stattdessen sollte man sie über einen Namen aufrufen können.\n",
    "- Einen Programmteil, den man über seinen Namen aufrufen kann, nennt man in der Programmierung **Funktion** oder **Methode**.\n",
    "- Programme werden dadurch kürzer und übersichtlicher.\n",
    "- Vor allem aber muss man eine Routine nur noch an einem Ort ändern oder verbessern.\n",
    "- Dies entspricht dem \"DRY\"-Prinzip: Don't Repeat Yourself."
   ]
  },
  {
   "cell_type": "markdown",
   "metadata": {
    "slideshow": {
     "slide_type": "slide"
    }
   },
   "source": [
    "**Beispiel:** Im Folgenden wird zwei Mal 'Hallo UniBwM' ausgegeben:"
   ]
  },
  {
   "cell_type": "code",
   "execution_count": 1,
   "metadata": {
    "cell_style": "center",
    "slideshow": {
     "slide_type": "-"
    }
   },
   "outputs": [
    {
     "name": "stdout",
     "output_type": "stream",
     "text": [
      "Hallo UniBwM\n",
      "Hallo UniBwM\n"
     ]
    }
   ],
   "source": [
    "print('Hallo UniBwM')\n",
    "print('Hallo UniBwM')"
   ]
  },
  {
   "cell_type": "markdown",
   "metadata": {
    "cell_style": "center"
   },
   "source": [
    "Besser wäre es, wenn man diese Funktion ein Mal definieren und dann bei Bedarf aufrufen könnte."
   ]
  },
  {
   "cell_type": "markdown",
   "metadata": {
    "slideshow": {
     "slide_type": "slide"
    }
   },
   "source": [
    "## Definition von Funktionen\n",
    "Funktionen werden in Python mit dem Schlüsselwort `def` definiert [siehe auch [Python 3 Reference](https://docs.python.org/3/reference/compound_stmts.html#function-definitions)]."
   ]
  },
  {
   "cell_type": "code",
   "execution_count": 2,
   "metadata": {
    "cell_style": "center"
   },
   "outputs": [],
   "source": [
    "def say_hello():\n",
    "    print('Hallo UniBwM')"
   ]
  },
  {
   "cell_type": "markdown",
   "metadata": {
    "cell_style": "center"
   },
   "source": [
    "Anschließend kann man sie jederzeit über ihren Namen aufrufen:"
   ]
  },
  {
   "cell_type": "code",
   "execution_count": 3,
   "metadata": {
    "cell_style": "center"
   },
   "outputs": [
    {
     "name": "stdout",
     "output_type": "stream",
     "text": [
      "Hallo UniBwM\n",
      "Hallo UniBwM\n"
     ]
    }
   ],
   "source": [
    "say_hello()\n",
    "say_hello()"
   ]
  },
  {
   "cell_type": "markdown",
   "metadata": {},
   "source": [
    "Hier spart man zwar nicht wirklich viel an Programmlänge. Aber wenn man den Begrüßungstext ändern möchte, muss man das nur an einer Stelle tun."
   ]
  },
  {
   "cell_type": "markdown",
   "metadata": {
    "slideshow": {
     "slide_type": "slide"
    }
   },
   "source": [
    "## Übergabeparameter\n",
    "Eine Funktion kann so definiert werden, dass man ihr Werte als Parameter übergibt, die dann das Verhalten der \n",
    "Funktion verändern (vgl. [Python 3 Reference](https://docs.python.org/3/glossary.html#term-parameter)).\n",
    "\n",
    "Dazu definiert man in runden Klammern eine Liste von Namen, über die der jeweils übergebene Wert **innerhalb der Funktion** verfügbar ist.\n",
    "\n",
    "**Beispiel:**"
   ]
  },
  {
   "cell_type": "code",
   "execution_count": 4,
   "metadata": {},
   "outputs": [],
   "source": [
    "def say_text(text):\n",
    "    print(text)"
   ]
  },
  {
   "cell_type": "code",
   "execution_count": 5,
   "metadata": {},
   "outputs": [
    {
     "name": "stdout",
     "output_type": "stream",
     "text": [
      "Hallo UniBwM\n"
     ]
    }
   ],
   "source": [
    "say_text('Hallo UniBwM')"
   ]
  },
  {
   "cell_type": "markdown",
   "metadata": {
    "slideshow": {
     "slide_type": "slide"
    }
   },
   "source": [
    "Natürlich können auch mehrere Parameter übergeben werden:"
   ]
  },
  {
   "cell_type": "code",
   "execution_count": 6,
   "metadata": {
    "cell_style": "split"
   },
   "outputs": [],
   "source": [
    "def multipliziere(wert_1, wert_2):\n",
    "    \"\"\"Multipliziert <wert_1> mit <wert_2.\"\"\"\n",
    "    ergebnis = wert_1 * wert_2\n",
    "    print(ergebnis)"
   ]
  },
  {
   "cell_type": "code",
   "execution_count": 7,
   "metadata": {
    "cell_style": "split"
   },
   "outputs": [
    {
     "name": "stdout",
     "output_type": "stream",
     "text": [
      "15\n"
     ]
    }
   ],
   "source": [
    "# Aufruf mit Werten\n",
    "multipliziere(3, 5)"
   ]
  },
  {
   "cell_type": "code",
   "execution_count": 8,
   "metadata": {
    "cell_style": "split"
   },
   "outputs": [
    {
     "name": "stdout",
     "output_type": "stream",
     "text": [
      "15\n"
     ]
    }
   ],
   "source": [
    "# Aufruf mit Variablen\n",
    "a = 3\n",
    "b = 5\n",
    "multipliziere(a, b)"
   ]
  },
  {
   "cell_type": "markdown",
   "metadata": {
    "slideshow": {
     "slide_type": "slide"
    }
   },
   "source": [
    "### Arten von Parametern\n",
    "Beim Aufruf müssen die übergebenen Parameter zu den Parametern in der Definition passen. Die Parameter einer Funktion oder Methode nennt man auch Signatur. \n",
    "\n",
    "Hier gibt es mehrere Möglichkeiten.\n"
   ]
  },
  {
   "cell_type": "markdown",
   "metadata": {
    "slideshow": {
     "slide_type": "slide"
    }
   },
   "source": [
    "#### Positional Arguments\n",
    "Parameter können einfach über ihre Reihenfolge bestimmt sein (wie im obigen Beispiel).\n",
    "In den folgenden Beispielen ist der Wert, der beim Aufruf der Funktion `funktion` an erster Stelle übergeben wird, innerhalb der Funktion über den Namen `parameter_1` erreichbar und der Wert, der an zweiter Stelle übergeben wird, über den Namen `parameter_2`: "
   ]
  },
  {
   "cell_type": "code",
   "execution_count": 9,
   "metadata": {
    "cell_style": "split",
    "slideshow": {
     "slide_type": "-"
    }
   },
   "outputs": [
    {
     "name": "stdout",
     "output_type": "stream",
     "text": [
      "1\n",
      "5\n"
     ]
    }
   ],
   "source": [
    "def funktion(parameter_1, parameter_2):\n",
    "    print(parameter_1)\n",
    "    print(parameter_2)\n",
    "\n",
    "funktion(1, 5)"
   ]
  },
  {
   "cell_type": "code",
   "execution_count": 10,
   "metadata": {
    "cell_style": "split"
   },
   "outputs": [
    {
     "name": "stdout",
     "output_type": "stream",
     "text": [
      "5\n",
      "1\n"
     ]
    }
   ],
   "source": [
    "funktion(5, 1)"
   ]
  },
  {
   "cell_type": "markdown",
   "metadata": {
    "slideshow": {
     "slide_type": "slide"
    }
   },
   "source": [
    "**Die Reihenfolge bestimmt also die Zuordnung:**"
   ]
  },
  {
   "cell_type": "code",
   "execution_count": 11,
   "metadata": {
    "cell_style": "center",
    "slideshow": {
     "slide_type": "-"
    }
   },
   "outputs": [
    {
     "name": "stdout",
     "output_type": "stream",
     "text": [
      "5.0\n"
     ]
    }
   ],
   "source": [
    "def teile(dividend, divisor):\n",
    "    print(dividend / divisor)\n",
    "\n",
    "teile(15, 3)"
   ]
  },
  {
   "cell_type": "code",
   "execution_count": 12,
   "metadata": {
    "cell_style": "center"
   },
   "outputs": [
    {
     "name": "stdout",
     "output_type": "stream",
     "text": [
      "0.6\n"
     ]
    }
   ],
   "source": [
    "teile(3, 5)"
   ]
  },
  {
   "cell_type": "markdown",
   "metadata": {
    "slideshow": {
     "slide_type": "slide"
    }
   },
   "source": [
    "#### Keyword Arguments\n",
    "Alternativ kann man auch Namen für Parameter vorgeben, die dann verwendet werden müssen. Dies erlaubt auch Default-Werte."
   ]
  },
  {
   "cell_type": "code",
   "execution_count": 13,
   "metadata": {},
   "outputs": [],
   "source": [
    "def funktion(parameter_name='UniBwM'):\n",
    "    print(parameter_name)"
   ]
  },
  {
   "cell_type": "code",
   "execution_count": 14,
   "metadata": {
    "cell_style": "split"
   },
   "outputs": [
    {
     "name": "stdout",
     "output_type": "stream",
     "text": [
      "hallo\n"
     ]
    }
   ],
   "source": [
    "# Aufruf mit Parameter\n",
    "funktion(parameter_name='hallo')"
   ]
  },
  {
   "cell_type": "code",
   "execution_count": 15,
   "metadata": {
    "cell_style": "split",
    "slideshow": {
     "slide_type": "-"
    }
   },
   "outputs": [
    {
     "name": "stdout",
     "output_type": "stream",
     "text": [
      "TUM\n"
     ]
    }
   ],
   "source": [
    "# Variable text wird als Wert übergeben\n",
    "text = 'TUM'\n",
    "funktion(parameter_name=text)"
   ]
  },
  {
   "cell_type": "code",
   "execution_count": 16,
   "metadata": {
    "slideshow": {
     "slide_type": "-"
    }
   },
   "outputs": [
    {
     "name": "stdout",
     "output_type": "stream",
     "text": [
      "UniBwM\n"
     ]
    }
   ],
   "source": [
    "# Wenn der Parameter fehlt, wird der Default-Wert verwendet:\n",
    "funktion()"
   ]
  },
  {
   "cell_type": "markdown",
   "metadata": {
    "slideshow": {
     "slide_type": "slide"
    }
   },
   "source": [
    "**Keyword Arguments können auch über ihre Position angesprochen werden:**"
   ]
  },
  {
   "cell_type": "code",
   "execution_count": 17,
   "metadata": {},
   "outputs": [
    {
     "name": "stdout",
     "output_type": "stream",
     "text": [
      "Guten Tag\n"
     ]
    }
   ],
   "source": [
    "funktion('Guten Tag')"
   ]
  },
  {
   "cell_type": "markdown",
   "metadata": {
    "slideshow": {
     "slide_type": "slide"
    }
   },
   "source": [
    "#### Variable Anzahl an Positional Arguments (nicht klausurrelevant)\n",
    "Es ist auch möglich, eine flexible Anzahl an Positional Arguments zuzulassen. Dazu fügt man einen Parameternamen mit vorgestelltem Sternchen ein, wie z.B. `*weitere_parameter`. Dann sind alle weiteren übergebenen Parameter im Inneren der Funktion über ein Tupel mit dem Namen `weitere_parameter` ansprechbar.\n",
    "\n",
    "Die folgende Funktion erfordert mindestens ein Parameter als Nachnamen und 0..n weitere Parameter als Vornamen."
   ]
  },
  {
   "cell_type": "code",
   "execution_count": 18,
   "metadata": {},
   "outputs": [],
   "source": [
    "def schreibe_namen(nachname, *vornamen):\n",
    "    for vorname in vornamen:\n",
    "        print(vorname, end=' ')  # end=' ' unterdrückt den Zeilenumbruch\n",
    "    print(nachname)"
   ]
  },
  {
   "cell_type": "code",
   "execution_count": 19,
   "metadata": {},
   "outputs": [
    {
     "name": "stdout",
     "output_type": "stream",
     "text": [
      "Müller\n"
     ]
    }
   ],
   "source": [
    "schreibe_namen('Müller')"
   ]
  },
  {
   "cell_type": "code",
   "execution_count": 20,
   "metadata": {},
   "outputs": [
    {
     "name": "stdout",
     "output_type": "stream",
     "text": [
      "Karl Meier\n"
     ]
    }
   ],
   "source": [
    "schreibe_namen('Meier', 'Karl')"
   ]
  },
  {
   "cell_type": "code",
   "execution_count": 21,
   "metadata": {},
   "outputs": [
    {
     "name": "stdout",
     "output_type": "stream",
     "text": [
      "Fritz Walther Schmidt\n"
     ]
    }
   ],
   "source": [
    "schreibe_namen('Schmidt', 'Fritz', 'Walther')"
   ]
  },
  {
   "cell_type": "code",
   "execution_count": 22,
   "metadata": {},
   "outputs": [
    {
     "name": "stdout",
     "output_type": "stream",
     "text": [
      "Karl-Theodor Maria Nikolaus Johann Jacob Philipp Franz Joseph Sylvester Freiherr von und zu Guttenberg\n"
     ]
    }
   ],
   "source": [
    "schreibe_namen('Freiherr von und zu Guttenberg', 'Karl-Theodor', 'Maria', 'Nikolaus', 'Johann', 'Jacob', \n",
    "               'Philipp', 'Franz', 'Joseph', 'Sylvester')"
   ]
  },
  {
   "cell_type": "markdown",
   "metadata": {
    "slideshow": {
     "slide_type": "slide"
    }
   },
   "source": [
    "#### Variable Anzahl an Keyword Arguments (nicht klausurrelevant)\n",
    "Es ist ebenso möglich, eine flexible Anzahl an Keyword Arguments zuzulassen. Dazu fügt man einen Parameternamen mit vorgestelltem Doppelstern ein, wie z.B. `**weitere_werte`. Dann sind alle weiteren übergebenen Parameter im Inneren der Funktion über ein Dictionary mit dem Namen `weitere_werte` ansprechbar.\n",
    "\n",
    "Die folgende Funktion erfordert mindestens ein Parameter als Kundennummer und 0..n weitere Paare aus Keyword und Wert als zusätzliche Parameter."
   ]
  },
  {
   "cell_type": "code",
   "execution_count": 23,
   "metadata": {},
   "outputs": [],
   "source": [
    "def drucken_kundendaten(kundennummer, **eigenschaften):\n",
    "    print('Kundennummer:', kundennummer)\n",
    "    for key in eigenschaften:\n",
    "        print(key, '=', eigenschaften[key])"
   ]
  },
  {
   "cell_type": "code",
   "execution_count": 24,
   "metadata": {},
   "outputs": [
    {
     "name": "stdout",
     "output_type": "stream",
     "text": [
      "Kundennummer: 1234\n",
      "name = Meier\n",
      "vorname = Franz\n",
      "umsatz = 304.99\n",
      "wichtiger_kunde = True\n"
     ]
    }
   ],
   "source": [
    "drucken_kundendaten(1234, name='Meier', vorname='Franz', umsatz=304.99, wichtiger_kunde=True)"
   ]
  },
  {
   "cell_type": "markdown",
   "metadata": {
    "slideshow": {
     "slide_type": "slide"
    }
   },
   "source": [
    "#### Weitere Informationen zu Parametern in Funktionen (nicht klausurrelevant)\n",
    "\n",
    "Siehe https://docs.python.org/3.7/tutorial/controlflow.html#more-on-defining-functions."
   ]
  },
  {
   "cell_type": "markdown",
   "metadata": {
    "slideshow": {
     "slide_type": "skip"
    }
   },
   "source": [
    "### Erweiterungen ab Python 3.8: Type Hints etc.\n",
    "Nicht relevant im HT 2019"
   ]
  },
  {
   "cell_type": "markdown",
   "metadata": {
    "slideshow": {
     "slide_type": "slide"
    }
   },
   "source": [
    "## Rückgabewerte\n",
    "Eine Funktion kann einen Wert als Ergebnis zurückliefern. Dazu dient das Schlüsselwort `return`.\n",
    "\n",
    "Dann muss man den Aufruf der Funktion einer Variable zuweisen, ausgeben oder auf andere Weise in einem Ausdruck verwenden:"
   ]
  },
  {
   "cell_type": "code",
   "execution_count": 25,
   "metadata": {},
   "outputs": [
    {
     "name": "stdout",
     "output_type": "stream",
     "text": [
      "20\n",
      "20\n"
     ]
    }
   ],
   "source": [
    "def verdopple(parameter_1):\n",
    "    ergebnis = parameter_1 * 2\n",
    "    return ergebnis\n",
    "\n",
    "print(verdopple(10))\n",
    "mein_wert = verdopple(10)\n",
    "print(mein_wert)"
   ]
  },
  {
   "cell_type": "markdown",
   "metadata": {
    "slideshow": {
     "slide_type": "slide"
    }
   },
   "source": [
    "Der Aufruf einer Funktion mit Rückgabewert kann wie jeder andere Wert oder Ausdruck verwendet werden."
   ]
  },
  {
   "cell_type": "code",
   "execution_count": 26,
   "metadata": {
    "cell_style": "split"
   },
   "outputs": [
    {
     "name": "stdout",
     "output_type": "stream",
     "text": [
      "16\n"
     ]
    }
   ],
   "source": [
    "print(verdopple(verdopple(4)))"
   ]
  },
  {
   "cell_type": "code",
   "execution_count": 27,
   "metadata": {
    "cell_style": "split"
   },
   "outputs": [
    {
     "name": "stdout",
     "output_type": "stream",
     "text": [
      "23.799999999999997\n"
     ]
    }
   ],
   "source": [
    "print(verdopple(10) * 1.19)"
   ]
  },
  {
   "cell_type": "markdown",
   "metadata": {
    "slideshow": {
     "slide_type": "slide"
    }
   },
   "source": [
    "Wenn man mehrere Werte zurückliefern möchte, muss man einen Datentyp verwenden, der Unterelemente enthält.\n",
    "Beispiele:\n",
    "- Tupel\n",
    "- Dictionary\n",
    "- Benutzerdefinierte Objekte"
   ]
  },
  {
   "cell_type": "code",
   "execution_count": 28,
   "metadata": {
    "slideshow": {
     "slide_type": "-"
    }
   },
   "outputs": [
    {
     "name": "stdout",
     "output_type": "stream",
     "text": [
      "(8, 12)\n",
      "8 12\n"
     ]
    }
   ],
   "source": [
    "def zwei_werte(parameter_1):\n",
    "    wert_1 = parameter_1 * 2\n",
    "    wert_2 = parameter_1 * 3\n",
    "    return (wert_1, wert_2)\n",
    "\n",
    "ergebnis = zwei_werte(4)\n",
    "print(ergebnis)\n",
    "a, b = ergebnis\n",
    "print(a, b)"
   ]
  },
  {
   "cell_type": "markdown",
   "metadata": {
    "slideshow": {
     "slide_type": "slide"
    }
   },
   "source": [
    "**Übungsaufgabe:** Schreiben Sie eine Funktion, die die Quersumme einer als Parameter übergebenen Ganzzahl zurückliefert."
   ]
  },
  {
   "cell_type": "code",
   "execution_count": 29,
   "metadata": {},
   "outputs": [
    {
     "name": "stdout",
     "output_type": "stream",
     "text": [
      "12\n"
     ]
    }
   ],
   "source": [
    "def quersumme(zahl):\n",
    "    zahl = str(zahl)\n",
    "    ergebnis = 0\n",
    "    for ziffer in zahl:\n",
    "        ergebnis = ergebnis + int(ziffer)\n",
    "    return ergebnis\n",
    "\n",
    "print(quersumme(426))"
   ]
  },
  {
   "cell_type": "markdown",
   "metadata": {
    "slideshow": {
     "slide_type": "slide"
    }
   },
   "source": [
    "## Dokumentation von Funktionen (nicht klausurrelevant)\n",
    "Jede Funktion sollte eine kurze Beschreibung und Angaben über Aufruf- und Rückgabeparameter enthalten.\n",
    "\n",
    "Eine genaue Beschreibung dieser 'docstrings' finden Sie unter den folgenden Links:\n",
    "- https://docs.python.org/3/tutorial/controlflow.html#documentation-strings\n",
    "- https://www.python.org/dev/peps/pep-0257/\n",
    "- http://google.github.io/styleguide/pyguide.html#383-functions-and-methods"
   ]
  },
  {
   "cell_type": "markdown",
   "metadata": {
    "slideshow": {
     "slide_type": "slide"
    }
   },
   "source": [
    "**Beispiel:**"
   ]
  },
  {
   "cell_type": "code",
   "execution_count": 30,
   "metadata": {},
   "outputs": [],
   "source": [
    "def quersumme(zahl):\n",
    "    \"\"\"Berechnet die Quersumme einer Ganzzahl.\n",
    "    \n",
    "    Diese Funktion addiert die Ziffernwerte der übergebenen Ganzzahl.\n",
    "    \n",
    "    Args:\n",
    "        zahl: Die zu verwendende Ganzzahl.\n",
    "        \n",
    "    Returns:\n",
    "        Die Quersumme als Ganzzahl.\n",
    "    \"\"\"\n",
    "    zahl = str(zahl)\n",
    "    ergebnis = 0\n",
    "    for ziffer in zahl:\n",
    "        ergebnis = ergebnis + int(ziffer)\n",
    "    return ergebnis"
   ]
  },
  {
   "cell_type": "markdown",
   "metadata": {
    "slideshow": {
     "slide_type": "slide"
    }
   },
   "source": [
    "# Bibliotheken und Import von Modulen (nicht klausurrelevant)\n",
    "\n",
    "In Python können Module mit vordefinierten Funktionen und Klassen (s.u.) bei Bedarf zum eigenen Programm hinzugefügt werden [[Python 3 Reference](https://docs.python.org/3/tutorial/modules.html)]. \n",
    "\n",
    "## Import von Modulen mit `import`\n",
    "Durch die Anweisung `import <modulname>` wird das Modul `<modulname>` geladen. Danach können alle Namen aus diesem Modul über `<modulname>.<lokaler_name>` angesprochen werden."
   ]
  },
  {
   "cell_type": "markdown",
   "metadata": {
    "slideshow": {
     "slide_type": "slide"
    }
   },
   "source": [
    "**Beispiel:**"
   ]
  },
  {
   "cell_type": "code",
   "execution_count": 31,
   "metadata": {
    "slideshow": {
     "slide_type": "-"
    }
   },
   "outputs": [
    {
     "name": "stdout",
     "output_type": "stream",
     "text": [
      "3.141592653589793\n"
     ]
    }
   ],
   "source": [
    "import math\n",
    "\n",
    "# Im Modul math gibt es einen Wert pi\n",
    "print(math.pi)"
   ]
  },
  {
   "cell_type": "code",
   "execution_count": 32,
   "metadata": {},
   "outputs": [
    {
     "name": "stdout",
     "output_type": "stream",
     "text": [
      "4\n"
     ]
    }
   ],
   "source": [
    "# Und eine Funktion ceil(x), die die kleinste Ganzzahl zurückliefert, die größer ist als x\n",
    "print(math.ceil(3.14))"
   ]
  },
  {
   "cell_type": "markdown",
   "metadata": {},
   "source": [
    "Für weitere Informationen, siehe [hier](https://docs.python.org/3/tutorial/modules.html). Die vollständigen technischen Details sind etwas kompliziert und [hier](https://docs.python.org/3/reference/import.html) beschrieben."
   ]
  },
  {
   "cell_type": "markdown",
   "metadata": {
    "slideshow": {
     "slide_type": "slide"
    }
   },
   "source": [
    "## Standard-Bibliothek von Python\n",
    "Python enthält eine sehr reichhaltige Bibliothek an vordefinierten Funktionen und Klassen. Für eine vollständige Liste, siehe [The Python Standard Library](https://docs.python.org/3/library/index.html)."
   ]
  },
  {
   "cell_type": "markdown",
   "metadata": {
    "slideshow": {
     "slide_type": "slide"
    }
   },
   "source": [
    "## Vorinstallierte Bibliotheken in Anaconda\n",
    "Die Anaconda-Distribution enthält viele weitere, vorinstallierte Module; diese variieren zum Teile je nach Betriebssystem / Plattform. Eine Liste ist [hier](https://docs.anaconda.com/anaconda/packages/pkg-docs/) verfügbar."
   ]
  },
  {
   "cell_type": "markdown",
   "metadata": {
    "slideshow": {
     "slide_type": "slide"
    }
   },
   "source": [
    "## Installation zusätzlicher Bibliotheken\n",
    "Dieses Thema wird im Rahmen der Vorlesung nicht behandelt und hier nur der Vollständigkeit halber erwähnt. Für eine Liste extern verfügbarer Module, siehe https://pypi.org/."
   ]
  },
  {
   "cell_type": "markdown",
   "metadata": {
    "slideshow": {
     "slide_type": "slide"
    }
   },
   "source": [
    "# Objektorientierung als Programmierparadigma\n",
    "## Motivation\n",
    "## Klassen\n",
    "## Instanzen\n",
    "## Methoden\n",
    "## Beispiel"
   ]
  },
  {
   "cell_type": "markdown",
   "metadata": {
    "slideshow": {
     "slide_type": "slide"
    }
   },
   "source": [
    "\n",
    "# Definition einer Klasse (nicht klausurrelevant)\n",
    "https://docs.python.org/3/tutorial/classes.html"
   ]
  },
  {
   "cell_type": "markdown",
   "metadata": {
    "slideshow": {
     "slide_type": "slide"
    }
   },
   "source": [
    "## Grundgerüst\n",
    "- Klasse\n",
    "- Parameter\n",
    "- DOCSTRING\n",
    "- Konstruktor-Methode\n",
    "- Klassenmethoden\n",
    "- Klassenvariablen\n",
    "- Instanzenvariablen"
   ]
  },
  {
   "cell_type": "markdown",
   "metadata": {
    "slideshow": {
     "slide_type": "slide"
    }
   },
   "source": [
    "## Variablen auf Instanzebene\n",
    "Dieses Thema wird im HT 2019 nicht behandelt."
   ]
  },
  {
   "cell_type": "markdown",
   "metadata": {
    "slideshow": {
     "slide_type": "slide"
    }
   },
   "source": [
    "## Konstruktor-Methode\n",
    "Dieses Thema wird im HT 2019 nicht behandelt."
   ]
  },
  {
   "cell_type": "markdown",
   "metadata": {
    "slideshow": {
     "slide_type": "slide"
    }
   },
   "source": [
    "## Methoden auf Klassenebene\n",
    "Dieses Thema wird im HT 2019 nicht behandelt."
   ]
  },
  {
   "cell_type": "markdown",
   "metadata": {
    "slideshow": {
     "slide_type": "slide"
    }
   },
   "source": [
    "# Quellenangaben und weiterführende Literatur\n",
    "\\[Pyt2019\\]&nbsp;&nbsp;&nbsp;&nbsp;Python Software Foundation. Python 3.8.0 Documentation. [https://docs.python.org/3/](https://docs.python.org/3/)."
   ]
  },
  {
   "cell_type": "markdown",
   "metadata": {
    "slideshow": {
     "slide_type": "slide"
    }
   },
   "source": [
    "# Vielen Dank! <a class=\"tocSkip\">\n",
    "    \n",
    "[**http://www.ebusiness-unibw.org/wiki/Teaching/PIP**](http://www.ebusiness-unibw.org/wiki/Teaching/PIP)"
   ]
  }
 ],
 "metadata": {
  "anaconda-cloud": {},
  "celltoolbar": "Slideshow",
  "kernelspec": {
   "display_name": "Python 3",
   "language": "python",
   "name": "python3"
  },
  "language_info": {
   "codemirror_mode": {
    "name": "ipython",
    "version": 3
   },
   "file_extension": ".py",
   "mimetype": "text/x-python",
   "name": "python",
   "nbconvert_exporter": "python",
   "pygments_lexer": "ipython3",
   "version": "3.7.1"
  },
  "rise": {
   "backimage": "background.png",
   "center": false,
   "enable_chalkboard": false,
   "footer": "Univ.-Prof. Dr. Martin Hepp, martin.hepp@unibw.de",
   "header": "Programmierung in Python",
   "showSlideNumber": "pdf",
   "slideNumber": "c/t",
   "theme": "chesterish",
   "transition": "none"
  },
  "toc": {
   "base_numbering": 1,
   "nav_menu": {},
   "number_sections": true,
   "sideBar": true,
   "skip_h1_title": false,
   "title_cell": "Table of Contents",
   "title_sidebar": "Inhaltsverzeichnis",
   "toc_cell": false,
   "toc_position": {
    "height": "calc(100% - 180px)",
    "left": "10px",
    "top": "150px",
    "width": "334.5px"
   },
   "toc_section_display": true,
   "toc_window_display": true
  }
 },
 "nbformat": 4,
 "nbformat_minor": 1
}
