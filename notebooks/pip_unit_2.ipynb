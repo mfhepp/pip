{
 "cells": [
  {
   "cell_type": "markdown",
   "metadata": {},
   "source": [
    "# Unit 2: Kontrollflussstrukturen"
   ]
  },
  {
   "cell_type": "markdown",
   "metadata": {},
   "source": [
    "## Sequenz"
   ]
  },
  {
   "cell_type": "code",
   "execution_count": 12,
   "metadata": {},
   "outputs": [
    {
     "name": "stdout",
     "output_type": "stream",
     "text": [
      "Erste Anweisung\n",
      "Zweite Anweisung\n",
      "Dritte Anweisung\n"
     ]
    }
   ],
   "source": [
    "print('Erste Anweisung')\n",
    "print('Zweite Anweisung')\n",
    "print('Dritte Anweisung')\n"
   ]
  },
  {
   "cell_type": "markdown",
   "metadata": {},
   "source": [
    "## Schleifen"
   ]
  },
  {
   "cell_type": "markdown",
   "metadata": {},
   "source": [
    "### Grundlagen: Schleifen mit `for`"
   ]
  },
  {
   "cell_type": "code",
   "execution_count": 3,
   "metadata": {},
   "outputs": [
    {
     "name": "stdout",
     "output_type": "stream",
     "text": [
      "1\n",
      "2\n",
      "3\n",
      "4\n"
     ]
    }
   ],
   "source": [
    "# Schleife für Liste mit Zahlen\n",
    "zahlenreihe = [1, 2, 3, 4]\n",
    "for zahl in zahlenreihe:\n",
    "    print(zahl)\n",
    "    "
   ]
  },
  {
   "cell_type": "code",
   "execution_count": 4,
   "metadata": {},
   "outputs": [
    {
     "name": "stdout",
     "output_type": "stream",
     "text": [
      "Hallo, Peter!\n",
      "Hallo, Paul!\n",
      "Hallo, Mary!\n"
     ]
    }
   ],
   "source": [
    "# Schleife über Liste mit Zeichenketten\n",
    "freunde = ['Peter', 'Paul', 'Mary']\n",
    "for person in freunde:\n",
    "    print('Hallo, ' + person + '!')"
   ]
  },
  {
   "cell_type": "code",
   "execution_count": 2,
   "metadata": {
    "cell_style": "split"
   },
   "outputs": [
    {
     "name": "stdout",
     "output_type": "stream",
     "text": [
      "U\n",
      "n\n",
      "i\n",
      "B\n",
      "w\n",
      "M\n"
     ]
    }
   ],
   "source": [
    "# Schleife über Zeichen in Zeichenkette\n",
    "text = 'UniBwM'\n",
    "for char in text:\n",
    "    print(char)"
   ]
  },
  {
   "cell_type": "code",
   "execution_count": 17,
   "metadata": {},
   "outputs": [
    {
     "name": "stdout",
     "output_type": "stream",
     "text": [
      "1\n",
      "Hallo\n",
      "2\n",
      "Hallo\n",
      "3\n",
      "Hallo\n",
      "4\n",
      "Hallo\n"
     ]
    }
   ],
   "source": [
    "# Mehrere Anweisungen innerhalb der Schleife\n",
    "for zahl in [1, 2, 3, 4]:\n",
    "    print(zahl)\n",
    "    print('Hallo')"
   ]
  },
  {
   "cell_type": "code",
   "execution_count": 18,
   "metadata": {},
   "outputs": [
    {
     "name": "stdout",
     "output_type": "stream",
     "text": [
      "1\n",
      "2\n",
      "3\n",
      "4\n",
      "Hallo\n"
     ]
    }
   ],
   "source": [
    "# Was passiert hier?\n",
    "for zahl in [1, 2, 3, 4]:\n",
    "    print(zahl)\n",
    "print('Hallo')"
   ]
  },
  {
   "cell_type": "markdown",
   "metadata": {},
   "source": [
    "### `range` als Iterable\n",
    "Manchmal möchte man eine Schleife auf eine bestimmte Folge an Zahlen anwenden."
   ]
  },
  {
   "cell_type": "code",
   "execution_count": 3,
   "metadata": {},
   "outputs": [
    {
     "name": "stdout",
     "output_type": "stream",
     "text": [
      "0\n",
      "1\n",
      "2\n",
      "3\n",
      "4\n"
     ]
    }
   ],
   "source": [
    "for zahl in range(5):\n",
    "    print(zahl)"
   ]
  },
  {
   "cell_type": "code",
   "execution_count": 4,
   "metadata": {},
   "outputs": [
    {
     "name": "stdout",
     "output_type": "stream",
     "text": [
      "4\n",
      "5\n",
      "6\n",
      "7\n",
      "8\n",
      "9\n"
     ]
    }
   ],
   "source": [
    "for zahl in range(4, 10):\n",
    "    print(zahl)"
   ]
  },
  {
   "cell_type": "code",
   "execution_count": 9,
   "metadata": {},
   "outputs": [
    {
     "name": "stdout",
     "output_type": "stream",
     "text": [
      "0\n",
      "2\n",
      "4\n",
      "6\n"
     ]
    }
   ],
   "source": [
    "for zahl in range(0, 8, 2):\n",
    "    print(zahl)\n"
   ]
  },
  {
   "cell_type": "code",
   "execution_count": 11,
   "metadata": {},
   "outputs": [
    {
     "name": "stdout",
     "output_type": "stream",
     "text": [
      "5\n",
      "4\n",
      "3\n",
      "2\n",
      "1\n"
     ]
    }
   ],
   "source": [
    "for zahl in range(5, 0, -1):\n",
    "    print(zahl)"
   ]
  },
  {
   "cell_type": "markdown",
   "metadata": {},
   "source": [
    "### Übung\n",
    "Geben Sie alle Zweierpotenzen von $2^0$ bis $2^7$ aus."
   ]
  },
  {
   "cell_type": "code",
   "execution_count": 14,
   "metadata": {},
   "outputs": [
    {
     "name": "stdout",
     "output_type": "stream",
     "text": [
      "2 hoch 0 ist gleich 1\n",
      "2 hoch 1 ist gleich 2\n",
      "2 hoch 2 ist gleich 4\n",
      "2 hoch 3 ist gleich 8\n",
      "2 hoch 4 ist gleich 16\n",
      "2 hoch 5 ist gleich 32\n",
      "2 hoch 6 ist gleich 64\n",
      "2 hoch 7 ist gleich 128\n"
     ]
    }
   ],
   "source": [
    "for exponent in range(0, 8):\n",
    "    print('2 hoch', exponent, 'ist gleich', 2**exponent)"
   ]
  },
  {
   "cell_type": "markdown",
   "metadata": {},
   "source": [
    "### Schleifen mit `while`"
   ]
  },
  {
   "cell_type": "code",
   "execution_count": 19,
   "metadata": {},
   "outputs": [
    {
     "name": "stdout",
     "output_type": "stream",
     "text": [
      "1\n",
      "2\n",
      "4\n",
      "8\n",
      "16\n",
      "32\n",
      "64\n"
     ]
    }
   ],
   "source": [
    "obere_schranke = 100\n",
    "aktueller_wert = 1\n",
    "while aktueller_wert < obere_schranke:\n",
    "    print(aktueller_wert)\n",
    "    aktueller_wert = aktueller_wert * 2"
   ]
  },
  {
   "cell_type": "markdown",
   "metadata": {},
   "source": [
    "## Verzweigungen"
   ]
  },
  {
   "cell_type": "code",
   "execution_count": 12,
   "metadata": {},
   "outputs": [
    {
     "name": "stdout",
     "output_type": "stream",
     "text": [
      "Die Zahl -2 ist negativ.\n",
      "Die Zahl -1 ist negativ.\n",
      "Die Zahl ist null.\n",
      "Die Zahl 1 ist positiv.\n",
      "Die Zahl 2 ist positiv.\n",
      "Die Zahl 3 ist positiv.\n",
      "Die Zahl 4 ist positiv.\n",
      "Die Zahl 5 ist positiv.\n",
      "Die Zahl 6 ist positiv.\n",
      "Die Zahl 7 ist positiv.\n"
     ]
    }
   ],
   "source": [
    "# Verzweigungen\n",
    "zahlenreihe = [-2, -1, 0, 1, 2, 3, 4, 5, 6, 7]\n",
    "for zahl in zahlenreihe:\n",
    "    if zahl > 0:\n",
    "        print('Die Zahl ' + str(zahl) + ' ist positiv.')\n",
    "    elif zahl <0:\n",
    "        print('Die Zahl ' + str(zahl) + ' ist negativ.')\n",
    "    else:\n",
    "        print('Die Zahl ist null.')\n",
    "    "
   ]
  },
  {
   "cell_type": "code",
   "execution_count": null,
   "metadata": {
    "collapsed": true
   },
   "outputs": [],
   "source": [
    "Beispiel: Sparbuch"
   ]
  },
  {
   "cell_type": "markdown",
   "metadata": {
    "collapsed": true
   },
   "source": [
    "## Kombinationen"
   ]
  },
  {
   "cell_type": "markdown",
   "metadata": {},
   "source": [
    "### Schleifen in Schleifen"
   ]
  },
  {
   "cell_type": "code",
   "execution_count": 24,
   "metadata": {},
   "outputs": [
    {
     "name": "stdout",
     "output_type": "stream",
     "text": [
      "1\t2\t3\t4\t5\t6\t7\t8\t9\t10\t\n",
      "2\t4\t6\t8\t10\t12\t14\t16\t18\t20\t\n",
      "3\t6\t9\t12\t15\t18\t21\t24\t27\t30\t\n",
      "4\t8\t12\t16\t20\t24\t28\t32\t36\t40\t\n",
      "5\t10\t15\t20\t25\t30\t35\t40\t45\t50\t\n",
      "6\t12\t18\t24\t30\t36\t42\t48\t54\t60\t\n",
      "7\t14\t21\t28\t35\t42\t49\t56\t63\t70\t\n",
      "8\t16\t24\t32\t40\t48\t56\t64\t72\t80\t\n",
      "9\t18\t27\t36\t45\t54\t63\t72\t81\t90\t\n",
      "10\t20\t30\t40\t50\t60\t70\t80\t90\t100\t\n"
     ]
    }
   ],
   "source": [
    "for faktor_1 in range(1, 11):\n",
    "    for faktor_2 in range(1, 11):\n",
    "        print(faktor_1 * faktor_2, end = '\\t')\n",
    "    print()"
   ]
  },
  {
   "cell_type": "code",
   "execution_count": null,
   "metadata": {},
   "outputs": [],
   "source": []
  }
 ],
 "metadata": {
  "anaconda-cloud": {},
  "kernelspec": {
   "display_name": "Python 3",
   "language": "python",
   "name": "python3"
  },
  "language_info": {
   "codemirror_mode": {
    "name": "ipython",
    "version": 3
   },
   "file_extension": ".py",
   "mimetype": "text/x-python",
   "name": "python",
   "nbconvert_exporter": "python",
   "pygments_lexer": "ipython3",
   "version": "3.7.1"
  },
  "toc": {
   "base_numbering": 1,
   "nav_menu": {},
   "number_sections": true,
   "sideBar": true,
   "skip_h1_title": true,
   "title_cell": "Table of Contents",
   "title_sidebar": "Contents",
   "toc_cell": false,
   "toc_position": {},
   "toc_section_display": true,
   "toc_window_display": true
  }
 },
 "nbformat": 4,
 "nbformat_minor": 1
}
