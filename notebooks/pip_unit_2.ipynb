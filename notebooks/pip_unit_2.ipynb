{
 "cells": [
  {
   "cell_type": "markdown",
   "metadata": {
    "slideshow": {
     "slide_type": "slide"
    }
   },
   "source": [
    "# Programmierung in Python  <a class=\"tocSkip\">\n",
    "\n",
    "## Kontrollflussstrukturen <a class=\"tocSkip\">\n"
   ]
  },
  {
   "cell_type": "markdown",
   "metadata": {
    "slideshow": {
     "slide_type": "slide"
    }
   },
   "source": [
    "# Sequenz"
   ]
  },
  {
   "cell_type": "code",
   "execution_count": 12,
   "metadata": {},
   "outputs": [
    {
     "name": "stdout",
     "output_type": "stream",
     "text": [
      "Erste Anweisung\n",
      "Zweite Anweisung\n",
      "Dritte Anweisung\n"
     ]
    }
   ],
   "source": [
    "print('Erste Anweisung')\n",
    "print('Zweite Anweisung')\n",
    "print('Dritte Anweisung')\n"
   ]
  },
  {
   "cell_type": "markdown",
   "metadata": {
    "slideshow": {
     "slide_type": "slide"
    }
   },
   "source": [
    "# Schleifen"
   ]
  },
  {
   "cell_type": "markdown",
   "metadata": {
    "slideshow": {
     "slide_type": "fragment"
    }
   },
   "source": [
    "## Grundlagen: Schleifen mit `for`"
   ]
  },
  {
   "cell_type": "code",
   "execution_count": 3,
   "metadata": {},
   "outputs": [
    {
     "name": "stdout",
     "output_type": "stream",
     "text": [
      "1\n",
      "2\n",
      "3\n",
      "4\n"
     ]
    }
   ],
   "source": [
    "# Schleife für Liste mit Zahlen\n",
    "zahlenreihe = [1, 2, 3, 4]\n",
    "for zahl in zahlenreihe:\n",
    "    print(zahl)\n",
    "    "
   ]
  },
  {
   "cell_type": "code",
   "execution_count": 4,
   "metadata": {
    "slideshow": {
     "slide_type": "slide"
    }
   },
   "outputs": [
    {
     "name": "stdout",
     "output_type": "stream",
     "text": [
      "Hallo, Peter!\n",
      "Hallo, Paul!\n",
      "Hallo, Mary!\n"
     ]
    }
   ],
   "source": [
    "# Schleife über Liste mit Zeichenketten\n",
    "freunde = ['Peter', 'Paul', 'Mary']\n",
    "for person in freunde:\n",
    "    print('Hallo, ' + person + '!')"
   ]
  },
  {
   "cell_type": "code",
   "execution_count": 2,
   "metadata": {
    "cell_style": "center",
    "slideshow": {
     "slide_type": "slide"
    }
   },
   "outputs": [
    {
     "name": "stdout",
     "output_type": "stream",
     "text": [
      "U\n",
      "n\n",
      "i\n",
      "B\n",
      "w\n",
      "M\n"
     ]
    }
   ],
   "source": [
    "# Schleife über Zeichen in Zeichenkette\n",
    "text = 'UniBwM'\n",
    "for char in text:\n",
    "    print(char)"
   ]
  },
  {
   "cell_type": "code",
   "execution_count": 17,
   "metadata": {
    "slideshow": {
     "slide_type": "slide"
    }
   },
   "outputs": [
    {
     "name": "stdout",
     "output_type": "stream",
     "text": [
      "1\n",
      "Hallo\n",
      "2\n",
      "Hallo\n",
      "3\n",
      "Hallo\n",
      "4\n",
      "Hallo\n"
     ]
    }
   ],
   "source": [
    "# Mehrere Anweisungen innerhalb der Schleife\n",
    "for zahl in [1, 2, 3, 4]:\n",
    "    print(zahl)\n",
    "    print('Hallo')"
   ]
  },
  {
   "cell_type": "code",
   "execution_count": 18,
   "metadata": {
    "slideshow": {
     "slide_type": "slide"
    }
   },
   "outputs": [
    {
     "name": "stdout",
     "output_type": "stream",
     "text": [
      "1\n",
      "2\n",
      "3\n",
      "4\n",
      "Hallo\n"
     ]
    }
   ],
   "source": [
    "# Was passiert hier?\n",
    "for zahl in [1, 2, 3, 4]:\n",
    "    print(zahl)\n",
    "print('Hallo')"
   ]
  },
  {
   "cell_type": "markdown",
   "metadata": {
    "slideshow": {
     "slide_type": "slide"
    }
   },
   "source": [
    "## `range` als Iterable\n",
    "Manchmal möchte man eine Schleife auf eine bestimmte Folge an Zahlen anwenden."
   ]
  },
  {
   "cell_type": "code",
   "execution_count": 3,
   "metadata": {},
   "outputs": [
    {
     "name": "stdout",
     "output_type": "stream",
     "text": [
      "0\n",
      "1\n",
      "2\n",
      "3\n",
      "4\n"
     ]
    }
   ],
   "source": [
    "for zahl in range(5):\n",
    "    print(zahl)"
   ]
  },
  {
   "cell_type": "code",
   "execution_count": 4,
   "metadata": {
    "slideshow": {
     "slide_type": "slide"
    }
   },
   "outputs": [
    {
     "name": "stdout",
     "output_type": "stream",
     "text": [
      "4\n",
      "5\n",
      "6\n",
      "7\n",
      "8\n",
      "9\n"
     ]
    }
   ],
   "source": [
    "for zahl in range(4, 10):\n",
    "    print(zahl)"
   ]
  },
  {
   "cell_type": "code",
   "execution_count": 9,
   "metadata": {
    "slideshow": {
     "slide_type": "slide"
    }
   },
   "outputs": [
    {
     "name": "stdout",
     "output_type": "stream",
     "text": [
      "0\n",
      "2\n",
      "4\n",
      "6\n"
     ]
    }
   ],
   "source": [
    "for zahl in range(0, 8, 2):\n",
    "    print(zahl)\n"
   ]
  },
  {
   "cell_type": "code",
   "execution_count": 11,
   "metadata": {
    "slideshow": {
     "slide_type": "slide"
    }
   },
   "outputs": [
    {
     "name": "stdout",
     "output_type": "stream",
     "text": [
      "5\n",
      "4\n",
      "3\n",
      "2\n",
      "1\n"
     ]
    }
   ],
   "source": [
    "for zahl in range(5, 0, -1):\n",
    "    print(zahl)"
   ]
  },
  {
   "cell_type": "markdown",
   "metadata": {
    "slideshow": {
     "slide_type": "slide"
    }
   },
   "source": [
    "## Übung\n",
    "Geben Sie alle Zweierpotenzen von $2^0$ bis $2^7$ aus."
   ]
  },
  {
   "cell_type": "code",
   "execution_count": 14,
   "metadata": {
    "slideshow": {
     "slide_type": "fragment"
    }
   },
   "outputs": [
    {
     "name": "stdout",
     "output_type": "stream",
     "text": [
      "2 hoch 0 ist gleich 1\n",
      "2 hoch 1 ist gleich 2\n",
      "2 hoch 2 ist gleich 4\n",
      "2 hoch 3 ist gleich 8\n",
      "2 hoch 4 ist gleich 16\n",
      "2 hoch 5 ist gleich 32\n",
      "2 hoch 6 ist gleich 64\n",
      "2 hoch 7 ist gleich 128\n"
     ]
    }
   ],
   "source": [
    "for exponent in range(0, 8):\n",
    "    print('2 hoch', exponent, 'ist gleich', 2**exponent)"
   ]
  },
  {
   "cell_type": "markdown",
   "metadata": {
    "slideshow": {
     "slide_type": "slide"
    }
   },
   "source": [
    "## Schleifen mit `while`"
   ]
  },
  {
   "cell_type": "code",
   "execution_count": 19,
   "metadata": {},
   "outputs": [
    {
     "name": "stdout",
     "output_type": "stream",
     "text": [
      "1\n",
      "2\n",
      "4\n",
      "8\n",
      "16\n",
      "32\n",
      "64\n"
     ]
    }
   ],
   "source": [
    "obere_schranke = 100\n",
    "aktueller_wert = 1\n",
    "while aktueller_wert < obere_schranke:\n",
    "    print(aktueller_wert)\n",
    "    aktueller_wert = aktueller_wert * 2"
   ]
  },
  {
   "cell_type": "markdown",
   "metadata": {
    "slideshow": {
     "slide_type": "slide"
    }
   },
   "source": [
    "# Verzweigungen"
   ]
  },
  {
   "cell_type": "markdown",
   "metadata": {},
   "source": [
    "## Einfache Verzweigung mit `if`"
   ]
  },
  {
   "cell_type": "code",
   "execution_count": 39,
   "metadata": {},
   "outputs": [
    {
     "name": "stdout",
     "output_type": "stream",
     "text": [
      "Geben Sie eine Zahl ein.4\n",
      "4  ist größer als Null.\n"
     ]
    }
   ],
   "source": [
    "wert = input('Geben Sie eine Zahl ein. ')\n",
    "wert = int(wert)\n",
    "if wert > 0:\n",
    "    print(wert, ' ist größer als Null.')   "
   ]
  },
  {
   "cell_type": "markdown",
   "metadata": {
    "slideshow": {
     "slide_type": "slide"
    }
   },
   "source": [
    "## Verzweigung mit `if` und `else`"
   ]
  },
  {
   "cell_type": "code",
   "execution_count": 40,
   "metadata": {
    "slideshow": {
     "slide_type": "-"
    }
   },
   "outputs": [
    {
     "name": "stdout",
     "output_type": "stream",
     "text": [
      "Geben Sie eine Zahl ein. 0\n",
      "0  ist kleiner oder gleich Null.\n"
     ]
    }
   ],
   "source": [
    "wert = input('Geben Sie eine Zahl ein. ')\n",
    "wert = int(wert)\n",
    "if wert > 0:\n",
    "    print(wert, ' ist größer als Null.')\n",
    "else:\n",
    "    print(wert, ' ist kleiner oder gleich Null.')"
   ]
  },
  {
   "cell_type": "markdown",
   "metadata": {
    "slideshow": {
     "slide_type": "slide"
    }
   },
   "source": [
    "## Mehrfachverzweigung mit `if`, `elif` und `else`"
   ]
  },
  {
   "cell_type": "code",
   "execution_count": 41,
   "metadata": {
    "slideshow": {
     "slide_type": "-"
    }
   },
   "outputs": [
    {
     "name": "stdout",
     "output_type": "stream",
     "text": [
      "Geben Sie eine Zahl ein. -3\n",
      "-3  ist kleiner als Null.\n"
     ]
    }
   ],
   "source": [
    "wert = input('Geben Sie eine Zahl ein. ')\n",
    "wert = int(wert)\n",
    "if wert > 0:\n",
    "    print(wert, ' ist größer als Null.')\n",
    "elif wert == 0:\n",
    "    print(wert, ' ist gleich Null.')\n",
    "else:\n",
    "    print(wert, ' ist kleiner als Null.')"
   ]
  },
  {
   "cell_type": "markdown",
   "metadata": {
    "collapsed": true,
    "slideshow": {
     "slide_type": "slide"
    }
   },
   "source": [
    "## Fallstricke bei Mehrfachverzweigungen\n",
    "Die Bedingungen müssen vom spezielleren Fall zu den allgemeineren Fällen geprüft werden, da nur der erste passende Zweig ausgeführt wird."
   ]
  },
  {
   "cell_type": "code",
   "execution_count": 43,
   "metadata": {},
   "outputs": [
    {
     "name": "stdout",
     "output_type": "stream",
     "text": [
      "Die Zahl ist größer als Null.\n"
     ]
    }
   ],
   "source": [
    "zahl = 4\n",
    "if zahl > 0:\n",
    "    print('Die Zahl ist größer als Null.')\n",
    "elif zahl > 2:\n",
    "    print('Die Zahl größer als 2.')"
   ]
  },
  {
   "cell_type": "markdown",
   "metadata": {
    "collapsed": true,
    "slideshow": {
     "slide_type": "slide"
    }
   },
   "source": [
    "# Kombinationen"
   ]
  },
  {
   "cell_type": "markdown",
   "metadata": {},
   "source": [
    "## Schleifen in Schleifen"
   ]
  },
  {
   "cell_type": "code",
   "execution_count": 25,
   "metadata": {},
   "outputs": [
    {
     "name": "stdout",
     "output_type": "stream",
     "text": [
      "1\t2\t3\t4\t5\t6\t7\t8\t9\t10\t\n",
      "2\t4\t6\t8\t10\t12\t14\t16\t18\t20\t\n",
      "3\t6\t9\t12\t15\t18\t21\t24\t27\t30\t\n",
      "4\t8\t12\t16\t20\t24\t28\t32\t36\t40\t\n",
      "5\t10\t15\t20\t25\t30\t35\t40\t45\t50\t\n",
      "6\t12\t18\t24\t30\t36\t42\t48\t54\t60\t\n",
      "7\t14\t21\t28\t35\t42\t49\t56\t63\t70\t\n",
      "8\t16\t24\t32\t40\t48\t56\t64\t72\t80\t\n",
      "9\t18\t27\t36\t45\t54\t63\t72\t81\t90\t\n",
      "10\t20\t30\t40\t50\t60\t70\t80\t90\t100\t\n"
     ]
    }
   ],
   "source": [
    "for faktor_1 in range(1, 11):\n",
    "    for faktor_2 in range(1, 11):\n",
    "        # end  = '\\t' sorgt dafür, dass am Ende des Befehls\n",
    "        # keine neue Zeile, sondern ein Tabulatorzeichen folgt.\n",
    "        print(faktor_1 * faktor_2, end = '\\t')\n",
    "    print()"
   ]
  },
  {
   "cell_type": "markdown",
   "metadata": {
    "slideshow": {
     "slide_type": "slide"
    }
   },
   "source": [
    "## Verzweigungen in Schleifen"
   ]
  },
  {
   "cell_type": "code",
   "execution_count": 26,
   "metadata": {},
   "outputs": [
    {
     "name": "stdout",
     "output_type": "stream",
     "text": [
      "0  ist gerade\n",
      "1  ist ungerade\n",
      "2  ist gerade\n",
      "3  ist ungerade\n",
      "4  ist gerade\n",
      "5  ist ungerade\n"
     ]
    }
   ],
   "source": [
    "for zahl in [0, 1, 2, 3, 4, 5]:\n",
    "    # zahl % 2 liefert den Divisionsrest bei einer ganzzahligen Division\n",
    "    if zahl % 2 == 0:\n",
    "        print(zahl, ' ist gerade')\n",
    "    else:\n",
    "        print(zahl, ' ist ungerade')"
   ]
  },
  {
   "cell_type": "markdown",
   "metadata": {
    "slideshow": {
     "slide_type": "slide"
    }
   },
   "source": [
    "## Übung\n",
    "Ein Sparkonto soll fünf Jahre lang jeden Monat mit 1 % verzinst werden. Am Ende jedes Jahres wird eine Kontoführungsgebühr von 5 EUR abgezogen."
   ]
  },
  {
   "cell_type": "code",
   "execution_count": 38,
   "metadata": {},
   "outputs": [
    {
     "name": "stdout",
     "output_type": "stream",
     "text": [
      "0:\t1212.0\t1224.12\t1236.36\t1248.72\t1261.21\t1273.82\t1286.56\t1299.43\t1312.42\t1325.55\t1338.8\t1352.19\t0 1347.19\n",
      "1:\t1360.66\t1374.27\t1388.01\t1401.89\t1415.91\t1430.07\t1444.37\t1458.81\t1473.4\t1488.14\t1503.02\t1518.05\t1 1513.05\n",
      "2:\t1528.18\t1543.46\t1558.89\t1574.48\t1590.23\t1606.13\t1622.19\t1638.41\t1654.8\t1671.35\t1688.06\t1704.94\t2 1699.94\n",
      "3:\t1716.94\t1734.11\t1751.45\t1768.96\t1786.65\t1804.52\t1822.57\t1840.79\t1859.2\t1877.79\t1896.57\t1915.53\t3 1910.53\n",
      "4:\t1929.64\t1948.94\t1968.43\t1988.11\t2007.99\t2028.07\t2048.35\t2068.84\t2089.52\t2110.42\t2131.52\t2152.84\t4 2147.84\n"
     ]
    }
   ],
   "source": [
    "anzahl_jahre = 5\n",
    "zinssatz = 0.01  # pro Monat\n",
    "guthaben = 1200.0\n",
    "for jahr in range(anzahl_jahre):\n",
    "    print(jahr, end = ':\\t')\n",
    "    for monat in range(12):\n",
    "        guthaben = guthaben * (1 + zinssatz)\n",
    "        print(round(guthaben, 2), end = '\\t')\n",
    "    guthaben = guthaben - 5\n",
    "    print(jahr, round(guthaben, 2))"
   ]
  },
  {
   "cell_type": "markdown",
   "metadata": {
    "slideshow": {
     "slide_type": "slide"
    }
   },
   "source": [
    "**Hinweise:**\n",
    "- Die Rundung erfolgt hier nur bei der Ausgabe!\n",
    "- Für die Rundung bei der Ausgabe gibt es spezielle Mechanismen, die hier aber nicht behandelt werden.\n",
    "- Man muss festlegen, ob die Gebühr nach oder vor der Zinsgutschrift für den letzten Monat eines Jahres erfolgen soll"
   ]
  },
  {
   "cell_type": "markdown",
   "metadata": {
    "slideshow": {
     "slide_type": "slide"
    }
   },
   "source": [
    "# Vielen Dank! <a class=\"tocSkip\">\n",
    "**http://www.ebusiness-unibw.org/wiki/Teaching/PIP**"
   ]
  },
  {
   "cell_type": "code",
   "execution_count": null,
   "metadata": {},
   "outputs": [],
   "source": []
  }
 ],
 "metadata": {
  "anaconda-cloud": {},
  "celltoolbar": "Slideshow",
  "kernelspec": {
   "display_name": "Python 3",
   "language": "python",
   "name": "python3"
  },
  "language_info": {
   "codemirror_mode": {
    "name": "ipython",
    "version": 3
   },
   "file_extension": ".py",
   "mimetype": "text/x-python",
   "name": "python",
   "nbconvert_exporter": "python",
   "pygments_lexer": "ipython3",
   "version": "3.7.1"
  },
  "rise": {
   "backimage": "background.png",
   "center": false,
   "enable_chalkboard": false,
   "footer": "Univ.-Prof. Dr. Martin Hepp, martin.hepp@unibw.de",
   "header": "Programmierung in Python",
   "showSlideNumber": "pdf",
   "slideNumber": "c/t",
   "theme": "chesterish",
   "transition": "none"
  },
  "toc": {
   "base_numbering": 1,
   "nav_menu": {},
   "number_sections": true,
   "sideBar": true,
   "skip_h1_title": false,
   "title_cell": "Table of Contents",
   "title_sidebar": "Contents",
   "toc_cell": false,
   "toc_position": {},
   "toc_section_display": true,
   "toc_window_display": false
  }
 },
 "nbformat": 4,
 "nbformat_minor": 1
}
