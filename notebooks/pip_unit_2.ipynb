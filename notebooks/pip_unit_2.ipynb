{
 "cells": [
  {
   "cell_type": "markdown",
   "metadata": {
    "slideshow": {
     "slide_type": "slide"
    }
   },
   "source": [
    "# Programmierung in Python <span class=\"tocSkip\" />\n",
    "\n",
    "**Univ.-Prof. Dr. Martin Hepp,** Universität der Bundeswehr München\n",
    "<br /><br />\n",
    "\n",
    "## Einheit 2: Kontrollflussstrukturen und Algorithmik <span class=\"tocSkip\" />\n",
    "**Version: 2019-11-13**\n",
    "<br /><br />\n",
    "[**http://www.ebusiness-unibw.org/wiki/Teaching/PIP**](http://www.ebusiness-unibw.org/wiki/Teaching/PIP)"
   ]
  },
  {
   "cell_type": "markdown",
   "metadata": {
    "slideshow": {
     "slide_type": "slide"
    }
   },
   "source": [
    "# Sequenz"
   ]
  },
  {
   "cell_type": "code",
   "execution_count": 2,
   "metadata": {},
   "outputs": [
    {
     "name": "stdout",
     "output_type": "stream",
     "text": [
      "Erste Anweisung\n",
      "Zweite Anweisung\n",
      "Dritte Anweisung\n",
      "Vierte Anweisung\n"
     ]
    }
   ],
   "source": [
    "print('Erste Anweisung')\n",
    "print('Zweite Anweisung')\n",
    "print('Dritte Anweisung')\n",
    "print('Vierte Anweisung')"
   ]
  },
  {
   "cell_type": "markdown",
   "metadata": {
    "slideshow": {
     "slide_type": "slide"
    }
   },
   "source": [
    "# Schleifen"
   ]
  },
  {
   "cell_type": "markdown",
   "metadata": {
    "slideshow": {
     "slide_type": "slide"
    }
   },
   "source": [
    "## Grundlagen: Schleifen mit `for`"
   ]
  },
  {
   "cell_type": "code",
   "execution_count": 7,
   "metadata": {},
   "outputs": [],
   "source": [
    "# Schleife für Liste mit Zahlen\n",
    "zahlenreihe = [1, 2, 3, 4]"
   ]
  },
  {
   "cell_type": "code",
   "execution_count": 29,
   "metadata": {
    "cell_style": "split"
   },
   "outputs": [
    {
     "name": "stdout",
     "output_type": "stream",
     "text": [
      "1\n",
      "3\n",
      "2\n",
      "4\n"
     ]
    }
   ],
   "source": [
    "for zahl in [1, 3, 2, 4]:\n",
    "    print(zahl)"
   ]
  },
  {
   "cell_type": "code",
   "execution_count": null,
   "metadata": {
    "cell_style": "split",
    "slideshow": {
     "slide_type": "fragment"
    }
   },
   "outputs": [],
   "source": [
    "# Entspricht\n",
    "zahl = zahlenreihe[0]\n",
    "print(zahl)\n",
    "zahl = zahlenreihe[1]\n",
    "print(zahl)\n",
    "zahl = zahlenreihe[2]\n",
    "print(zahl)\n",
    "zahl = zahlenreihe[3]\n",
    "print(zahl)\n"
   ]
  },
  {
   "cell_type": "markdown",
   "metadata": {
    "slideshow": {
     "slide_type": "slide"
    }
   },
   "source": [
    "**Schleife über Liste mit Zeichenketten:**"
   ]
  },
  {
   "cell_type": "code",
   "execution_count": 17,
   "metadata": {
    "slideshow": {
     "slide_type": "-"
    }
   },
   "outputs": [
    {
     "name": "stdout",
     "output_type": "stream",
     "text": [
      "Hallo, Peter!\n",
      "Hallo, Paul!\n",
      "Hallo, Mary!\n"
     ]
    }
   ],
   "source": [
    "freunde = ['Peter', 'Paul', 'Mary']\n",
    "for person in freunde:\n",
    "    print('Hallo, ' + person + '!')"
   ]
  },
  {
   "cell_type": "markdown",
   "metadata": {
    "cell_style": "center",
    "slideshow": {
     "slide_type": "slide"
    }
   },
   "source": [
    "**Schleife über Zeichen in Zeichenkette**"
   ]
  },
  {
   "cell_type": "code",
   "execution_count": 18,
   "metadata": {
    "cell_style": "center",
    "slideshow": {
     "slide_type": "-"
    }
   },
   "outputs": [
    {
     "name": "stdout",
     "output_type": "stream",
     "text": [
      "U\n",
      "n\n",
      "i\n",
      "B\n",
      "w\n",
      "M\n"
     ]
    }
   ],
   "source": [
    "text = 'UniBwM'\n",
    "for char in text:\n",
    "    print(char)"
   ]
  },
  {
   "cell_type": "markdown",
   "metadata": {
    "slideshow": {
     "slide_type": "slide"
    }
   },
   "source": [
    "**Mehrere Anweisungen innerhalb einer Schleife:**\n",
    "\n",
    "Die Einrückung bestimmt, dass der Befehl zum Schleifeninhalt gehört."
   ]
  },
  {
   "cell_type": "code",
   "execution_count": 17,
   "metadata": {
    "cell_style": "center",
    "slideshow": {
     "slide_type": "-"
    }
   },
   "outputs": [
    {
     "name": "stdout",
     "output_type": "stream",
     "text": [
      "1\n",
      "Hallo\n",
      "2\n",
      "Hallo\n",
      "3\n",
      "Hallo\n",
      "4\n",
      "Hallo\n"
     ]
    }
   ],
   "source": [
    "for zahl in [1, 2, 3, 4]:\n",
    "    print(zahl)\n",
    "    print('Hallo')"
   ]
  },
  {
   "cell_type": "code",
   "execution_count": null,
   "metadata": {
    "cell_style": "split",
    "slideshow": {
     "slide_type": "fragment"
    }
   },
   "outputs": [],
   "source": [
    "# Entspricht\n",
    "zahlenfolge = [1, 2, 3, 4]\n",
    "zahl = zahlenfolge[0]\n",
    "print(zahl)\n",
    "zahl = zahlenfolge[1]\n",
    "print(zahl)\n",
    "zahl = zahlenfolge[2]\n",
    "print(zahl)\n",
    "zahl = zahlenfolge[3]\n",
    "print(zahl)\n"
   ]
  },
  {
   "cell_type": "markdown",
   "metadata": {
    "slideshow": {
     "slide_type": "slide"
    }
   },
   "source": [
    "**Was passiert hier?**"
   ]
  },
  {
   "cell_type": "code",
   "execution_count": null,
   "metadata": {
    "slideshow": {
     "slide_type": "-"
    }
   },
   "outputs": [],
   "source": [
    "for zahl in [1, 2, 3, 4]:\n",
    "    print(zahl)\n",
    "print('Hallo')"
   ]
  },
  {
   "cell_type": "markdown",
   "metadata": {
    "slideshow": {
     "slide_type": "slide"
    }
   },
   "source": [
    "## `range` als Iterable\n",
    "Manchmal möchte man eine Schleife auf eine bestimmte Folge an Zahlen anwenden. `range()` ist eine Hilfsfunktion, mit er ein Hilfsobjekt erzeugt werden kann, das eine bestimte Folge an Ganzzahlen liefert, über die eine Schleife ablaufen soll."
   ]
  },
  {
   "cell_type": "code",
   "execution_count": 3,
   "metadata": {},
   "outputs": [
    {
     "name": "stdout",
     "output_type": "stream",
     "text": [
      "0\n",
      "1\n",
      "2\n",
      "3\n",
      "4\n"
     ]
    }
   ],
   "source": [
    "for zahl in range(5):\n",
    "    print(zahl)"
   ]
  },
  {
   "cell_type": "markdown",
   "metadata": {
    "slideshow": {
     "slide_type": "slide"
    }
   },
   "source": [
    "### Anfangswert und obere Schranke\n",
    "Wenn zwei Parameter angegeben werden, ist der erste Wert die erste zu erzeugende Zahl und das zweite die obere Schranke, die gerade **nicht mehr** enthalten sein soll. "
   ]
  },
  {
   "cell_type": "code",
   "execution_count": 4,
   "metadata": {
    "slideshow": {
     "slide_type": "-"
    }
   },
   "outputs": [
    {
     "name": "stdout",
     "output_type": "stream",
     "text": [
      "4\n",
      "5\n",
      "6\n",
      "7\n",
      "8\n",
      "9\n"
     ]
    }
   ],
   "source": [
    "for zahl in range(4, 10):\n",
    "    print(zahl)"
   ]
  },
  {
   "cell_type": "markdown",
   "metadata": {
    "slideshow": {
     "slide_type": "slide"
    }
   },
   "source": [
    "### Schrittweite\n",
    "Durch Angabe eines dritten Parameters kann die Schrittweite spezifiziert werden. So wird z.B. nur jede zweite Zahl von 0 bis 7 erzeugt:"
   ]
  },
  {
   "cell_type": "code",
   "execution_count": 9,
   "metadata": {
    "slideshow": {
     "slide_type": "-"
    }
   },
   "outputs": [
    {
     "name": "stdout",
     "output_type": "stream",
     "text": [
      "0\n",
      "2\n",
      "4\n",
      "6\n"
     ]
    }
   ],
   "source": [
    "for zahl in range(0, 8, 2):\n",
    "    print(zahl)\n"
   ]
  },
  {
   "cell_type": "markdown",
   "metadata": {
    "slideshow": {
     "slide_type": "slide"
    }
   },
   "source": [
    "Das funktioniert auch mit negativen Schrittweiten. Dann allerdings muss man darauf achten, dass **der Startwert (hier 5) größer ist als die obere Schranke (hier 0).**"
   ]
  },
  {
   "cell_type": "code",
   "execution_count": 48,
   "metadata": {
    "slideshow": {
     "slide_type": "-"
    }
   },
   "outputs": [
    {
     "name": "stdout",
     "output_type": "stream",
     "text": [
      "5\n",
      "4\n",
      "3\n",
      "2\n",
      "1\n"
     ]
    }
   ],
   "source": [
    "for zahl in range(5, 0, -1):\n",
    "    print(zahl)"
   ]
  },
  {
   "cell_type": "markdown",
   "metadata": {
    "slideshow": {
     "slide_type": "slide"
    }
   },
   "source": [
    "### Schleifen mit einer nicht-ganzzahligen Schrittweite\n",
    "Manchmal möchte man eine Schleife über Zahlenfolgen ausführen, die eine Schrittweite verwenden, die nicht ganzzahlig ist, z.B. die Folge $[1.0; 1,1; 1.2]$.\n",
    "\n",
    "`range()` funktioniert nur für ganze Zahlen. \n",
    "\n",
    "Es gibt drei Wege, wie man dies umgehen kann:"
   ]
  },
  {
   "cell_type": "markdown",
   "metadata": {
    "slideshow": {
     "slide_type": "slide"
    }
   },
   "source": [
    "#### Skalierung mit einem Faktor\n",
    "Man kann einfach die gewünschte Zahlenfolge um einen festen Faktor vergrößern und den Wert dann im Innern der Schleife ggfls. durch diesen Faktor teilen. Im Beispiel würde man also über `[10, 11, 12]` iterieren:"
   ]
  },
  {
   "cell_type": "code",
   "execution_count": 49,
   "metadata": {},
   "outputs": [
    {
     "name": "stdout",
     "output_type": "stream",
     "text": [
      "1.0\n",
      "1.1\n",
      "1.2\n"
     ]
    }
   ],
   "source": [
    "for i in range(10, 13):\n",
    "    print(i/10)"
   ]
  },
  {
   "cell_type": "markdown",
   "metadata": {
    "slideshow": {
     "slide_type": "slide"
    }
   },
   "source": [
    "#### Erzeugen einer Liste aus Gleitkommazahlen\n",
    "Man kann die Liste, über die die Schleife ablaufen soll, auch vorab manuell erzeugen. \n",
    "\n",
    "**Beispiel:**"
   ]
  },
  {
   "cell_type": "code",
   "execution_count": 50,
   "metadata": {
    "cell_style": "split"
   },
   "outputs": [
    {
     "name": "stdout",
     "output_type": "stream",
     "text": [
      "[1.0, 1.1, 1.2]\n"
     ]
    }
   ],
   "source": [
    "zahlen = []\n",
    "for i in range(10, 13):\n",
    "    zahlen.append(i/10)\n",
    "print(zahlen)"
   ]
  },
  {
   "cell_type": "code",
   "execution_count": 51,
   "metadata": {
    "cell_style": "split",
    "slideshow": {
     "slide_type": "fragment"
    }
   },
   "outputs": [
    {
     "name": "stdout",
     "output_type": "stream",
     "text": [
      "1.0\n",
      "1.1\n",
      "1.2\n"
     ]
    }
   ],
   "source": [
    "for zahl in zahlen:\n",
    "    print(zahl)"
   ]
  },
  {
   "cell_type": "markdown",
   "metadata": {
    "slideshow": {
     "slide_type": "slide"
    }
   },
   "source": [
    "In der Praxis verwendet man dafür sogenannte *List Comprehensions*, eine Kurzform, um Listen über eine Schleife zu erstellen.\n",
    "Das Beispiel von oben sähe dann so aus:"
   ]
  },
  {
   "cell_type": "code",
   "execution_count": 53,
   "metadata": {
    "slideshow": {
     "slide_type": "-"
    }
   },
   "outputs": [
    {
     "name": "stdout",
     "output_type": "stream",
     "text": [
      "[1.0, 1.1, 1.2]\n"
     ]
    }
   ],
   "source": [
    "zahlen = [i/10 for i in range(10, 13)]\n",
    "print(zahlen)"
   ]
  },
  {
   "cell_type": "markdown",
   "metadata": {
    "slideshow": {
     "slide_type": "slide"
    }
   },
   "source": [
    "#### Spezialfunktionen aus der Bibliothek `numpy`\n",
    "In der Bibliothek `numpy` gibt es spezielle Funktionen, um Zahlenfolgen aus nicht-ganzzahligen Werten zu erzeugen.\n",
    "\n",
    "Diese sind nicht Gegenstand der Vorlesung und werden hier nur der Vollständigkeit halber genannt.\n",
    "- [numpy.arange](https://docs.scipy.org/doc/numpy/reference/generated/numpy.arange.html)\n",
    "- [numpy.linspace](https://docs.scipy.org/doc/numpy/reference/generated/numpy.linspace.html)"
   ]
  },
  {
   "cell_type": "markdown",
   "metadata": {
    "slideshow": {
     "slide_type": "slide"
    }
   },
   "source": [
    "## Übung\n",
    "Schreiben Sie ein Programm, das mit Hilfe einer `for`-Schleife alle Zweierpotenzen von $2^0$ bis $2^7$ ausgibt."
   ]
  },
  {
   "cell_type": "code",
   "execution_count": 22,
   "metadata": {
    "slideshow": {
     "slide_type": "fragment"
    }
   },
   "outputs": [
    {
     "name": "stdout",
     "output_type": "stream",
     "text": [
      "1\n",
      "2\n",
      "4\n",
      "8\n",
      "16\n",
      "32\n",
      "64\n",
      "128\n"
     ]
    }
   ],
   "source": [
    "for exponent in range(0, 8):\n",
    "    print(2**exponent)"
   ]
  },
  {
   "cell_type": "markdown",
   "metadata": {
    "slideshow": {
     "slide_type": "slide"
    }
   },
   "source": [
    "## Schleifen mit `while`"
   ]
  },
  {
   "cell_type": "code",
   "execution_count": 19,
   "metadata": {},
   "outputs": [
    {
     "name": "stdout",
     "output_type": "stream",
     "text": [
      "1\n",
      "2\n",
      "4\n",
      "8\n",
      "16\n",
      "32\n",
      "64\n"
     ]
    }
   ],
   "source": [
    "obere_schranke = 100\n",
    "aktueller_wert = 1\n",
    "while aktueller_wert < obere_schranke:\n",
    "    print(aktueller_wert)\n",
    "    aktueller_wert = aktueller_wert * 2"
   ]
  },
  {
   "cell_type": "markdown",
   "metadata": {
    "slideshow": {
     "slide_type": "slide"
    }
   },
   "source": [
    "### Schleifenabbruch mit `break`\n",
    "Man kann eine while-Schleife mit der Anweisung `break` verlassen:"
   ]
  },
  {
   "cell_type": "code",
   "execution_count": 31,
   "metadata": {},
   "outputs": [
    {
     "name": "stdout",
     "output_type": "stream",
     "text": [
      "1\n",
      "2\n",
      "3\n",
      "3 erreicht, beende die Schleife\n"
     ]
    }
   ],
   "source": [
    "a = 0\n",
    "while a < 5:\n",
    "    a = a + 1\n",
    "    print(a)\n",
    "    if a == 3:\n",
    "        print('3 erreicht, beende die Schleife')\n",
    "        break"
   ]
  },
  {
   "cell_type": "markdown",
   "metadata": {
    "slideshow": {
     "slide_type": "slide"
    }
   },
   "source": [
    "### Ausführung von Anweisungen, wenn die Schleife ohne `break` beendet wurde\n",
    "Manchmal ist es nützlich, wenn man Anweisungen nur dann ausführt, wenn eine `while`-Schleife regulär beendet wurde, also nicht über eine `break`-Anweisung verlassen wird. Dazu dient das Schlüsselwort `else`, das **auf der selben Einrückungsebene wie der `while`-Befehl stehen muss.**\n",
    "\n",
    "Eine typische Anwendung ist eine Meldung bei einem erfolglosen Versuch:"
   ]
  },
  {
   "cell_type": "markdown",
   "metadata": {
    "slideshow": {
     "slide_type": "slide"
    }
   },
   "source": [
    "**Beispiel für `else` am Ende einer `while`-Schleife:**"
   ]
  },
  {
   "cell_type": "code",
   "execution_count": 67,
   "metadata": {
    "slideshow": {
     "slide_type": "-"
    }
   },
   "outputs": [
    {
     "name": "stdout",
     "output_type": "stream",
     "text": [
      "Hallo, bitte melde Dich!\n",
      "Hallo, bitte melde Dich!\n",
      "Hallo, bitte melde Dich!\n",
      "Abbruch - keine Antwort.\n"
     ]
    }
   ],
   "source": [
    "antwort = False  ## nur ein Dummy\n",
    "\n",
    "versuche = 3\n",
    "while versuche > 0:\n",
    "    print('Hallo, bitte melde Dich!')\n",
    "    if antwort == True:\n",
    "        # Jemand hat sich gemeldet\n",
    "        break\n",
    "    versuche = versuche - 1\n",
    "else:\n",
    "    print('Abbruch - keine Antwort.')"
   ]
  },
  {
   "cell_type": "markdown",
   "metadata": {
    "slideshow": {
     "slide_type": "slide"
    }
   },
   "source": [
    "# Verzweigungen"
   ]
  },
  {
   "cell_type": "markdown",
   "metadata": {},
   "source": [
    "## Einfache Verzweigung mit `if`"
   ]
  },
  {
   "cell_type": "code",
   "execution_count": 25,
   "metadata": {},
   "outputs": [
    {
     "name": "stdout",
     "output_type": "stream",
     "text": [
      "Geben Sie eine Zahl ein. -4\n"
     ]
    }
   ],
   "source": [
    "wert = input('Geben Sie eine Zahl ein. ')\n",
    "wert = int(wert)\n",
    "if wert > 0:\n",
    "    print(wert, 'ist größer als Null.')   "
   ]
  },
  {
   "cell_type": "markdown",
   "metadata": {
    "slideshow": {
     "slide_type": "slide"
    }
   },
   "source": [
    "## Verzweigung mit `if` und `else`"
   ]
  },
  {
   "cell_type": "code",
   "execution_count": 27,
   "metadata": {
    "slideshow": {
     "slide_type": "-"
    }
   },
   "outputs": [
    {
     "name": "stdout",
     "output_type": "stream",
     "text": [
      "Geben Sie eine Zahl ein. -3\n",
      "-3 ist kleiner oder gleich Null.\n"
     ]
    }
   ],
   "source": [
    "wert = input('Geben Sie eine Zahl ein. ')\n",
    "wert = int(wert)\n",
    "if wert > 0:\n",
    "    print(wert, 'ist größer als Null.')\n",
    "else:\n",
    "    print(wert, 'ist kleiner oder gleich Null.')"
   ]
  },
  {
   "cell_type": "markdown",
   "metadata": {
    "slideshow": {
     "slide_type": "slide"
    }
   },
   "source": [
    "## Mehrfachverzweigung mit `if`, `elif` und `else`"
   ]
  },
  {
   "cell_type": "code",
   "execution_count": 61,
   "metadata": {
    "slideshow": {
     "slide_type": "-"
    }
   },
   "outputs": [
    {
     "name": "stdout",
     "output_type": "stream",
     "text": [
      "Geben Sie eine Zahl ein. -3\n",
      "-3 ist kleiner als Null.\n"
     ]
    }
   ],
   "source": [
    "wert = input('Geben Sie eine Zahl ein. ')\n",
    "wert = int(wert)\n",
    "if wert > 0:\n",
    "    print(wert, 'ist größer als Null.')\n",
    "elif wert == 0:\n",
    "    print(wert, 'ist gleich Null.')\n",
    "else:\n",
    "    print(wert, 'ist kleiner als Null.')"
   ]
  },
  {
   "cell_type": "markdown",
   "metadata": {
    "collapsed": true,
    "slideshow": {
     "slide_type": "slide"
    }
   },
   "source": [
    "## Fallstricke bei Mehrfachverzweigungen\n",
    "Die Bedingungen müssen vom spezielleren Fall zu den allgemeineren Fällen geprüft werden, da nur der erste passende Zweig ausgeführt wird."
   ]
  },
  {
   "cell_type": "code",
   "execution_count": 43,
   "metadata": {
    "cell_style": "split"
   },
   "outputs": [
    {
     "name": "stdout",
     "output_type": "stream",
     "text": [
      "Die Zahl ist größer als Null.\n"
     ]
    }
   ],
   "source": [
    "zahl = 4\n",
    "if zahl > 0:\n",
    "    print('Die Zahl ist größer als Null.')\n",
    "elif zahl > 2:\n",
    "        print('Die Zahl größer als 2.')"
   ]
  },
  {
   "cell_type": "markdown",
   "metadata": {
    "cell_style": "split",
    "slideshow": {
     "slide_type": "fragment"
    }
   },
   "source": [
    "Die zweite Prüfung `elif zahl > 2:` wird nicht mehr ausgeführt, weil die Bedingung für den ersten Zweig `if zahl > 0:` bereits erfüllt ist. "
   ]
  },
  {
   "cell_type": "markdown",
   "metadata": {
    "slideshow": {
     "slide_type": "slide"
    }
   },
   "source": [
    "## Test, ob Wert innerhalb eines Intervalls liegt\n",
    "Oft muss man prüfen, ob ein Wert innerhalb eines Intervals liegt.\n",
    "\n",
    "**Beispiel:**\n",
    "$ 0 < x < 10 $\n",
    "\n",
    "In Python gibt es zwei Wege, dies auszudrücken:"
   ]
  },
  {
   "cell_type": "code",
   "execution_count": null,
   "metadata": {
    "cell_style": "split",
    "slideshow": {
     "slide_type": "fragment"
    }
   },
   "outputs": [],
   "source": [
    "x = 5\n",
    "# Logische Kombination mit 'and'\n",
    "if 0 < x and x < 10:\n",
    "    print(\"0 < x < 10\")"
   ]
  },
  {
   "cell_type": "code",
   "execution_count": null,
   "metadata": {
    "cell_style": "split",
    "slideshow": {
     "slide_type": "fragment"
    }
   },
   "outputs": [],
   "source": [
    "x = 3\n",
    "# Direkter Ausdruck\n",
    "if 0 < x < 10:\n",
    "    print(\"0 < x < 10\")"
   ]
  },
  {
   "cell_type": "markdown",
   "metadata": {
    "collapsed": true,
    "slideshow": {
     "slide_type": "slide"
    }
   },
   "source": [
    "# Kombinationen"
   ]
  },
  {
   "cell_type": "markdown",
   "metadata": {},
   "source": [
    "## Schleifen in Schleifen"
   ]
  },
  {
   "cell_type": "code",
   "execution_count": 33,
   "metadata": {},
   "outputs": [
    {
     "name": "stdout",
     "output_type": "stream",
     "text": [
      "1\t2\t3\t4\t5\t6\t7\t8\t9\t10\t\n",
      "2\t4\t6\t8\t10\t12\t14\t16\t18\t20\t\n",
      "3\t6\t9\t12\t15\t18\t21\t24\t27\t30\t\n"
     ]
    }
   ],
   "source": [
    "for faktor_1 in range(1, 4):\n",
    "    for faktor_2 in range(1, 11):\n",
    "        # end  = '\\t' sorgt dafür, dass am Ende des Befehls\n",
    "        # keine neue Zeile, sondern ein Tabulatorzeichen folgt.\n",
    "        print(faktor_1 * faktor_2, end='\\t')\n",
    "    print()"
   ]
  },
  {
   "cell_type": "markdown",
   "metadata": {
    "slideshow": {
     "slide_type": "slide"
    }
   },
   "source": [
    "## Verzweigungen in Schleifen"
   ]
  },
  {
   "cell_type": "code",
   "execution_count": 26,
   "metadata": {},
   "outputs": [
    {
     "name": "stdout",
     "output_type": "stream",
     "text": [
      "0  ist gerade\n",
      "1  ist ungerade\n",
      "2  ist gerade\n",
      "3  ist ungerade\n",
      "4  ist gerade\n",
      "5  ist ungerade\n"
     ]
    }
   ],
   "source": [
    "for zahl in [0, 1, 2, 3, 4, 5]:\n",
    "    # zahl % 2 liefert den Divisionsrest bei einer ganzzahligen Division\n",
    "    if zahl % 2 == 0:\n",
    "        print(zahl, ' ist gerade')\n",
    "    else:\n",
    "        print(zahl, ' ist ungerade')"
   ]
  },
  {
   "cell_type": "markdown",
   "metadata": {
    "slideshow": {
     "slide_type": "slide"
    }
   },
   "source": [
    "## Übung\n",
    "Ein Sparkonto soll fünf Jahre lang jeden Monat mit 1 % verzinst werden. Am Ende jedes Jahres wird eine Kontoführungsgebühr von 5 EUR abgezogen."
   ]
  },
  {
   "cell_type": "markdown",
   "metadata": {},
   "source": [
    "### Aufgabe"
   ]
  },
  {
   "cell_type": "code",
   "execution_count": 35,
   "metadata": {},
   "outputs": [],
   "source": [
    "anzahl_jahre = 5\n",
    "zinssatz = 0.01  # pro Monat\n",
    "guthaben = 1200.0\n",
    "\n",
    "# Hier einfügen"
   ]
  },
  {
   "cell_type": "markdown",
   "metadata": {
    "slideshow": {
     "slide_type": "slide"
    }
   },
   "source": [
    "### Musterlösung"
   ]
  },
  {
   "cell_type": "code",
   "execution_count": 39,
   "metadata": {
    "slideshow": {
     "slide_type": "-"
    }
   },
   "outputs": [
    {
     "name": "stdout",
     "output_type": "stream",
     "text": [
      "0:\t3908.47\t3947.56\t3987.03\t4026.90\t4067.17\t4107.84\t4148.92\t4190.41\t4232.31\t4274.64\t4317.38\t4360.56\t\n",
      "Saldo am Ende von Jahr 0: 4355.56\n",
      "1:\t4399.11\t4443.10\t4487.53\t4532.41\t4577.73\t4623.51\t4669.75\t4716.44\t4763.61\t4811.24\t4859.36\t4907.95\t\n",
      "Saldo am Ende von Jahr 1: 4902.95\n",
      "2:\t4951.98\t5001.50\t5051.51\t5102.03\t5153.05\t5204.58\t5256.63\t5309.19\t5362.28\t5415.91\t5470.07\t5524.77\t\n",
      "Saldo am Ende von Jahr 2: 5519.77\n",
      "3:\t5574.97\t5630.71\t5687.02\t5743.89\t5801.33\t5859.34\t5917.94\t5977.12\t6036.89\t6097.26\t6158.23\t6219.81\t\n",
      "Saldo am Ende von Jahr 3: 6214.81\n",
      "4:\t6276.96\t6339.73\t6403.13\t6467.16\t6531.83\t6597.15\t6663.12\t6729.75\t6797.05\t6865.02\t6933.67\t7003.01\t\n",
      "Saldo am Ende von Jahr 4: 6998.01\n"
     ]
    }
   ],
   "source": [
    "for jahr in range(anzahl_jahre):\n",
    "    print(jahr, end = ':\\t')\n",
    "    for monat in range(12):\n",
    "        guthaben = guthaben * (1 + zinssatz)\n",
    "        print(f'{guthaben:7.2f}', end = '\\t')\n",
    "    guthaben = guthaben - 5\n",
    "    print()\n",
    "    print(f'Saldo am Ende von Jahr {jahr}: {guthaben:7.2f}')"
   ]
  },
  {
   "cell_type": "markdown",
   "metadata": {
    "slideshow": {
     "slide_type": "-"
    }
   },
   "source": [
    "**Hinweise:**\n",
    "- Die Rundung erfolgt hier nur bei der Ausgabe!\n",
    "- Für die Rundung bei der Ausgabe gibt es spezielle Mechanismen, die hier aber nicht behandelt werden.\n",
    "- Man muss festlegen, ob die Gebühr nach oder vor der Zinsgutschrift für den letzten Monat eines Jahres erfolgen soll."
   ]
  },
  {
   "cell_type": "markdown",
   "metadata": {},
   "source": [
    "# Quellenangaben und weiterführende Literatur\n",
    "\\[Pyt2019\\]&nbsp;&nbsp;&nbsp;&nbsp;Python Software Foundation. Python 3.8.0 Documentation. [https://docs.python.org/3/](https://docs.python.org/3/)."
   ]
  },
  {
   "cell_type": "markdown",
   "metadata": {
    "slideshow": {
     "slide_type": "slide"
    }
   },
   "source": [
    "# Vielen Dank! <a class=\"tocSkip\">\n",
    "    \n",
    "[**http://www.ebusiness-unibw.org/wiki/Teaching/PIP**](http://www.ebusiness-unibw.org/wiki/Teaching/PIP)"
   ]
  }
 ],
 "metadata": {
  "anaconda-cloud": {},
  "celltoolbar": "Slideshow",
  "kernelspec": {
   "display_name": "Python 3",
   "language": "python",
   "name": "python3"
  },
  "language_info": {
   "codemirror_mode": {
    "name": "ipython",
    "version": 3
   },
   "file_extension": ".py",
   "mimetype": "text/x-python",
   "name": "python",
   "nbconvert_exporter": "python",
   "pygments_lexer": "ipython3",
   "version": "3.7.1"
  },
  "rise": {
   "backimage": "background.png",
   "center": false,
   "enable_chalkboard": false,
   "footer": "Univ.-Prof. Dr. Martin Hepp, martin.hepp@unibw.de",
   "header": "Programmierung in Python",
   "showSlideNumber": "pdf",
   "slideNumber": "c/t",
   "theme": "chesterish",
   "transition": "none"
  },
  "toc": {
   "base_numbering": 1,
   "nav_menu": {},
   "number_sections": true,
   "sideBar": true,
   "skip_h1_title": false,
   "title_cell": "Table of Contents",
   "title_sidebar": "Inhaltsverzeichnis",
   "toc_cell": false,
   "toc_position": {
    "height": "calc(100% - 180px)",
    "left": "10px",
    "top": "150px",
    "width": "512px"
   },
   "toc_section_display": true,
   "toc_window_display": false
  }
 },
 "nbformat": 4,
 "nbformat_minor": 1
}
