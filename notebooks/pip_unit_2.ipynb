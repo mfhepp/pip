{
 "cells": [
  {
   "cell_type": "markdown",
   "metadata": {},
   "source": [
    "# Unit 2: Kontrollflussstrukturen"
   ]
  },
  {
   "cell_type": "code",
   "execution_count": 3,
   "metadata": {},
   "outputs": [
    {
     "name": "stdout",
     "output_type": "stream",
     "text": [
      "1\n",
      "2\n",
      "3\n",
      "4\n"
     ]
    }
   ],
   "source": [
    "# Schleifen\n",
    "\n",
    "zahlenreihe = [1, 2, 3, 4]\n",
    "for zahl in zahlenreihe:\n",
    "    print(zahl)\n",
    "    "
   ]
  },
  {
   "cell_type": "code",
   "execution_count": 4,
   "metadata": {},
   "outputs": [
    {
     "name": "stdout",
     "output_type": "stream",
     "text": [
      "Hallo, Peter!\n",
      "Hallo, Paul!\n",
      "Hallo, Mary!\n"
     ]
    }
   ],
   "source": [
    "freunde = ['Peter', 'Paul', 'Mary']\n",
    "for person in freunde:\n",
    "    print('Hallo, ' + person + '!')"
   ]
  },
  {
   "cell_type": "code",
   "execution_count": 12,
   "metadata": {},
   "outputs": [
    {
     "name": "stdout",
     "output_type": "stream",
     "text": [
      "Die Zahl -2 ist negativ.\n",
      "Die Zahl -1 ist negativ.\n",
      "Die Zahl ist null.\n",
      "Die Zahl 1 ist positiv.\n",
      "Die Zahl 2 ist positiv.\n",
      "Die Zahl 3 ist positiv.\n",
      "Die Zahl 4 ist positiv.\n",
      "Die Zahl 5 ist positiv.\n",
      "Die Zahl 6 ist positiv.\n",
      "Die Zahl 7 ist positiv.\n"
     ]
    }
   ],
   "source": [
    "# Verzweigungen\n",
    "zahlenreihe = [-2, -1, 0, 1, 2, 3, 4, 5, 6, 7]\n",
    "for zahl in zahlenreihe:\n",
    "    if zahl > 0:\n",
    "        print('Die Zahl ' + str(zahl) + ' ist positiv.')\n",
    "    elif zahl <0:\n",
    "        print('Die Zahl ' + str(zahl) + ' ist negativ.')\n",
    "    else:\n",
    "        print('Die Zahl ist null.')\n",
    "    "
   ]
  },
  {
   "cell_type": "code",
   "execution_count": null,
   "metadata": {
    "collapsed": true
   },
   "outputs": [],
   "source": [
    "Beispiel: Sparbuch"
   ]
  },
  {
   "cell_type": "code",
   "execution_count": null,
   "metadata": {
    "collapsed": true
   },
   "outputs": [],
   "source": [
    "Beispiel: Verschachtelung"
   ]
  }
 ],
 "metadata": {
  "anaconda-cloud": {},
  "kernelspec": {
   "display_name": "Python 3",
   "language": "python",
   "name": "python3"
  },
  "language_info": {
   "codemirror_mode": {
    "name": "ipython",
    "version": 3
   },
   "file_extension": ".py",
   "mimetype": "text/x-python",
   "name": "python",
   "nbconvert_exporter": "python",
   "pygments_lexer": "ipython3",
   "version": "3.7.1"
  }
 },
 "nbformat": 4,
 "nbformat_minor": 1
}
