{
 "cells": [
  {
   "cell_type": "markdown",
   "metadata": {
    "slideshow": {
     "slide_type": "slide"
    }
   },
   "source": [
    "# Programmierung in Python <span class=\"tocSkip\" />\n",
    "**Univ.-Prof. Dr. Martin Hepp,** Universität der Bundeswehr München\n",
    "\n",
    "\n",
    "## Übungsaufgaben Einheit 2<span class=\"tocSkip\" />"
   ]
  },
  {
   "cell_type": "markdown",
   "metadata": {},
   "source": [
    "**Hinweis:** Die gezeigten Beispiele sind mit Hinblick auf das Lernziel bewusst gestaltet. Sie nutzen mit Absicht möglichst wenige fertige Funktionen aus der Bibliothek von Python, selbst wenn diese schneller wären. Sie sollen hier üben, ein Problem durch eine Kontrollflussstruktur aus möglichst einfachen Anweisungen algorithmisch zu lösen."
   ]
  },
  {
   "cell_type": "code",
   "execution_count": 5,
   "metadata": {
    "slideshow": {
     "slide_type": "fragment"
    }
   },
   "outputs": [
    {
     "name": "stdout",
     "output_type": "stream",
     "text": [
      "Guthaben? 100\n",
      "100.0\n"
     ]
    }
   ],
   "source": [
    "guthaben = float(input('Guthaben? '))\n",
    "print(guthaben)"
   ]
  },
  {
   "cell_type": "code",
   "execution_count": 10,
   "metadata": {
    "slideshow": {
     "slide_type": "fragment"
    }
   },
   "outputs": [
    {
     "name": "stdout",
     "output_type": "stream",
     "text": [
      "<class 'float'>\n"
     ]
    }
   ],
   "source": [
    "print(type(guthaben)) # Überprüfung der Datenstruktur"
   ]
  },
  {
   "cell_type": "markdown",
   "metadata": {
    "slideshow": {
     "slide_type": "slide"
    }
   },
   "source": [
    "## Berechnen Sie das Produkt aus Guthaben und Zins, also den Jahreszinsertrag, und geben Sie das Ergebnis auf dem Bildschirm aus."
   ]
  },
  {
   "cell_type": "code",
   "execution_count": 11,
   "metadata": {
    "slideshow": {
     "slide_type": "fragment"
    }
   },
   "outputs": [
    {
     "name": "stdout",
     "output_type": "stream",
     "text": [
      "1.0\n"
     ]
    }
   ],
   "source": [
    "jahreszinsertrag = guthaben * zinssatz\n",
    "print(jahreszinsertrag)"
   ]
  },
  {
   "cell_type": "markdown",
   "metadata": {
    "slideshow": {
     "slide_type": "slide"
    }
   },
   "source": [
    "### Berechnung von Zins und Zinseszins\n",
    "Das Guthaben nach _n_ Perioden beträgt \n",
    "\n",
    "$Endbetrag = Guthaben * (1+Zinssatz)^n$.\n",
    "\n",
    "Nutzen Sie Python, um den Endbetrag des obigen Guthabens zu berechnen. \n",
    "\n",
    "Geben Sie das Ergebnis auf dem Bildschirm aus."
   ]
  },
  {
   "cell_type": "code",
   "execution_count": 14,
   "metadata": {
    "slideshow": {
     "slide_type": "fragment"
    }
   },
   "outputs": [
    {
     "name": "stdout",
     "output_type": "stream",
     "text": [
      "112.68\n"
     ]
    }
   ],
   "source": [
    "endbetrag = guthaben * (1 + zinssatz)**anzahl_perioden\n",
    "print(round(endbetrag, 2))"
   ]
  },
  {
   "cell_type": "markdown",
   "metadata": {
    "slideshow": {
     "slide_type": "slide"
    }
   },
   "source": [
    "## Wahrheitswerte "
   ]
  },
  {
   "cell_type": "markdown",
   "metadata": {},
   "source": [
    "### Definieren Sie zwei Boole'sche Variablen, von denen eine wahr und eine unwahr sein soll."
   ]
  },
  {
   "cell_type": "code",
   "execution_count": 15,
   "metadata": {
    "slideshow": {
     "slide_type": "fragment"
    }
   },
   "outputs": [],
   "source": [
    "kreditkarte_gueltig = True\n",
    "artikel_verfuegbar = False"
   ]
  },
  {
   "cell_type": "markdown",
   "metadata": {
    "slideshow": {
     "slide_type": "slide"
    }
   },
   "source": [
    "### Verknüpfen Sie beide Variablen mit einem logischen UND und geben Sie das Ergebnis aus."
   ]
  },
  {
   "cell_type": "code",
   "execution_count": 16,
   "metadata": {
    "slideshow": {
     "slide_type": "fragment"
    }
   },
   "outputs": [
    {
     "name": "stdout",
     "output_type": "stream",
     "text": [
      "False\n"
     ]
    }
   ],
   "source": [
    "print(kreditkarte_gueltig and artikel_verfuegbar)"
   ]
  },
  {
   "cell_type": "markdown",
   "metadata": {
    "slideshow": {
     "slide_type": "slide"
    }
   },
   "source": [
    "# Komplexe Datentypen\n",
    "Komplexe Datentypen sind solche, bei denen es eine Strukturierung in Unterelemente gibt, die einzeln angesprochen werden können."
   ]
  },
  {
   "cell_type": "markdown",
   "metadata": {
    "slideshow": {
     "slide_type": "slide"
    }
   },
   "source": [
    "## Zeichenketten (Strings)\n",
    "Zeichenketten sind die einfachste Form von komplexen Datentypen in Python. Anders als in anderen Programmiersprachen gibt es keinen Datentyp für ein einzelnes Zeichen. Alle Zeichen einer Zeichenkette können einzeln angesprochen werden."
   ]
  },
  {
   "cell_type": "code",
   "execution_count": 16,
   "metadata": {},
   "outputs": [
    {
     "name": "stdout",
     "output_type": "stream",
     "text": [
      "Neubiberg\n"
     ]
    }
   ],
   "source": [
    "# Definieren Sie eine Variable mit dem Namen 'text' und weisen sie ihr den Wert 'Neubiberg' zu.\n",
    "# Geben Sie den Inhalt der Variable text auf dem Bildschirm aus.\n",
    "\n",
    "text = \"Neubiberg\"\n",
    "print(text)"
   ]
  },
  {
   "cell_type": "code",
   "execution_count": 17,
   "metadata": {
    "slideshow": {
     "slide_type": "slide"
    }
   },
   "outputs": [
    {
     "name": "stdout",
     "output_type": "stream",
     "text": [
      "e\n"
     ]
    }
   ],
   "source": [
    "# Geben Sie das zweite Zeichen der Variable text auf dem Bildschirm aus.\n",
    "print(text[1])"
   ]
  },
  {
   "cell_type": "code",
   "execution_count": 18,
   "metadata": {
    "slideshow": {
     "slide_type": "fragment"
    }
   },
   "outputs": [
    {
     "name": "stdout",
     "output_type": "stream",
     "text": [
      "ubi\n"
     ]
    }
   ],
   "source": [
    "# Geben Sie den Bereich vom dritten bis zum fünften Zeichen der Variable text auf dem Bildschirm aus.\n",
    "print(text[2:5])"
   ]
  },
  {
   "cell_type": "code",
   "execution_count": 19,
   "metadata": {
    "slideshow": {
     "slide_type": "slide"
    }
   },
   "outputs": [
    {
     "name": "stdout",
     "output_type": "stream",
     "text": [
      "ubiberg\n"
     ]
    }
   ],
   "source": [
    "# Geben Sie den Bereich vom dritten bis zum letzten Zeichen der Variable text auf dem Bildschirm aus.\n",
    "print(text[2:])"
   ]
  },
  {
   "cell_type": "code",
   "execution_count": 20,
   "metadata": {
    "slideshow": {
     "slide_type": "fragment"
    }
   },
   "outputs": [
    {
     "name": "stdout",
     "output_type": "stream",
     "text": [
      "Neubi\n"
     ]
    }
   ],
   "source": [
    "# Geben Sie den Bereich vom ersten bis zum fünften Zeichen der Variable text auf dem Bildschirm aus.\n",
    "print(text[0:5])"
   ]
  },
  {
   "cell_type": "code",
   "execution_count": 21,
   "metadata": {
    "slideshow": {
     "slide_type": "slide"
    }
   },
   "outputs": [
    {
     "name": "stdout",
     "output_type": "stream",
     "text": [
      "g\n"
     ]
    }
   ],
   "source": [
    "# Geben Sie das letzte Zeichen der Variable text aus, ohne die Länge der Zeichenkette fest zu kodieren.\n",
    "# Tipp: Probieren Sie negative Werte für den Index\n",
    "print(text[-1])"
   ]
  },
  {
   "cell_type": "code",
   "execution_count": 22,
   "metadata": {
    "slideshow": {
     "slide_type": "slide"
    }
   },
   "outputs": [
    {
     "name": "stdout",
     "output_type": "stream",
     "text": [
      "Er sagte, er hieße 'Klaus', aber er hieß Peter.\n"
     ]
    }
   ],
   "source": [
    "# Definieren Sie eine Variable 'text', die den Text 'Er sagte, er hieße 'Klaus', aber er hieß Peter.' enthält.'\n",
    "text = print(\"Er sagte, er hieße 'Klaus', aber er hieß Peter.\")"
   ]
  },
  {
   "cell_type": "code",
   "execution_count": 1,
   "metadata": {
    "slideshow": {
     "slide_type": "slide"
    }
   },
   "outputs": [],
   "source": [
    "# Definieren Sie eine Variable 'text', die folgenden Text enthält \n",
    "# (Quelle: Bruce Springsteen: Racing in the Streets):\n",
    "# Geben Sie das Ergebnis anschließend auf dem Bildschirm aus."
   ]
  },
  {
   "cell_type": "markdown",
   "metadata": {},
   "source": [
    "_Some guys they just give up living_<br /> \n",
    "_And start dying little by little, piece by piece,_<br /> \n",
    "_Some guys come home from work and wash up,_<br /> \n",
    "_And go racin' in the street_"
   ]
  },
  {
   "cell_type": "code",
   "execution_count": 24,
   "metadata": {
    "slideshow": {
     "slide_type": "fragment"
    }
   },
   "outputs": [],
   "source": [
    "text = \"\"\"Some guys they just give up living\n",
    "And start dying little by little, piece by piece,\n",
    "Some guys come home from work and wash up,\n",
    "And go racin' in the street\"\"\"\n",
    "print(text)"
   ]
  },
  {
   "cell_type": "markdown",
   "metadata": {
    "slideshow": {
     "slide_type": "slide"
    }
   },
   "source": [
    "## Listen\n",
    "Listen sind strukturierte Datenelemente, die aus einer beliebigen Anzahl von Unterelementen bestehen. Jedes Unterelement kann einen anderen Datentyp haben und man kann die Elemente einzeln über ihren Index ansteuern."
   ]
  },
  {
   "cell_type": "code",
   "execution_count": 30,
   "metadata": {
    "slideshow": {
     "slide_type": "fragment"
    }
   },
   "outputs": [
    {
     "name": "stdout",
     "output_type": "stream",
     "text": [
      "[1, 2, 3, 4, 5]\n"
     ]
    }
   ],
   "source": [
    "# Definieren Sie eine Liste als Variable mit dem Namen 'meine_liste', die alle ganzen Zahlen von 1 bis 5 enthält.\n",
    "# Geben Sie die gesamte Liste auf dem Bildschirm aus.\n",
    "meine_liste = [1, 2, 3, 4, 5]\n",
    "print(meine_liste)"
   ]
  },
  {
   "cell_type": "code",
   "execution_count": 31,
   "metadata": {
    "slideshow": {
     "slide_type": "slide"
    }
   },
   "outputs": [
    {
     "name": "stdout",
     "output_type": "stream",
     "text": [
      "1\n"
     ]
    }
   ],
   "source": [
    "# Geben Sie nur das erste Element der Liste auf dem Bildschirm aus.\n",
    "print(meine_liste[0])"
   ]
  },
  {
   "cell_type": "code",
   "execution_count": 32,
   "metadata": {
    "slideshow": {
     "slide_type": "fragment"
    }
   },
   "outputs": [
    {
     "name": "stdout",
     "output_type": "stream",
     "text": [
      "[2, 3]\n"
     ]
    }
   ],
   "source": [
    "# Geben Sie das zweite und das dritte Element der Liste auf dem Bildschirm aus.\n",
    "print(meine_liste[1:3])"
   ]
  },
  {
   "cell_type": "code",
   "execution_count": 33,
   "metadata": {
    "slideshow": {
     "slide_type": "slide"
    }
   },
   "outputs": [
    {
     "name": "stdout",
     "output_type": "stream",
     "text": [
      "5\n"
     ]
    }
   ],
   "source": [
    "# Geben Sie das jeweils letzte Element der Liste aus dem Bildschirm aus.\n",
    "print(meine_liste[-1])"
   ]
  },
  {
   "cell_type": "code",
   "execution_count": 36,
   "metadata": {
    "slideshow": {
     "slide_type": "fragment"
    }
   },
   "outputs": [
    {
     "name": "stdout",
     "output_type": "stream",
     "text": [
      "[1, 99, 4, 5, 1000, 10, 20, 30]\n"
     ]
    }
   ],
   "source": [
    "# Ersetzen Sie das zweite und das dritte Element durch ein neues Element mit dem Wert 99.\n",
    "# Geben Sie das Ergebnis auf dem Bildschirm aus.\n",
    "meine_liste[1:3] = [99]\n",
    "print (meine_liste)"
   ]
  },
  {
   "cell_type": "code",
   "execution_count": 34,
   "metadata": {
    "slideshow": {
     "slide_type": "slide"
    }
   },
   "outputs": [
    {
     "name": "stdout",
     "output_type": "stream",
     "text": [
      "[1, 2, 3, 4, 5, 1000]\n"
     ]
    }
   ],
   "source": [
    "# Verlängern Sie die Liste mit der Methode 'append' um ein Element mit dem Wert 1000.\n",
    "# Geben Sie das Ergebnis auf dem Bildschirm aus.\n",
    "meine_liste.append(1000)\n",
    "print(meine_liste)"
   ]
  },
  {
   "cell_type": "code",
   "execution_count": 35,
   "metadata": {
    "slideshow": {
     "slide_type": "slide"
    }
   },
   "outputs": [
    {
     "name": "stdout",
     "output_type": "stream",
     "text": [
      "[1, 2, 3, 4, 5, 1000, 10, 20, 30]\n"
     ]
    }
   ],
   "source": [
    "# Verlängern Sie die Liste mit der Methode 'extend' um die Liste [10, 20, 30].\n",
    "# Geben Sie das Ergebnis auf dem Bildschirm aus.\n",
    "meine_liste.extend([10,20,30])\n",
    "print(meine_liste)"
   ]
  },
  {
   "cell_type": "markdown",
   "metadata": {},
   "source": [
    "## Aufgabe: Wandeln Sie eine beliebige Binärzahl in eine Dezimalzahl um.\n",
    "    "
   ]
  },
  {
   "cell_type": "markdown",
   "metadata": {},
   "source": [
    "## Aufgabe: Berechnen Sie die Quersumme einer beliebigen Ganzzahl."
   ]
  },
  {
   "cell_type": "markdown",
   "metadata": {},
   "source": [
    "## Aufgabe: Berechnen Sie die Fakultät `x!`."
   ]
  },
  {
   "cell_type": "markdown",
   "metadata": {},
   "source": [
    "## Aufgabe: Berechnen Sie die Prüfzimmer für eine GTIN-13 / EAN-13."
   ]
  },
  {
   "cell_type": "markdown",
   "metadata": {},
   "source": [
    "## Aufgabe: Wandeln Sie eine beliebige Dezimalzahl in eine Binärzahl um."
   ]
  },
  {
   "cell_type": "markdown",
   "metadata": {},
   "source": [
    "## Aufgabe: Berechnen Sie die lineare Abschreibung und den Restwert eines Investitionsgutes."
   ]
  },
  {
   "cell_type": "markdown",
   "metadata": {},
   "source": [
    "## Aufgabe: Berechnen Sie die Abschreibung degressiv und den Restwert eines Investitionsgutes."
   ]
  },
  {
   "cell_type": "markdown",
   "metadata": {},
   "source": [
    "## Aufgabe: Wechselgeld"
   ]
  },
  {
   "cell_type": "markdown",
   "metadata": {},
   "source": [
    "## Aufgabe: Wechselgeld mit Münzbestand"
   ]
  },
  {
   "cell_type": "markdown",
   "metadata": {},
   "source": [
    "## Aufgabe: Taxikosten"
   ]
  },
  {
   "cell_type": "markdown",
   "metadata": {},
   "source": [
    "## Aufgabe: Telefongebühren"
   ]
  },
  {
   "cell_type": "markdown",
   "metadata": {},
   "source": [
    "## Aufgabe: Prüfen Sie, ob eine Zeichenkette ein Palindrom ist."
   ]
  },
  {
   "cell_type": "code",
   "execution_count": null,
   "metadata": {},
   "outputs": [],
   "source": [
    "text = 'ABBA'\n",
    "if len(text) % 2 == 0:\n",
    "    "
   ]
  },
  {
   "cell_type": "markdown",
   "metadata": {
    "slideshow": {
     "slide_type": "slide"
    }
   },
   "source": [
    "## Aufgabe: Einfache Verschlüsselung (Zeichensubstitution)"
   ]
  },
  {
   "cell_type": "code",
   "execution_count": 33,
   "metadata": {},
   "outputs": [],
   "source": [
    "# schluessel ist zufällige Liste aller Ziffern\n",
    "schluessel = [4, 9, 1, 0, 7, 8, 2, 5, 6, 3]"
   ]
  },
  {
   "cell_type": "code",
   "execution_count": 34,
   "metadata": {},
   "outputs": [
    {
     "name": "stdout",
     "output_type": "stream",
     "text": [
      "Verschlüsselte Form: 14939942\n"
     ]
    }
   ],
   "source": [
    "# Verschlüsselung\n",
    "meine_pin = '20191106'\n",
    "chiffrat = ''\n",
    "for ziffer in meine_pin:\n",
    "    neue_ziffer = schluessel[int(ziffer)]\n",
    "    chiffrat = chiffrat + str(neue_ziffer)\n",
    "print('Verschlüsselte Form:', chiffrat)"
   ]
  },
  {
   "cell_type": "code",
   "execution_count": 35,
   "metadata": {},
   "outputs": [
    {
     "name": "stdout",
     "output_type": "stream",
     "text": [
      "Dekodiert: 20191106\n"
     ]
    }
   ],
   "source": [
    "# Entschlüsselung\n",
    "zahl_dekodiert = ''\n",
    "for ziffer in chiffrat:\n",
    "    urspruengliche_ziffer = schluessel.index(int(ziffer))\n",
    "    zahl_dekodiert = zahl_dekodiert + str(urspruengliche_ziffer)\n",
    "print('Dekodiert:', zahl_dekodiert)"
   ]
  },
  {
   "cell_type": "markdown",
   "metadata": {},
   "source": [
    "## Aufgabe: Analyse der Buchstabenhäufigkeit"
   ]
  },
  {
   "cell_type": "markdown",
   "metadata": {},
   "source": [
    "## Aufgabe: Binäre Suche"
   ]
  },
  {
   "cell_type": "markdown",
   "metadata": {},
   "source": [
    "## Aufgabe: Nearest Neighbor"
   ]
  },
  {
   "cell_type": "code",
   "execution_count": 1,
   "metadata": {},
   "outputs": [
    {
     "name": "stdout",
     "output_type": "stream",
     "text": [
      "65\n"
     ]
    }
   ],
   "source": [
    "print(ord('A'))"
   ]
  },
  {
   "cell_type": "markdown",
   "metadata": {
    "slideshow": {
     "slide_type": "slide"
    }
   },
   "source": [
    "# Vielen Dank! <a class=\"tocSkip\">\n",
    "[**http://www.ebusiness-unibw.org/wiki/Teaching/PIP**](http://www.ebusiness-unibw.org/wiki/Teaching/PIP)"
   ]
  },
  {
   "cell_type": "code",
   "execution_count": null,
   "metadata": {},
   "outputs": [],
   "source": []
  }
 ],
 "metadata": {
  "celltoolbar": "Slideshow",
  "kernelspec": {
   "display_name": "Python 3",
   "language": "python",
   "name": "python3"
  },
  "language_info": {
   "codemirror_mode": {
    "name": "ipython",
    "version": 3
   },
   "file_extension": ".py",
   "mimetype": "text/x-python",
   "name": "python",
   "nbconvert_exporter": "python",
   "pygments_lexer": "ipython3",
   "version": "3.7.1"
  },
  "rise": {
   "backimage": "background.png",
   "center": false,
   "enable_chalkboard": false,
   "footer": "Univ.-Prof. Dr. Martin Hepp, martin.hepp@unibw.de",
   "header": "Programmierung in Python",
   "showSlideNumber": "pdf",
   "slideNumber": "c/t",
   "theme": "chesterish",
   "transition": "none"
  },
  "toc": {
   "base_numbering": 1,
   "nav_menu": {},
   "number_sections": true,
   "sideBar": true,
   "skip_h1_title": false,
   "title_cell": "Table of Contents",
   "title_sidebar": "Contents",
   "toc_cell": false,
   "toc_position": {},
   "toc_section_display": true,
   "toc_window_display": false
  }
 },
 "nbformat": 4,
 "nbformat_minor": 2
}
