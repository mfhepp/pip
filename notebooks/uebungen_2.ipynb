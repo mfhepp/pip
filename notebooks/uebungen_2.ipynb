{
 "cells": [
  {
   "cell_type": "markdown",
   "metadata": {
    "slideshow": {
     "slide_type": "slide"
    }
   },
   "source": [
    "# Programmierung in Python <span class=\"tocSkip\" />\n",
    "**Univ.-Prof. Dr. Martin Hepp,** Universität der Bundeswehr München\n",
    "\n",
    "\n",
    "## Übungsaufgaben Einheit 2<span class=\"tocSkip\" />"
   ]
  },
  {
   "cell_type": "markdown",
   "metadata": {},
   "source": [
    "**Hinweis:** Die gezeigten Beispiele sind mit Hinblick auf das Lernziel bewusst gestaltet. Sie nutzen mit Absicht möglichst wenige fertige Funktionen aus der Bibliothek von Python, selbst wenn diese schneller oder kürzer wären. \n",
    "\n",
    "Sie sollen hier üben, ein Problem durch eine Kontrollflussstruktur aus möglichst einfachen Anweisungen algorithmisch eigenständig zu lösen."
   ]
  },
  {
   "cell_type": "markdown",
   "metadata": {
    "slideshow": {
     "slide_type": "slide"
    }
   },
   "source": [
    "## Aufgabe: Schreiben Sie ein Programm, das zwei Ganzzahlen multipliziert.\n",
    "Nutzen Sie eine `while`-Schleife mit einer Abbruchbedingung, nicht den vorhandenen Operator `*`. "
   ]
  },
  {
   "cell_type": "markdown",
   "metadata": {
    "slideshow": {
     "slide_type": "slide"
    }
   },
   "source": [
    "### Aufgabe"
   ]
  },
  {
   "cell_type": "code",
   "execution_count": null,
   "metadata": {
    "cell_style": "center",
    "slideshow": {
     "slide_type": "-"
    }
   },
   "outputs": [],
   "source": [
    "faktor_1 = 5\n",
    "faktor_2 = 7\n",
    "ergebnis = 0\n",
    "while # Bedingung :\n",
    "    # Anweisungen\n",
    "print(ergebnis)"
   ]
  },
  {
   "cell_type": "markdown",
   "metadata": {
    "slideshow": {
     "slide_type": "slide"
    }
   },
   "source": [
    "### Musterlösung"
   ]
  },
  {
   "cell_type": "code",
   "execution_count": 70,
   "metadata": {},
   "outputs": [
    {
     "name": "stdout",
     "output_type": "stream",
     "text": [
      "35\n"
     ]
    }
   ],
   "source": [
    "faktor_1 = 5\n",
    "faktor_2 = 7\n",
    "ergebnis = 0\n",
    "while faktor_2 > 0:\n",
    "    ergebnis = ergebnis + faktor_1\n",
    "    faktor_2 = faktor_2 -1\n",
    "print(ergebnis)"
   ]
  },
  {
   "cell_type": "markdown",
   "metadata": {
    "slideshow": {
     "slide_type": "slide"
    }
   },
   "source": [
    "## Aufgabe: Schreiben Sie ein Programm, das eine Ganzzahl durch eine andere Ganzzahl ganzzahlig dividiert.\n",
    "Verwenden Sie dabei nicht die vorhandenen Operatoren `//` oder `/`, sondern nutzen Sie eine `while`-Schleife mit einer Abbruchbedingung."
   ]
  },
  {
   "cell_type": "markdown",
   "metadata": {
    "slideshow": {
     "slide_type": "slide"
    }
   },
   "source": [
    "### Aufgabe"
   ]
  },
  {
   "cell_type": "code",
   "execution_count": null,
   "metadata": {
    "slideshow": {
     "slide_type": "slide"
    }
   },
   "outputs": [],
   "source": [
    "# Dividend : Divisor = Quotient\n",
    "dividend = 57\n",
    "divisor = 6\n",
    "quotient = 0\n",
    "rest = 0\n",
    "while # Bedingung hier einfügen :\n",
    "    # Anweisungen hier einfügen\n",
    "print(quotient, rest)"
   ]
  },
  {
   "cell_type": "markdown",
   "metadata": {
    "slideshow": {
     "slide_type": "slide"
    }
   },
   "source": [
    "### Musterlösung"
   ]
  },
  {
   "cell_type": "code",
   "execution_count": 71,
   "metadata": {},
   "outputs": [
    {
     "name": "stdout",
     "output_type": "stream",
     "text": [
      "9 3\n"
     ]
    }
   ],
   "source": [
    "# Dividend : Divisor = Quotient\n",
    "dividend = 57\n",
    "divisor = 6\n",
    "quotient = 0\n",
    "rest = dividend\n",
    "while rest >= divisor:\n",
    "    quotient = quotient + 1\n",
    "    rest = rest - divisor\n",
    "print(quotient, rest)"
   ]
  },
  {
   "cell_type": "markdown",
   "metadata": {
    "slideshow": {
     "slide_type": "slide"
    }
   },
   "source": [
    "## Aufgabe: Berechnen Sie die Fakultät `x!`.\n",
    "Die Fakultät $x!$ ist das Produkt aller ganzen Zahlen von $x >= zahl > 0$.\n",
    "\n",
    "**Beispiel:**\n",
    "`3! = 3 * 2 * 1 = 6`.\n"
   ]
  },
  {
   "cell_type": "markdown",
   "metadata": {},
   "source": [
    "### Aufgabe"
   ]
  },
  {
   "cell_type": "code",
   "execution_count": null,
   "metadata": {},
   "outputs": [],
   "source": [
    "x = 8"
   ]
  },
  {
   "cell_type": "markdown",
   "metadata": {
    "slideshow": {
     "slide_type": "fragment"
    }
   },
   "source": [
    "### Musterlösung"
   ]
  },
  {
   "cell_type": "code",
   "execution_count": 70,
   "metadata": {},
   "outputs": [
    {
     "name": "stdout",
     "output_type": "stream",
     "text": [
      "Die Fakultät von  8  ist  40320\n"
     ]
    }
   ],
   "source": [
    "fakultaet = 1\n",
    "for zahl in range(8, 0, -1):\n",
    "    fakultaet = fakultaet * zahl\n",
    "print('Die Fakultät von ', x, ' ist ', fakultaet)"
   ]
  },
  {
   "cell_type": "markdown",
   "metadata": {
    "slideshow": {
     "slide_type": "slide"
    }
   },
   "source": [
    "## Aufgabe: Wandeln Sie eine beliebige Binärzahl in eine Dezimalzahl um.\n",
    "Verwenden Sie dabei keine von Python für diesen Zweck explizit vorhandenen Funktionen!"
   ]
  },
  {
   "cell_type": "markdown",
   "metadata": {},
   "source": [
    "### Aufgabe"
   ]
  },
  {
   "cell_type": "code",
   "execution_count": null,
   "metadata": {},
   "outputs": [],
   "source": [
    "binaerzahl = '01110101'\n",
    "# Hier einfügen"
   ]
  },
  {
   "cell_type": "markdown",
   "metadata": {
    "slideshow": {
     "slide_type": "slide"
    }
   },
   "source": [
    "### Musterlösung"
   ]
  },
  {
   "cell_type": "code",
   "execution_count": 66,
   "metadata": {},
   "outputs": [
    {
     "name": "stdout",
     "output_type": "stream",
     "text": [
      "01110101  entspricht  117\n",
      "Kontrolle:  117\n"
     ]
    }
   ],
   "source": [
    "dezimalzahl = 0\n",
    "stellenwert = 1\n",
    "# Wir müssen an der letzten Stelle anfangen\n",
    "letzte_stelle = len(binaerzahl) - 1\n",
    "for position in range(letzte_stelle, 0, -1):\n",
    "    dezimalzahl = dezimalzahl + int(binaerzahl[position]) * stellenwert\n",
    "    stellenwert = stellenwert * 2\n",
    "print(binaerzahl, ' entspricht ', dezimalzahl)\n",
    "print('Kontrolle: ', int(binaerzahl, 2))"
   ]
  },
  {
   "cell_type": "markdown",
   "metadata": {
    "slideshow": {
     "slide_type": "slide"
    }
   },
   "source": [
    "**Eleganter:**"
   ]
  },
  {
   "cell_type": "code",
   "execution_count": 106,
   "metadata": {
    "slideshow": {
     "slide_type": "-"
    }
   },
   "outputs": [
    {
     "name": "stdout",
     "output_type": "stream",
     "text": [
      "117\n"
     ]
    }
   ],
   "source": [
    "binaerzahl = '01110101'\n",
    "dezimalzahl = 0\n",
    "for position, zeichen in enumerate(reversed(binaerzahl)):\n",
    "    dezimalzahl += int(zeichen) * 2**position\n",
    "print(dezimalzahl)"
   ]
  },
  {
   "cell_type": "code",
   "execution_count": 76,
   "metadata": {
    "nbsolutions": true,
    "slideshow": {
     "slide_type": "fragment"
    }
   },
   "outputs": [
    {
     "name": "stdout",
     "output_type": "stream",
     "text": [
      "117\n"
     ]
    }
   ],
   "source": [
    "# Python-Profi\n",
    "# int() erlaubt die Angabe der Basis als Parameter (2 für Binärzahlen)\n",
    "print(int(binaerzahl, 2))"
   ]
  },
  {
   "cell_type": "markdown",
   "metadata": {
    "slideshow": {
     "slide_type": "slide"
    }
   },
   "source": [
    "## Aufgabe: Berechnen Sie die Quersumme einer beliebigen Ganzzahl.\n",
    "**Hinweis:** Denken Sie daran, dass man eine Zahl mit `str(<zahl>)` in eine Zeichenkette umwandeln und mit `int(<ziffer>)` den Wert einer Zahl oder Ziffer aus einem String erhalten kann. "
   ]
  },
  {
   "cell_type": "markdown",
   "metadata": {},
   "source": [
    "### Aufgabe"
   ]
  },
  {
   "cell_type": "code",
   "execution_count": null,
   "metadata": {},
   "outputs": [],
   "source": [
    "zahl = 124723847273489"
   ]
  },
  {
   "cell_type": "markdown",
   "metadata": {
    "slideshow": {
     "slide_type": "fragment"
    }
   },
   "source": [
    "### Musterlösung"
   ]
  },
  {
   "cell_type": "code",
   "execution_count": 69,
   "metadata": {},
   "outputs": [
    {
     "name": "stdout",
     "output_type": "stream",
     "text": [
      "71\n"
     ]
    }
   ],
   "source": [
    "quersumme = 0\n",
    "for stelle in str(zahl):\n",
    "    quersumme = quersumme + int(stelle)\n",
    "print(quersumme)"
   ]
  },
  {
   "cell_type": "markdown",
   "metadata": {
    "slideshow": {
     "slide_type": "slide"
    }
   },
   "source": [
    "## Aufgabe: Suche in einer Liste\n",
    "### Aufgabe\n",
    "Schreiben Sie ein Programm, das in einer Liste nach einem gegebenen Wert sucht. Wenn der Wert gefunden wird, soll seine Position in der Liste ausgegeben werden.\n",
    "\n",
    "Nutzen Sie NICHT die von Python bereitgestellte Suchfunktion, sondern entwickeln Sie eine eigene Lösung auf Basis einer Schleife."
   ]
  },
  {
   "cell_type": "code",
   "execution_count": 76,
   "metadata": {},
   "outputs": [],
   "source": [
    "my_liste = ['Hepp', 'Mueller', 'Meier']\n",
    "gesuchter_wert = 'Meier'\n",
    "# Hier einfügen"
   ]
  },
  {
   "cell_type": "markdown",
   "metadata": {
    "slideshow": {
     "slide_type": "fragment"
    }
   },
   "source": [
    "### Musterlösung"
   ]
  },
  {
   "cell_type": "code",
   "execution_count": 77,
   "metadata": {},
   "outputs": [
    {
     "name": "stdout",
     "output_type": "stream",
     "text": [
      "Meier gefunden an Position 2\n"
     ]
    }
   ],
   "source": [
    "positionszaehler = 0\n",
    "for element in my_liste:\n",
    "    if element == gesuchter_wert:\n",
    "        print(gesuchter_wert, 'gefunden an Position', positionszaehler)\n",
    "    positionszaehler = positionszaehler + 1"
   ]
  },
  {
   "cell_type": "markdown",
   "metadata": {
    "slideshow": {
     "slide_type": "slide"
    }
   },
   "source": [
    "## Aufgabe: Berechnen Sie die Prüfziffer für eine GTIN-13 / EAN-13. (anspruchsvoll)\n",
    "Die 13-stellige Ziffernfolge unter dem Barcode eines Konsumgüterproduktes besteht aus zwölf Nutzziffern und einer Prüfziffer, die Eingabe- und Lesefehler erkennen hilft.\n",
    "\n",
    "Diese Prüfziffer wird aus den Nutzziffern wie folgt berechnet:\n",
    "- Zunächst wird jede Stelle von links beginnend abwechselnd mit 1 und mit 3 multipliziert und zu einer Summe addiert. Dies nennt man eine gewichtete Quersumme, weil die Position einer Ziffer für die Quersumme relevant ist. Einfache Zahlendreher führen zu einer anderen Quersumme.\n",
    "- Anschließend wird die Differenz zur nächstgrößeren durch zehn teilbaren Zahl ermittelt. Dies ergibt die Prüfziffer, die an 13ter Stelle eingefügt wird.\n",
    "\n",
    "**Beispiel:**\n",
    "\n",
    "$401500073853 =>\n",
    "1 * 4 + 3 * 0 + 1 * 1 + 3 * 5 + 1 * 0 + 3 * 0 + 1 * 0 + 3 * 7 + 1 * 3 + 3 * 8 + 1 * 5 + 3 * 3 = 82$\n",
    "\n",
    "$ 90 - 82 = 8$\n",
    "\n",
    "Die Prüfziffer ist also 8."
   ]
  },
  {
   "cell_type": "markdown",
   "metadata": {
    "slideshow": {
     "slide_type": "slide"
    }
   },
   "source": [
    "### Aufgabe"
   ]
  },
  {
   "cell_type": "code",
   "execution_count": 19,
   "metadata": {},
   "outputs": [],
   "source": [
    "gtin_13 = '401500073853'\n",
    "\n",
    "# Hier einfügen"
   ]
  },
  {
   "cell_type": "markdown",
   "metadata": {
    "slideshow": {
     "slide_type": "slide"
    }
   },
   "source": [
    "### Musterlösung"
   ]
  },
  {
   "cell_type": "code",
   "execution_count": 20,
   "metadata": {},
   "outputs": [
    {
     "name": "stdout",
     "output_type": "stream",
     "text": [
      "8\n"
     ]
    }
   ],
   "source": [
    "checksum = 0\n",
    "gewicht = 1\n",
    "for ziffer in gtin_13:\n",
    "    checksum += int(ziffer) * gewicht\n",
    "    # Die Gewichtung könnte eleganter alterniert werden,\n",
    "    # aber das wäre unnötig verwirrend.\n",
    "    if gewicht == 1:\n",
    "        gewicht = 3\n",
    "    else:\n",
    "        gewicht = 1\n",
    "naechstgroessere_zahl = (checksum // 10 + 1) * 10\n",
    "checksum = naechstgroessere_zahl - checksum\n",
    "# Eleganter, aber komplizierter:\n",
    "# checksum = (10 - checksum % 10) % 10\n",
    "print(checksum)"
   ]
  },
  {
   "cell_type": "markdown",
   "metadata": {
    "slideshow": {
     "slide_type": "slide"
    }
   },
   "source": [
    "## Aufgabe: Wandeln Sie eine Dezimalzahl in eine Binärzahl um.\n",
    "Verwenden Sie dabei keine von Python für diesen Zweck explizit vorhandenen Funktionen!"
   ]
  },
  {
   "cell_type": "markdown",
   "metadata": {},
   "source": [
    "### Aufgabe\n",
    "Gegeben sei eine Dezimalzahl zwischen 0 und 255. Sie soll in eine Binärzahl umgewandelt werden.\n",
    "\n",
    "**Tipp:** Wir wissen, dass das höchste Bit einer achtstelligen Binärzahl die Wertigkeit 128 hat, das entspricht $2^7$. Wir können also nacheinander die Wertigkeiten aller Stellen von der größten zur kleinsten nehmen und prüfen, ob die Zahl größer oder gleich diesem Wert ist. Wenn ja, ist das Bit gesetzt und der Wert wird abgezogen."
   ]
  },
  {
   "cell_type": "code",
   "execution_count": 22,
   "metadata": {},
   "outputs": [],
   "source": [
    "dezimalzahl = int(154)\n",
    "# Hier einfügen"
   ]
  },
  {
   "cell_type": "markdown",
   "metadata": {
    "slideshow": {
     "slide_type": "slide"
    }
   },
   "source": [
    "### Musterlösung"
   ]
  },
  {
   "cell_type": "code",
   "execution_count": 28,
   "metadata": {},
   "outputs": [
    {
     "name": "stdout",
     "output_type": "stream",
     "text": [
      "Die Dezimalzahl 154 entspricht der Binärzahl 10011010\n"
     ]
    }
   ],
   "source": [
    "# Vereinfacht\n",
    "eingabewert = dezimalzahl\n",
    "ausgabewert = ''\n",
    "wertigkeiten = [128, 64, 32, 16, 8, 4, 2, 1]\n",
    "for bit_wert in wertigkeiten:\n",
    "    if eingabewert >= bit_wert:\n",
    "        ausgabewert = ausgabewert + \"1\"\n",
    "        eingabewert = eingabewert - bit_wert\n",
    "    else:\n",
    "        ausgabewert = ausgabewert + \"0\"\n",
    "print('Die Dezimalzahl', dezimalzahl, 'entspricht der Binärzahl', ausgabewert)"
   ]
  },
  {
   "cell_type": "markdown",
   "metadata": {
    "slideshow": {
     "slide_type": "slide"
    }
   },
   "source": [
    "### Musterlösung, eleganter<span class=\"tocSkip\" />\n",
    "Eleganter ist es, die Zweierpotenzen, beginnend mit der größten, die in Frage kommt, abzuarbeiten."
   ]
  },
  {
   "cell_type": "code",
   "execution_count": 30,
   "metadata": {},
   "outputs": [
    {
     "name": "stdout",
     "output_type": "stream",
     "text": [
      "Die Dezimalzahl 154 entspricht der Binärzahl 10011010\n"
     ]
    }
   ],
   "source": [
    "eingabewert = dezimalzahl\n",
    "ausgabewert = ''\n",
    "# 0 soll eingeschlossen werden, daher muss es range(7, -1, -1) \n",
    "# und nicht range(7, 0, -1) heißen\n",
    "for bit in range(7, -1, -1):\n",
    "    if eingabewert >= 2**bit:\n",
    "        ausgabewert = ausgabewert + \"1\"\n",
    "        eingabewert = eingabewert - 2**bit\n",
    "    else:\n",
    "        ausgabewert = ausgabewert + \"0\"\n",
    "print('Die Dezimalzahl', dezimalzahl, 'entspricht der Binärzahl', ausgabewert)"
   ]
  },
  {
   "cell_type": "markdown",
   "metadata": {
    "slideshow": {
     "slide_type": "slide"
    }
   },
   "source": [
    "## Aufgabe: Erzeugen Sie alle möglichen Passwortkombinationen.\n",
    "\n",
    "Nehmen wir an, die meisten Nutzer verwenden eine Kombination aus dem Vornamen einer Person und einer Jahreszahl.\n",
    "Schreiben Sie ein Programm, dass alle möglichen Kombinationen aus den Namen\n",
    "```\n",
    "vornamen = ['Peter', 'Petra', 'Paul', 'Paula', 'Frank', 'Susanne', 'Martin', 'Martina']\n",
    "```\n",
    "und den Jahreszahlen von 2010 bis 2019 erzeugt."
   ]
  },
  {
   "cell_type": "markdown",
   "metadata": {},
   "source": [
    "### Aufgabe"
   ]
  },
  {
   "cell_type": "code",
   "execution_count": 32,
   "metadata": {},
   "outputs": [],
   "source": [
    "# Hier einfügen\n",
    "vornamen = ['Peter', 'Petra', 'Paul', 'Paula', 'Frank', 'Susanne', 'Martin', 'Martina']\n",
    "passwoerter = []"
   ]
  },
  {
   "cell_type": "markdown",
   "metadata": {
    "slideshow": {
     "slide_type": "slide"
    }
   },
   "source": [
    "### Musterlösung"
   ]
  },
  {
   "cell_type": "code",
   "execution_count": 33,
   "metadata": {},
   "outputs": [
    {
     "name": "stdout",
     "output_type": "stream",
     "text": [
      "['Peter2010', 'Peter2011', 'Peter2012', 'Peter2013', 'Peter2014', 'Peter2015', 'Peter2016', 'Peter2017', 'Peter2018', 'Peter2019', 'Petra2010', 'Petra2011', 'Petra2012', 'Petra2013', 'Petra2014', 'Petra2015', 'Petra2016', 'Petra2017', 'Petra2018', 'Petra2019', 'Paul2010', 'Paul2011', 'Paul2012', 'Paul2013', 'Paul2014', 'Paul2015', 'Paul2016', 'Paul2017', 'Paul2018', 'Paul2019', 'Paula2010', 'Paula2011', 'Paula2012', 'Paula2013', 'Paula2014', 'Paula2015', 'Paula2016', 'Paula2017', 'Paula2018', 'Paula2019', 'Frank2010', 'Frank2011', 'Frank2012', 'Frank2013', 'Frank2014', 'Frank2015', 'Frank2016', 'Frank2017', 'Frank2018', 'Frank2019', 'Susanne2010', 'Susanne2011', 'Susanne2012', 'Susanne2013', 'Susanne2014', 'Susanne2015', 'Susanne2016', 'Susanne2017', 'Susanne2018', 'Susanne2019', 'Martin2010', 'Martin2011', 'Martin2012', 'Martin2013', 'Martin2014', 'Martin2015', 'Martin2016', 'Martin2017', 'Martin2018', 'Martin2019', 'Martina2010', 'Martina2011', 'Martina2012', 'Martina2013', 'Martina2014', 'Martina2015', 'Martina2016', 'Martina2017', 'Martina2018', 'Martina2019']\n"
     ]
    }
   ],
   "source": [
    "for name in vornamen:\n",
    "    for jahr in range(2010, 2020):\n",
    "        passwoerter.append(name + str(jahr))\n",
    "print(passwoerter)        "
   ]
  },
  {
   "cell_type": "markdown",
   "metadata": {
    "slideshow": {
     "slide_type": "slide"
    }
   },
   "source": [
    "## Aufgabe: Berechnen Sie die jährliche lineare Abschreibung und den jeweiligen Buchwert eines Investitionsgutes."
   ]
  },
  {
   "cell_type": "markdown",
   "metadata": {},
   "source": [
    "### Aufgabe\n",
    "Bei der linearen Abschreibung wird der Restwert am Ende jeder Periode  um einen festen Prozentsatz der Anschaffungskosten vermindert."
   ]
  },
  {
   "cell_type": "code",
   "execution_count": 34,
   "metadata": {},
   "outputs": [],
   "source": [
    "abschreibungsdauer = 10  # Jahre\n",
    "abschreibungssatz = 0.1  # 10 %\n",
    "anschaffungskosten = 23450  # Euro\n",
    "\n",
    "# Hier einfügen"
   ]
  },
  {
   "cell_type": "markdown",
   "metadata": {
    "slideshow": {
     "slide_type": "slide"
    }
   },
   "source": [
    "### Musterlösung\n",
    "\n",
    "**Hinweis:** Zur lesbareren Formattierung nutzen wir hier f-Strings, die in Einheit 1 im Abschnitt 3.12.1.5 behandelt werden."
   ]
  },
  {
   "cell_type": "code",
   "execution_count": 41,
   "metadata": {},
   "outputs": [
    {
     "name": "stdout",
     "output_type": "stream",
     "text": [
      "Restwert am Ende der Periode  1: 21105.00\n",
      "Restwert am Ende der Periode  2: 18760.00\n",
      "Restwert am Ende der Periode  3: 16415.00\n",
      "Restwert am Ende der Periode  4: 14070.00\n",
      "Restwert am Ende der Periode  5: 11725.00\n",
      "Restwert am Ende der Periode  6:  9380.00\n",
      "Restwert am Ende der Periode  7:  7035.00\n",
      "Restwert am Ende der Periode  8:  4690.00\n",
      "Restwert am Ende der Periode  9:  2345.00\n",
      "Restwert am Ende der Periode 10:     0.00\n"
     ]
    }
   ],
   "source": [
    "restwert = anschaffungskosten\n",
    "abschreibung = anschaffungskosten * abschreibungssatz\n",
    "for periode in range(1, abschreibungsdauer + 1):\n",
    "    restwert = restwert - abschreibung\n",
    "    print(f'Restwert am Ende der Periode {periode:2d}: {restwert:8.2f}')   \n",
    "    "
   ]
  },
  {
   "cell_type": "markdown",
   "metadata": {
    "slideshow": {
     "slide_type": "slide"
    }
   },
   "source": [
    "## Berechnen Sie die jährliche degressive Abschreibung und den jeweiligen Buchwert eines Investitionsgutes."
   ]
  },
  {
   "cell_type": "markdown",
   "metadata": {
    "slideshow": {
     "slide_type": "slide"
    }
   },
   "source": [
    "### Aufgabe\n",
    "Bei der degressiven Abschreibung wird der Restwert am Ende jeder Periode um einen festen Prozentsatz des Restwertes vermindert."
   ]
  },
  {
   "cell_type": "code",
   "execution_count": null,
   "metadata": {},
   "outputs": [],
   "source": [
    "abschreibungsdauer = 10  # Jahre\n",
    "abschreibungssatz = 0.20  # 20 %\n",
    "anschaffungskosten = 23450  # Euro\n",
    "\n",
    "# Hier einfügen"
   ]
  },
  {
   "cell_type": "markdown",
   "metadata": {
    "slideshow": {
     "slide_type": "slide"
    }
   },
   "source": [
    "### Musterlösung"
   ]
  },
  {
   "cell_type": "code",
   "execution_count": 42,
   "metadata": {},
   "outputs": [
    {
     "name": "stdout",
     "output_type": "stream",
     "text": [
      "Restwert am Ende der Periode  1: 21105.00\n",
      "Restwert am Ende der Periode  2: 18994.50\n",
      "Restwert am Ende der Periode  3: 17095.05\n",
      "Restwert am Ende der Periode  4: 15385.54\n",
      "Restwert am Ende der Periode  5: 13846.99\n",
      "Restwert am Ende der Periode  6: 12462.29\n",
      "Restwert am Ende der Periode  7: 11216.06\n",
      "Restwert am Ende der Periode  8: 10094.46\n",
      "Restwert am Ende der Periode  9:  9085.01\n",
      "Restwert am Ende der Periode 10:  8176.51\n"
     ]
    }
   ],
   "source": [
    "restwert = anschaffungskosten\n",
    "for periode in range(1, abschreibungsdauer + 1):\n",
    "    abschreibung = restwert * abschreibungssatz\n",
    "    restwert = restwert - abschreibung\n",
    "    print(f'Restwert am Ende der Periode {periode:2d}: {restwert:8.2f}')   "
   ]
  },
  {
   "cell_type": "markdown",
   "metadata": {
    "slideshow": {
     "slide_type": "slide"
    }
   },
   "source": [
    "## Aufgabe: Wechselgeld\n",
    "Schreiben Sie ein Python-Programm, das einen Rechnungsbetrag und einen\n",
    "Zahlbetrag vom Benutzer erfragt und berechnen Sie dann die kleinste Wechselgeldkombination (auf Basis der Stückelung im Euro-Raum: 1, 2, 5, 10, 20, 50 Cent, 1, 2,\n",
    "5, 10, 20, 50, 100, 200 Euro)."
   ]
  },
  {
   "cell_type": "markdown",
   "metadata": {},
   "source": [
    "### Aufgabe"
   ]
  },
  {
   "cell_type": "code",
   "execution_count": 107,
   "metadata": {},
   "outputs": [
    {
     "name": "stdout",
     "output_type": "stream",
     "text": [
      "Rechnungsbetrag in Euro? 6.65\n",
      "Gezahlter Betrag? 9.00\n"
     ]
    }
   ],
   "source": [
    "muenzen_und_scheine = [1, 2, 5, 10, 20, 50, 100, 200,\n",
    "                       500, 1000, 2000, 5000, 10000, 20000]\n",
    "# Wir benötigen die Werte der Zahlungsmittel in absteigender Reihenfolge\n",
    "muenzen_und_scheine.sort(reverse=True)\n",
    "rechnungsbetrag = float(input('Rechnungsbetrag in Euro? '))\n",
    "zahlbetrag = float(input('Gezahlter Betrag? '))\n",
    "\n",
    "# Hier einfügen"
   ]
  },
  {
   "cell_type": "markdown",
   "metadata": {
    "slideshow": {
     "slide_type": "slide"
    }
   },
   "source": [
    "### Musterlösung"
   ]
  },
  {
   "cell_type": "code",
   "execution_count": 108,
   "metadata": {},
   "outputs": [
    {
     "name": "stdout",
     "output_type": "stream",
     "text": [
      "0 x 20000\n",
      "0 x 10000\n",
      "0 x 5000\n",
      "0 x 2000\n",
      "0 x 1000\n",
      "0 x 500\n",
      "1 x 200\n",
      "0 x 100\n",
      "0 x 50\n",
      "1 x 20\n",
      "1 x 10\n",
      "0 x 5\n",
      "2 x 2\n",
      "0 x 1\n"
     ]
    }
   ],
   "source": [
    "wechselgeld_betrag = zahlbetrag - rechnungsbetrag\n",
    "wechselgeld_betrag = wechselgeld_betrag * 100  # in Cent\n",
    "for item in muenzen_und_scheine:\n",
    "    if wechselgeld_betrag >= item:\n",
    "        anzahl = int(wechselgeld_betrag // item)\n",
    "        print(anzahl, 'x', item)\n",
    "        wechselgeld_betrag = wechselgeld_betrag - item * anzahl\n",
    "        # Eleganter über Divisionsrest:\n",
    "        # wechselgeld_betrag = wechselgeld_betrag % item\n",
    "    else:\n",
    "        print('0 x', item)"
   ]
  },
  {
   "cell_type": "markdown",
   "metadata": {
    "slideshow": {
     "slide_type": "slide"
    }
   },
   "source": [
    "## Aufgabe: Wechselgeld mit Münzbestand\n",
    "Erweitern Sie das Programm aus der vorherigen Aufgabe so, dass jeweils berücksichtigt wird, ob die benötigten Münzen und Scheine in der entsprechenden Menge vorhanden sind. Sonst müssen diese durch die nächstkleinere Größe ersetzt werden."
   ]
  },
  {
   "cell_type": "markdown",
   "metadata": {},
   "source": [
    "### Aufgabe"
   ]
  },
  {
   "cell_type": "code",
   "execution_count": 86,
   "metadata": {},
   "outputs": [
    {
     "name": "stdout",
     "output_type": "stream",
     "text": [
      "Rechnungsbetrag in Euro? 3.99\n",
      "Gezahlter Betrag? 210\n"
     ]
    }
   ],
   "source": [
    "muenzen_und_scheine = [1, 2, 5, 10, 20, 50, 100, 200,\n",
    "                       500, 1000, 2000, 5000, 10000, 20000]\n",
    "muenzen_und_scheine.sort(reverse=True)\n",
    "bestand = {'1': 100, '2': 100, '5': 2, '10': 20, '20': 5, '50': 3,\n",
    "           '100': 10, '200': 2,\n",
    "           '500': 1, '1000': 5, '2000': 4, '5000': 2, '10000': 1, '20000': 0}\n",
    "rechnungsbetrag = float(input('Rechnungsbetrag in Euro? '))\n",
    "zahlbetrag = float(input('Gezahlter Betrag? '))\n",
    "\n",
    "# Hier einfügen"
   ]
  },
  {
   "cell_type": "markdown",
   "metadata": {
    "slideshow": {
     "slide_type": "slide"
    }
   },
   "source": [
    "### Musterlösung"
   ]
  },
  {
   "cell_type": "code",
   "execution_count": 87,
   "metadata": {},
   "outputs": [
    {
     "name": "stdout",
     "output_type": "stream",
     "text": [
      "0 x 20000\n",
      "1 x 10000\n",
      "2 x 5000\n",
      "0 x 2000\n",
      "0 x 1000\n",
      "1 x 500\n",
      "0 x 200\n",
      "1 x 100\n",
      "0 x 50\n",
      "0 x 20\n",
      "0 x 10\n",
      "0 x 5\n",
      "0 x 2\n",
      "1 x 1\n"
     ]
    }
   ],
   "source": [
    "wechselgeld_betrag = zahlbetrag - rechnungsbetrag\n",
    "wechselgeld_betrag = wechselgeld_betrag * 100  # in Cent\n",
    "for item in muenzen_und_scheine:\n",
    "    if wechselgeld_betrag >= item:\n",
    "        anzahl = int(wechselgeld_betrag // item)\n",
    "        if bestand[str(item)] >= anzahl:\n",
    "            bestand[str(item)] = bestand[str(item)] - anzahl\n",
    "        else:\n",
    "            anzahl = bestand[str(item)]\n",
    "            bestand[str(item)] = 0\n",
    "        print(anzahl, 'x', item)\n",
    "        wechselgeld_betrag = wechselgeld_betrag - item * anzahl\n",
    "    else:\n",
    "        print('0 x', item)"
   ]
  },
  {
   "cell_type": "markdown",
   "metadata": {
    "slideshow": {
     "slide_type": "slide"
    }
   },
   "source": [
    "## Aufgabe: Taxikosten\n",
    "Nehmen Sie an, der Preis für ein Taxi bestehe aus\n",
    "- einem Grundpreis von 2,50 Euro und\n",
    "- einem kilometerabhängigen Preis von 4 Euro pro Kilometer.\n",
    "\n",
    "Schreiben Sie ein Python-Programm, das eine Preistabelle für alle Strecken zwischen 1 und 10 km ausgibt."
   ]
  },
  {
   "cell_type": "markdown",
   "metadata": {},
   "source": [
    "### Aufgabe: Preistabelle"
   ]
  },
  {
   "cell_type": "code",
   "execution_count": 92,
   "metadata": {},
   "outputs": [],
   "source": [
    "grundpreis = 2.50  # Euro\n",
    "preis_pro_km = 4.0  # Euro\n",
    "\n",
    "# Hier einfügen"
   ]
  },
  {
   "cell_type": "markdown",
   "metadata": {
    "slideshow": {
     "slide_type": "slide"
    }
   },
   "source": [
    "### Musterlösung"
   ]
  },
  {
   "cell_type": "code",
   "execution_count": 91,
   "metadata": {},
   "outputs": [
    {
     "name": "stdout",
     "output_type": "stream",
     "text": [
      "1 km kosten 6.5 Euro.\n",
      "2 km kosten 10.5 Euro.\n",
      "3 km kosten 14.5 Euro.\n",
      "4 km kosten 18.5 Euro.\n",
      "5 km kosten 22.5 Euro.\n",
      "6 km kosten 26.5 Euro.\n",
      "7 km kosten 30.5 Euro.\n",
      "8 km kosten 34.5 Euro.\n",
      "9 km kosten 38.5 Euro.\n",
      "10 km kosten 42.5 Euro.\n"
     ]
    }
   ],
   "source": [
    "for strecke in range(1, 11):\n",
    "    print(strecke, 'km kosten', grundpreis + strecke * preis_pro_km, 'Euro.')"
   ]
  },
  {
   "cell_type": "markdown",
   "metadata": {
    "slideshow": {
     "slide_type": "slide"
    }
   },
   "source": [
    "### Aufgabe: Erweiterung: Rabatt ab 10 km\n",
    "Erweitern Sie das Programm derart, dass der kilometerabhängige Preis ab dem\n",
    "fünften Kilometer auf 3 Euro pro Kilometer sinkt."
   ]
  },
  {
   "cell_type": "code",
   "execution_count": 93,
   "metadata": {},
   "outputs": [],
   "source": [
    "grundpreis = 2.50  # Euro\n",
    "preis_pro_km = 4.0 # Euro\n",
    "preis_pro_km_reduziert = 3.0  # Euro\n",
    "\n",
    "# Hier einfügen"
   ]
  },
  {
   "cell_type": "markdown",
   "metadata": {
    "slideshow": {
     "slide_type": "slide"
    }
   },
   "source": [
    "### Musterlösung"
   ]
  },
  {
   "cell_type": "code",
   "execution_count": 95,
   "metadata": {},
   "outputs": [
    {
     "name": "stdout",
     "output_type": "stream",
     "text": [
      "1 km kosten 6.5 Euro.\n",
      "2 km kosten 10.5 Euro.\n",
      "3 km kosten 14.5 Euro.\n",
      "4 km kosten 18.5 Euro.\n",
      "5 km kosten 21.5 Euro.\n",
      "6 km kosten 24.5 Euro.\n",
      "7 km kosten 27.5 Euro.\n",
      "8 km kosten 30.5 Euro.\n",
      "9 km kosten 33.5 Euro.\n",
      "10 km kosten 36.5 Euro.\n"
     ]
    }
   ],
   "source": [
    "for strecke in range(1, 11):\n",
    "    if strecke < 5:\n",
    "        print(strecke, 'km kosten', grundpreis + strecke * preis_pro_km, 'Euro.')\n",
    "    else:\n",
    "        print(strecke, 'km kosten', \n",
    "              grundpreis + preis_pro_km * 4 + (strecke - 4) * preis_pro_km_reduziert, \n",
    "              'Euro.')"
   ]
  },
  {
   "cell_type": "markdown",
   "metadata": {
    "slideshow": {
     "slide_type": "slide"
    }
   },
   "source": [
    "### Erweiterung: Benutzereingabe und Aufrunden auf Abrechnungseinheiten\n",
    "Verändern Sie das Programm so, dass die Länge der Fahrt vom Programmbenutzer\n",
    "erfragt wird und der kilometerabhängige Preis nur in Einheiten von 500 m – mit\n",
    "Aufrunden – berechnet wird (Beispiel: Bei 3,25 km werden 3,5 km berechnet)."
   ]
  },
  {
   "cell_type": "code",
   "execution_count": null,
   "metadata": {},
   "outputs": [],
   "source": [
    "# Hier einfügen"
   ]
  },
  {
   "cell_type": "markdown",
   "metadata": {
    "slideshow": {
     "slide_type": "slide"
    }
   },
   "source": [
    "## Aufgabe: Telefongebühren\n",
    "\n",
    "Schreiben Sie ein Programm, das aus folgenden Verbindungsdaten eine\n",
    "Telefonrechnung erstellt:\n",
    "\n",
    "|Zielrufnummer | Verbindungsdauer (sec) | \n",
    "|---|---|\n",
    "|+49896004-0|30|\n",
    "|+4969123456|120|\n",
    "|+43152000|50|\n",
    "|+352989104-7|20|\n",
    "|+49896004-0|68|\n",
    "\n",
    "Alle Gespräche im Ortsbereich (beginnend mit \"+4989\") kosten 0,01 Euro pro\n",
    "Sekunde. Alle Gespräche innerhalb Deutschlands (beginnend mit \"+49\") kosten 0,04\n",
    "Euro pro Sekunde. Alle übrigen Gespräche sind internationale Verbindungen und kosten\n",
    "0,12 Euro pro Sekunde"
   ]
  },
  {
   "cell_type": "markdown",
   "metadata": {
    "slideshow": {
     "slide_type": "slide"
    }
   },
   "source": [
    "### Aufgabe"
   ]
  },
  {
   "cell_type": "code",
   "execution_count": 103,
   "metadata": {},
   "outputs": [],
   "source": [
    "verbindungdaten = [('+49896004-0', 30),\n",
    "                   ('+4969123456', 120), \n",
    "                   ('+43152000', 50),\n",
    "                   ('+352989104-7', 20),\n",
    "                   ('+49896004-0', 68)]\n",
    "preis_ort = 0.01  # Euro pro Sekunde\n",
    "preis_inland = 0.04  # Euro pro Sekunde\n",
    "preis_ausland = 0.12  # Euro pro Sekunde\n",
    "\n",
    "# Hier einfügen"
   ]
  },
  {
   "cell_type": "markdown",
   "metadata": {
    "slideshow": {
     "slide_type": "slide"
    }
   },
   "source": [
    "### Musterlösung"
   ]
  },
  {
   "cell_type": "code",
   "execution_count": 104,
   "metadata": {},
   "outputs": [
    {
     "name": "stdout",
     "output_type": "stream",
     "text": [
      "Rufnummer:  +49896004-0  Dauer: 30 Betrag: 0.3\n",
      "Rufnummer:  +4969123456  Dauer: 120 Betrag: 4.8\n",
      "Rufnummer:  +43152000  Dauer: 50 Betrag: 6.0\n",
      "Rufnummer:  +352989104-7  Dauer: 20 Betrag: 2.4\n",
      "Rufnummer:  +49896004-0  Dauer: 68 Betrag: 0.68\n",
      "Gesamtbetrag: 14.18\n"
     ]
    }
   ],
   "source": [
    "rechnungssumme = 0\n",
    "for item in verbindungdaten:\n",
    "    nummer, dauer = item\n",
    "    if nummer.startswith('+4989'):\n",
    "        betrag = dauer * preis_ort\n",
    "    elif nummer.startswith('+49'):\n",
    "        betrag = dauer * preis_inland\n",
    "    else:\n",
    "        betrag = dauer * preis_ausland\n",
    "    rechnungssumme = rechnungssumme + betrag\n",
    "    print('Rufnummer: ', nummer, ' Dauer:', dauer, 'Betrag:', betrag)\n",
    "print('Gesamtbetrag:', rechnungssumme)"
   ]
  },
  {
   "cell_type": "markdown",
   "metadata": {
    "slideshow": {
     "slide_type": "slide"
    }
   },
   "source": [
    "## Aufgabe: Prüfen Sie, ob eine Zeichenkette ein Palindrom ist.\n",
    "Ein [Palindrom ist ein Wort, das vorwärts und rückwärts gelesen dieselbe Zeichenfolge hat](https://de.wikipedia.org/wiki/Palindrom).\n",
    "\n",
    "**Beispiele:**\n",
    "- ABBA\n",
    "- OTTO\n",
    "- LAGER\n"
   ]
  },
  {
   "cell_type": "markdown",
   "metadata": {},
   "source": [
    "### Aufgabe\n",
    "Schreiben Sie ein Programm, das für eine gegebene Zeichenkette prüft, ob sie ein Palindrom ist."
   ]
  },
  {
   "cell_type": "code",
   "execution_count": 71,
   "metadata": {},
   "outputs": [],
   "source": [
    "text = 'FRANZ'\n",
    "# Hier einfügen"
   ]
  },
  {
   "cell_type": "markdown",
   "metadata": {
    "slideshow": {
     "slide_type": "slide"
    }
   },
   "source": [
    "### Musterlösung"
   ]
  },
  {
   "cell_type": "code",
   "execution_count": 75,
   "metadata": {},
   "outputs": [
    {
     "name": "stdout",
     "output_type": "stream",
     "text": [
      "FRANZ ist kein Palindrom, FRANZ != ZNARF\n"
     ]
    }
   ],
   "source": [
    "# Leichter verständliche Lösung\n",
    "text_gespiegelt = ''\n",
    "for char in text:\n",
    "    text_gespiegelt = char + text_gespiegelt\n",
    "if text_gespiegelt == text:\n",
    "    print(f'{text} ist ein Palindrom.')\n",
    "else:\n",
    "    print(f'{text} ist kein Palindrom, {text} != {text_gespiegelt}')"
   ]
  },
  {
   "cell_type": "markdown",
   "metadata": {
    "slideshow": {
     "slide_type": "slide"
    }
   },
   "source": [
    "**Elegantere Lösung:**"
   ]
  },
  {
   "cell_type": "code",
   "execution_count": 72,
   "metadata": {
    "slideshow": {
     "slide_type": "-"
    }
   },
   "outputs": [
    {
     "name": "stdout",
     "output_type": "stream",
     "text": [
      "Palindrom\n"
     ]
    }
   ],
   "source": [
    "# text[::-1] liefert eine Zeichenkette in umgekehrter Reihenfolge zurück\n",
    "if text == text[::-1]:\n",
    "    print('Palindrom')\n",
    "else:\n",
    "    print('Kein Palidrom')"
   ]
  },
  {
   "cell_type": "markdown",
   "metadata": {
    "slideshow": {
     "slide_type": "slide"
    }
   },
   "source": [
    "## Aufgabe: Einfache Verschlüsselung (Zeichensubstitution)\n",
    "Schreiben Sie ein Programm, das eine beliebige Folge von Ziffern, die als Zeichenkette übergeben wird, in eine verschlüsselte Form übersetzt, indem jede Ziffer gemäß der folgenden Tabelle ersetzt wird:\n",
    "\n",
    "|Ziffer|Verschlüsselte Ziffer|\n",
    "|---|---|\n",
    "|0|4|\n",
    "|1|9|\n",
    "|2|1|\n",
    "|3|0|\n",
    "|4|7|\n",
    "|5|8|\n",
    "|6|2|\n",
    "|7|5|\n",
    "|8|6|\n",
    "|9|3|"
   ]
  },
  {
   "cell_type": "markdown",
   "metadata": {
    "slideshow": {
     "slide_type": "slide"
    }
   },
   "source": [
    "### Aufgabe"
   ]
  },
  {
   "cell_type": "code",
   "execution_count": 79,
   "metadata": {},
   "outputs": [],
   "source": [
    "# schluessel ist zufällige Liste aller Ziffern\n",
    "schluessel = [4, 9, 1, 0, 7, 8, 2, 5, 6, 3]"
   ]
  },
  {
   "cell_type": "markdown",
   "metadata": {
    "slideshow": {
     "slide_type": "slide"
    }
   },
   "source": [
    "### Musterlösung"
   ]
  },
  {
   "cell_type": "code",
   "execution_count": 74,
   "metadata": {},
   "outputs": [
    {
     "name": "stdout",
     "output_type": "stream",
     "text": [
      "Verschlüsselte Form: 14939942\n"
     ]
    }
   ],
   "source": [
    "# Verschlüsselung\n",
    "meine_pin = '20191106'\n",
    "chiffrat = ''\n",
    "for ziffer in meine_pin:\n",
    "    neue_ziffer = schluessel[int(ziffer)]\n",
    "    chiffrat = chiffrat + str(neue_ziffer)\n",
    "print('Verschlüsselte Form:', chiffrat)"
   ]
  },
  {
   "cell_type": "markdown",
   "metadata": {
    "slideshow": {
     "slide_type": "slide"
    }
   },
   "source": [
    "**Enschlüsselung:**"
   ]
  },
  {
   "cell_type": "code",
   "execution_count": 75,
   "metadata": {
    "slideshow": {
     "slide_type": "-"
    }
   },
   "outputs": [
    {
     "name": "stdout",
     "output_type": "stream",
     "text": [
      "Dekodiert: 20191106\n"
     ]
    }
   ],
   "source": [
    "zahl_dekodiert = ''\n",
    "for ziffer in chiffrat:\n",
    "    urspruengliche_ziffer = schluessel.index(int(ziffer))\n",
    "    zahl_dekodiert = zahl_dekodiert + str(urspruengliche_ziffer)\n",
    "print('Dekodiert:', zahl_dekodiert)"
   ]
  },
  {
   "cell_type": "markdown",
   "metadata": {
    "slideshow": {
     "slide_type": "slide"
    }
   },
   "source": [
    "## Aufgabe: Analyse der Buchstabenhäufigkeit\n",
    "Zählen Sie die Häufigkeit der einzelnen Buchstaben im folgenden Text:\n",
    "\n",
    "*Im Bewußtsein seiner Verantwortung vor Gott und den Menschen,\n",
    "von dem Willen beseelt, als gleichberechtigtes Glied in einem vereinten Europa dem Frieden der Welt zu dienen, hat sich das Deutsche Volk kraft seiner verfassungsgebenden Gewalt dieses Grundgesetz gegeben.\n",
    "Die Deutschen in den Ländern Baden-Württemberg, Bayern, Berlin, Brandenburg, Bremen, Hamburg, Hessen, Mecklenburg-Vorpommern, Niedersachsen, Nordrhein-Westfalen, Rheinland-Pfalz, Saarland, Sachsen, Sachsen-Anhalt, Schleswig-Holstein und Thüringen haben in freier Selbstbestimmung die Einheit und Freiheit Deutschlands vollendet. Damit gilt dieses Grundgesetz für das gesamte Deutsche Volk.*\n",
    "\n",
    "**Tipp:** Nutzen Sie ein Dictionary, um die Buchstaben und ihre Häufigkeit zu speichern. Dabei sollte der Buchstabe der Schlüssel für einen Eintrag sein."
   ]
  },
  {
   "cell_type": "markdown",
   "metadata": {
    "slideshow": {
     "slide_type": "slide"
    }
   },
   "source": [
    "### Aufgabe"
   ]
  },
  {
   "cell_type": "code",
   "execution_count": 45,
   "metadata": {},
   "outputs": [],
   "source": [
    "text = \"\"\"Im Bewußtsein seiner Verantwortung vor Gott und den Menschen,\n",
    "von dem Willen beseelt, als gleichberechtigtes Glied in einem vereinten Europa \n",
    "dem Frieden der Welt zu dienen, hat sich das Deutsche Volk kraft seiner \n",
    "verfassungsgebenden Gewalt dieses Grundgesetz gegeben.\n",
    "Die Deutschen in den Ländern Baden-Württemberg, Bayern, Berlin, Brandenburg, \n",
    "Bremen, Hamburg, Hessen, Mecklenburg-Vorpommern, Niedersachsen, Nordrhein-Westfalen, \n",
    "Rheinland-Pfalz, Saarland, Sachsen, Sachsen-Anhalt, Schleswig-Holstein und Thüringen \n",
    "haben in freier Selbstbestimmung die Einheit und Freiheit Deutschlands vollendet. \n",
    "Damit gilt dieses Grundgesetz für das gesamte Deutsche Volk.\"\"\"\n",
    "\n",
    "text = text.upper()\n",
    "# Hier einfügen"
   ]
  },
  {
   "cell_type": "markdown",
   "metadata": {
    "slideshow": {
     "slide_type": "slide"
    }
   },
   "source": [
    "### Musterlösung"
   ]
  },
  {
   "cell_type": "code",
   "execution_count": 61,
   "metadata": {},
   "outputs": [
    {
     "name": "stdout",
     "output_type": "stream",
     "text": [
      "{'I': 35, 'M': 15, 'B': 17, 'E': 98, 'W': 8, 'U': 18, 'S': 43, 'T': 33, 'N': 60, 'R': 36, 'V': 9, 'A': 28, 'O': 12, 'G': 23, 'D': 34, 'C': 13, 'H': 23, ',': 17, 'L': 25, 'P': 3, 'F': 8, 'Z': 4, 'K': 4, '.': 3, 'Ä': 1, '-': 6, 'Ü': 3, 'Y': 1}\n"
     ]
    }
   ],
   "source": [
    "haeufigkeiten = {}\n",
    "for char in text:\n",
    "    # Wir schließen Sonderzeichen und das Leerzeichen aus\n",
    "    # ord(<zeichen>) liefert den ASCII-Code eines Zeichens\n",
    "    # Das ist nur eine Verfeinerung\n",
    "    if ord(char) > 32:\n",
    "        haeufigkeiten[char] = haeufigkeiten.get(char, 0) + 1\n",
    "    \n",
    "print(haeufigkeiten)"
   ]
  },
  {
   "cell_type": "markdown",
   "metadata": {},
   "source": [
    "**Hinweis:** Das Sortieren eines Dictionaries nach Werten ist nicht-trivial und wird hier nicht behandelt."
   ]
  },
  {
   "cell_type": "markdown",
   "metadata": {
    "slideshow": {
     "slide_type": "slide"
    }
   },
   "source": [
    "#### Bonus: Visualisierung der Buchstabenhäufigkeit<span class=\"tocSkip\" />\n",
    "Bitte ignorieren Sie den Programmcode, er ist für diese Vorlesung zu kompliziert."
   ]
  },
  {
   "cell_type": "code",
   "execution_count": 78,
   "metadata": {},
   "outputs": [
    {
     "data": {
      "image/png": "[encoded data removed]",
      "text/plain": [
       "<Figure size 432x288 with 1 Axes>"
      ]
     },
     "metadata": {
      "needs_background": "light"
     },
     "output_type": "display_data"
    }
   ],
   "source": [
    "import matplotlib.pylab as plt\n",
    "\n",
    "data = sorted(haeufigkeiten.items(), key=lambda freq: freq[1], reverse=True)\n",
    "x, y = zip(*data) # unpack a list of pairs into two tuples\n",
    "plt.bar(x, y)\n",
    "plt.show()"
   ]
  },
  {
   "cell_type": "markdown",
   "metadata": {
    "slideshow": {
     "slide_type": "slide"
    }
   },
   "source": [
    "## Aufgabe: Binäre Suche (anspruchsvoll)\n",
    "Die binäre Suche ist ein sehr effizienter Algorithmus, um in einer sortierten Liste von Objekten zu suchen. Dabei wird zunächst in der Mitte der Liste geprüft, ob der gesuchte Eintrag genau dort, unterhalb oder oberhalb liegt. \n",
    "\n",
    "Anschließend wird die Liste halbiert und nur noch in der relevanten Teilliste weiter gesucht. \n",
    "\n",
    "Dies wird wiederholt, bis das Element gefunden wurde oder die Liste erfolglos durchsucht wurde.\n",
    "\n",
    "Für Details lesen bitte Sie den [Wikipedia-Artikel zur binären Suche](https://de.wikipedia.org/wiki/Bin%C3%A4re_Suche)."
   ]
  },
  {
   "cell_type": "markdown",
   "metadata": {
    "slideshow": {
     "slide_type": "slide"
    }
   },
   "source": [
    "### Aufgabe"
   ]
  },
  {
   "cell_type": "code",
   "execution_count": 141,
   "metadata": {},
   "outputs": [],
   "source": [
    "daten = [39, 26, 78, 88, 49, 93, 23, 83, 12, 5, 34, 29, 44, 40, 77]\n",
    "daten.sort()\n",
    "\n",
    "# Wir müssen mit einer zweiten Variablen arbeiten, sonst werden die Eingangsdaten\n",
    "# bei der Verarbeitung ggfls. verändert.\n",
    "liste = daten  \n",
    "\n",
    "# Hier einfügen"
   ]
  },
  {
   "cell_type": "markdown",
   "metadata": {
    "slideshow": {
     "slide_type": "slide"
    }
   },
   "source": [
    "### Musterlösung"
   ]
  },
  {
   "cell_type": "code",
   "execution_count": 142,
   "metadata": {},
   "outputs": [
    {
     "name": "stdout",
     "output_type": "stream",
     "text": [
      "Suche in Teilliste [5, 12, 23, 26, 29, 34, 39, *40*, 44, 49, 77, 78, 83, 88, 93]\n",
      "Suche in Teilliste [5, 12, 23, *26*, 29, 34, 39]\n",
      "Suche in Teilliste [26, 29, *34*, 39]\n",
      "Suche in Teilliste [34, *39*, ]\n",
      "Wert gefunden, Position:  6\n"
     ]
    }
   ],
   "source": [
    "gesuchter_wert = 39\n",
    "\n",
    "position = 0\n",
    "while len(liste) > 0:\n",
    "    suchposition = len(liste) // 2\n",
    "    # Die folgende Zeile können Sie ignorieren.\n",
    "    # Sie verdeutlicht nur den Suchvorgang.\n",
    "    print(f'Suche in Teilliste {str(liste[:suchposition])[:-1]}, *{liste[suchposition]}*, {str(liste[suchposition + 1:])[1:]}')\n",
    "\n",
    "    if liste[suchposition] == gesuchter_wert:\n",
    "        print('Wert gefunden, Position: ', position + suchposition)\n",
    "        break\n",
    "    elif liste[suchposition] < gesuchter_wert:\n",
    "        position += suchposition\n",
    "        liste = liste[suchposition:]\n",
    "    else:\n",
    "        liste = liste[:suchposition]\n",
    "    if len(liste) == 1 and liste[0] != gesuchter_wert:\n",
    "        print('Wert nicht gefunden.')\n",
    "        break"
   ]
  },
  {
   "cell_type": "markdown",
   "metadata": {
    "slideshow": {
     "slide_type": "slide"
    }
   },
   "source": [
    "## Aufgabe: Traveling Salesman Problem (anspruchsvoll)\n",
    "\n",
    "Das [Problem des Handlungsreisenden](https://de.wikipedia.org/wiki/Problem_des_Handlungsreisenden) ist eines der wichtigsten klassischen Probleme der Logistik. Das Ziel ist es, aus einer Liste von Orten und einer Matrix der Entfernungen zwischen den Orten die kürzeste Route zu finden, die alle Orte genau einmal besucht.\n",
    "\n",
    "Die optimale Lösung ist nur durch hohen Rechenaufwand zu finden, sobald die Anzahl der Orte auch nur moderat groß ist.\n",
    "\n",
    "In der Praxis greift man daher auf Heuristiken zu, wie z.B. den [Nearest-Neighbor-Algorithmus](https://de.wikipedia.org/wiki/Nearest-Neighbor-Heuristik). Hierbei wird einfach von einem Startknoten stets der am nächsten gelegene Ort angesteuert. Dies führt stets zu einer gültigen Lösung, die aber weit vom Optimum entfernt sein kann kann.\n",
    "\n",
    "Gegeben sei folgende Entfernungsmatrix:\n",
    "\n",
    "|&nbsp;|Bielefeld|Frankfurt|München|Karlsruhe|\n",
    "|---|---|---|---|---|\n",
    "|Bielefeld|0|400|700|600|\n",
    "|Frankfurt|400|0|400|300|\n",
    "|München|700|400|0|350|\n",
    "|Karlsruhe|600|400|350|0|"
   ]
  },
  {
   "cell_type": "markdown",
   "metadata": {
    "slideshow": {
     "slide_type": "slide"
    }
   },
   "source": [
    "### Vollständige Lösung (\"brute force\")\n",
    "Die Erzeugung aller möglichen Permutationen (Kombinationen) ist nicht ganz trivial, daher verzichten wir hier darauf. Es gibt aber in Python eine fertige Funktion, um alle Kombinationen aus einer Liste zu erzeugen:"
   ]
  },
  {
   "cell_type": "code",
   "execution_count": 105,
   "metadata": {},
   "outputs": [
    {
     "name": "stdout",
     "output_type": "stream",
     "text": [
      "[('Bielefeld', 'Frankfurt', 'München', 'Karlsruhe', 'Bielefeld'), ('Bielefeld', 'Frankfurt', 'Karlsruhe', 'München', 'Bielefeld'), ('Bielefeld', 'München', 'Frankfurt', 'Karlsruhe', 'Bielefeld'), ('Bielefeld', 'München', 'Karlsruhe', 'Frankfurt', 'Bielefeld'), ('Bielefeld', 'Karlsruhe', 'Frankfurt', 'München', 'Bielefeld'), ('Bielefeld', 'Karlsruhe', 'München', 'Frankfurt', 'Bielefeld')]\n"
     ]
    }
   ],
   "source": [
    "staedte = ['Bielefeld', 'Frankfurt', 'München', 'Karlsruhe']\n",
    "\n",
    "startort = staedte[0]\n",
    "from itertools import permutations \n",
    "routen = permutations(staedte[1:])\n",
    "rundtouren = []\n",
    "for route in routen:\n",
    "    rundtour = (startort,) + route + (startort,)\n",
    "    rundtouren.append(rundtour)\n",
    "print(rundtouren)"
   ]
  },
  {
   "cell_type": "markdown",
   "metadata": {
    "slideshow": {
     "slide_type": "slide"
    }
   },
   "source": [
    "**Nun können Sie die Länge dieser Touren berechnen.**"
   ]
  },
  {
   "cell_type": "code",
   "execution_count": 9,
   "metadata": {
    "slideshow": {
     "slide_type": "-"
    }
   },
   "outputs": [
    {
     "name": "stdout",
     "output_type": "stream",
     "text": [
      "('Bielefeld', 'Frankfurt', 'München', 'Karlsruhe', 'Bielefeld') -> 1750\n",
      "('Bielefeld', 'Frankfurt', 'Karlsruhe', 'München', 'Bielefeld') -> 1750\n",
      "('Bielefeld', 'München', 'Frankfurt', 'Karlsruhe', 'Bielefeld') -> 2000\n",
      "('Bielefeld', 'München', 'Karlsruhe', 'Frankfurt', 'Bielefeld') -> 1850\n",
      "('Bielefeld', 'Karlsruhe', 'Frankfurt', 'München', 'Bielefeld') -> 2100\n",
      "('Bielefeld', 'Karlsruhe', 'München', 'Frankfurt', 'Bielefeld') -> 1750\n"
     ]
    }
   ],
   "source": [
    "# Dictionaries mit Entfernungen\n",
    "bielefeld = {'Bielefeld': 0, 'Frankfurt': 400, 'München': 700, 'Karlsruhe': 600}\n",
    "frankfurt = {'Bielefeld': 400, 'Frankfurt': 0, 'München': 400, 'Karlsruhe': 300}\n",
    "muenchen = {'Bielefeld': 700, 'Frankfurt': 400, 'München': 0, 'Karlsruhe': 350}\n",
    "karlsruhe = {'Bielefeld': 600, 'Frankfurt': 400, 'München': 350, 'Karlsruhe': 0}\n",
    "# Dictionary, das für einen Städtenamen das passende Dictionary speichert\n",
    "entfernungen = {'Bielefeld': bielefeld,\n",
    "                'Frankfurt': frankfurt,\n",
    "                'München': muenchen,\n",
    "                'Karlsruhe': karlsruhe}\n",
    "\n",
    "for route in rundtouren:\n",
    "    laenge = 0\n",
    "    restroute = route\n",
    "    while len(restroute) > 1:\n",
    "        # Wie weit ist es vom aktuellen Ort zum nächsten?\n",
    "        aktueller_ort = restroute[0]\n",
    "        naechster_ort = restroute[1]\n",
    "        laenge += entfernungen[aktueller_ort][naechster_ort]\n",
    "        restroute = restroute[1:]\n",
    "    print(route, \"->\", laenge)"
   ]
  },
  {
   "cell_type": "markdown",
   "metadata": {
    "slideshow": {
     "slide_type": "slide"
    }
   },
   "source": [
    "### Nearest-Neighbor-Verfahren\n",
    "Beim Nearest-Neigbor-Algorithmus wird einfach von jedem Ort zum nächstgelegenen gefahren. Dies kann allerdings zu Routen führen, die weit entfernt vom Optimum liegen, weil die Strecke der letzten Rückfahrt nicht für die Entscheidung berücksichtigt wird."
   ]
  },
  {
   "cell_type": "code",
   "execution_count": 11,
   "metadata": {},
   "outputs": [
    {
     "name": "stdout",
     "output_type": "stream",
     "text": [
      "['Bielefeld', 'Frankfurt', 'Karlsruhe', 'München']\n"
     ]
    }
   ],
   "source": [
    "startort = staedte[0]\n",
    "tour = [startort]\n",
    "ziele = staedte[1:]\n",
    "while len(ziele) > 0:\n",
    "    aktueller_ort = tour[-1]  # letztes Element\n",
    "    minimum = float('inf')\n",
    "    for ziel in ziele:\n",
    "        entfernung = entfernungen[aktueller_ort][ziel]\n",
    "        if entfernung < minimum:\n",
    "            nearest_neighbor = ziel\n",
    "            minimum = entfernung\n",
    "    # Am Ende enthält nearest_neighbor den nächsten Ort und minimum die Entfernung dorthin.\n",
    "    tour.append(nearest_neighbor)\n",
    "    ziele.remove(nearest_neighbor)\n",
    "print(tour)"
   ]
  },
  {
   "cell_type": "markdown",
   "metadata": {
    "slideshow": {
     "slide_type": "slide"
    }
   },
   "source": [
    "## Vorbereitende Übung für Machine Learning (nicht klausurrelevant)\n",
    "Die folgenden Aspekte sind wichtig, um die Idee maschineller Lernverfahren zu verstehen und anzuwenden. Dies ist nicht Gegenstand der Klausur, wird aber hier der Vollständigkeit halber beschrieben.\n",
    "\n",
    "Für eine gute Einführung, siehe [Wikipedia: Machine Learning (engl.)](https://en.wikipedia.org/wiki/Machine_learning)."
   ]
  },
  {
   "cell_type": "markdown",
   "metadata": {
    "slideshow": {
     "slide_type": "slide"
    }
   },
   "source": [
    "### Methode der kleinsten Quadrate\n",
    "\n",
    "[Wikipedia: Methode der kleinsten Quadrate](https://de.wikipedia.org/wiki/Methode_der_kleinsten_Quadrate)\n",
    "[Wikipedia: Lineare Einfachregression](https://de.wikipedia.org/wiki/Lineare_Einfachregression)"
   ]
  },
  {
   "cell_type": "code",
   "execution_count": 69,
   "metadata": {
    "slideshow": {
     "slide_type": "notes"
    }
   },
   "outputs": [],
   "source": [
    "import random\n",
    "import matplotlib.pylab as plt\n",
    "\n",
    "def funktion(wert):\n",
    "    ergebnis = 3 * wert**0.5 + 6\n",
    "    return ergebnis\n",
    "\n",
    "def funktion_2(wert):\n",
    "    ergebnis = 2.4 * wert**0.75 + 7\n",
    "    return ergebnis\n",
    "\n",
    "daten = [(i, round(funktion(i) + random.uniform(-2.0, 2.2), 2)) for i in range(10)]\n",
    "funktion_plot = [(i, funktion(i)) for i in range(10)]\n",
    "alternative = [(i, funktion_2(i)) for i in range(10)]"
   ]
  },
  {
   "cell_type": "code",
   "execution_count": 68,
   "metadata": {
    "slideshow": {
     "slide_type": "slide"
    }
   },
   "outputs": [
    {
     "data": {
      "text/plain": [
       "<function matplotlib.pyplot.show(*args, **kw)>"
      ]
     },
     "execution_count": 68,
     "metadata": {},
     "output_type": "execute_result"
    },
    {
     "data": {
      "image/png": "[encoded data removed]",
      "text/plain": [
       "<Figure size 432x288 with 1 Axes>"
      ]
     },
     "metadata": {
      "needs_background": "light"
     },
     "output_type": "display_data"
    }
   ],
   "source": [
    "plt.plot(*zip(*daten), 'ro')\n",
    "plt.plot(*zip(*funktion_plot), 'b')\n",
    "plt.plot(*zip(*alternative), 'g--')\n",
    "plt.show"
   ]
  },
  {
   "cell_type": "code",
   "execution_count": 65,
   "metadata": {
    "slideshow": {
     "slide_type": "slide"
    }
   },
   "outputs": [
    {
     "name": "stdout",
     "output_type": "stream",
     "text": [
      "Wert: 5.02 Vorhersage 1:  6.00 [ 0.98], Vorhersage 2:  7.00 [ 1.98]\n",
      "Wert: 10.69 Vorhersage 1:  9.00 [-1.69], Vorhersage 2:  9.40 [-1.29]\n",
      "Wert: 9.53 Vorhersage 1: 10.24 [ 0.71], Vorhersage 2: 11.04 [ 1.51]\n",
      "Wert: 13.11 Vorhersage 1: 11.20 [-1.91], Vorhersage 2: 12.47 [-0.64]\n",
      "Wert: 12.92 Vorhersage 1: 12.00 [-0.92], Vorhersage 2: 13.79 [ 0.87]\n",
      "Wert: 13.08 Vorhersage 1: 12.71 [-0.37], Vorhersage 2: 15.02 [ 1.94]\n",
      "Wert: 13.52 Vorhersage 1: 13.35 [-0.17], Vorhersage 2: 16.20 [ 2.68]\n",
      "Wert: 12.07 Vorhersage 1: 13.94 [ 1.87], Vorhersage 2: 17.33 [ 5.26]\n",
      "Wert: 14.98 Vorhersage 1: 14.49 [-0.49], Vorhersage 2: 18.42 [ 3.44]\n",
      "Wert: 15.05 Vorhersage 1: 15.00 [-0.05], Vorhersage 2: 19.47 [ 4.42]\n",
      "12.74, 78.99\n"
     ]
    }
   ],
   "source": [
    "summe = 0\n",
    "summe_2 = 0\n",
    "for value in daten:\n",
    "    x, y = value\n",
    "    prediction = funktion(x)\n",
    "    delta = prediction - y\n",
    "    fehlerquadrat = delta**2\n",
    "    summe += fehlerquadrat\n",
    "    \n",
    "    prediction_2 = funktion_2(x)\n",
    "    delta_2 = prediction_2 - y\n",
    "    fehlerquadrat_2 = delta_2**2\n",
    "    summe_2 += fehlerquadrat_2\n",
    "    print(f'Wert: {value[1]} Vorhersage 1: {prediction:5.2f} [{delta:5.2f}], Vorhersage 2: {prediction_2:5.2f} [{delta_2:5.2f}]')\n",
    "\n",
    "print(f'{summe:5.2f}, {summe_2:5.2f}')"
   ]
  },
  {
   "cell_type": "markdown",
   "metadata": {
    "slideshow": {
     "slide_type": "slide"
    }
   },
   "source": [
    "# Vielen Dank! <a class=\"tocSkip\">\n",
    "[**http://www.ebusiness-unibw.org/wiki/Teaching/PIP**](http://www.ebusiness-unibw.org/wiki/Teaching/PIP)"
   ]
  },
  {
   "cell_type": "code",
   "execution_count": null,
   "metadata": {},
   "outputs": [],
   "source": []
  }
 ],
 "metadata": {
  "celltoolbar": "Slideshow",
  "kernelspec": {
   "display_name": "Python 3",
   "language": "python",
   "name": "python3"
  },
  "language_info": {
   "codemirror_mode": {
    "name": "ipython",
    "version": 3
   },
   "file_extension": ".py",
   "mimetype": "text/x-python",
   "name": "python",
   "nbconvert_exporter": "python",
   "pygments_lexer": "ipython3",
   "version": "3.7.1"
  },
  "rise": {
   "backimage": "background.png",
   "center": false,
   "enable_chalkboard": false,
   "footer": "Univ.-Prof. Dr. Martin Hepp, martin.hepp@unibw.de",
   "header": "Programmierung in Python",
   "showSlideNumber": "pdf",
   "slideNumber": "c/t",
   "theme": "chesterish",
   "transition": "none"
  },
  "toc": {
   "base_numbering": 1,
   "nav_menu": {},
   "number_sections": true,
   "sideBar": true,
   "skip_h1_title": false,
   "title_cell": "Table of Contents",
   "title_sidebar": "Contents",
   "toc_cell": false,
   "toc_position": {
    "height": "calc(100% - 180px)",
    "left": "10px",
    "top": "150px",
    "width": "512px"
   },
   "toc_section_display": true,
   "toc_window_display": false
  }
 },
 "nbformat": 4,
 "nbformat_minor": 2
}
