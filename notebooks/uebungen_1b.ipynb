{
 "cells": [
  {
   "cell_type": "markdown",
   "metadata": {},
   "source": [
    "# Übungsaufgaben Unit 1.2 <a class=\"tocSkip\">\n",
    "## Komplexe Datenstrukturen <a class=\"tocSkip\">"
   ]
  },
  {
   "cell_type": "markdown",
   "metadata": {},
   "source": [
    "# Wiederholung \n",
    "Dictionaries sind Datenstrukturen, die Paare aus Name und Wert speichern können."
   ]
  },
  {
   "cell_type": "code",
   "execution_count": null,
   "metadata": {},
   "outputs": [],
   "source": [
    "my_dict = {'name': 'Martin Hepp', 'fakultaet': 'WOW'}"
   ]
  },
  {
   "cell_type": "markdown",
   "metadata": {},
   "source": [
    "## Aufgabe\n",
    "Erzeugen Sie ein Dictionary für eine Kundenadresse:\n",
    "```\n",
    "name = \"Peter Muster\"\n",
    "strasse = \"Werner-Heisenberg-Weg 39\"\n",
    "plz = \"85579\"\n",
    "ort = \"Neubiberg\"\n",
    "```"
   ]
  },
  {
   "cell_type": "code",
   "execution_count": 1,
   "metadata": {},
   "outputs": [],
   "source": [
    "# Hier einfügen"
   ]
  },
  {
   "cell_type": "markdown",
   "metadata": {},
   "source": [
    "## Aufgabe\n",
    "Erzeugen Sie eine Matrix als Liste von Listen aus diesen Daten:\n",
    "\n",
    "$\n",
    "\\quad\n",
    "\\begin{vmatrix}\n",
    "5 & 7 & 9\\\\\n",
    "3 & 2 & 4\\\\\n",
    "11 & 9 & 13\n",
    "\\end{vmatrix}\n",
    "\\quad\n",
    "$"
   ]
  },
  {
   "cell_type": "code",
   "execution_count": null,
   "metadata": {},
   "outputs": [],
   "source": [
    "# Hier einfügen"
   ]
  },
  {
   "cell_type": "markdown",
   "metadata": {},
   "source": [
    "## Aufgabe\n",
    "Erzeugen Sie eine Liste mit zwei Kundenadressen nach obigem Beispiel."
   ]
  },
  {
   "cell_type": "code",
   "execution_count": 2,
   "metadata": {},
   "outputs": [],
   "source": [
    "# Hier einfügen"
   ]
  },
  {
   "cell_type": "markdown",
   "metadata": {},
   "source": [
    "## Aufgabe\n",
    "Erzeugen Sie zunächst zwei Dictionaries, die Informationen zu zwei Musiktiteln enthalten.\n",
    "Speichern Sie diese dann als Playlist in einer Liste.\n",
    "Geben Sie anschließend den Titel des zweiten Songs in der Liste aus."
   ]
  },
  {
   "cell_type": "code",
   "execution_count": 3,
   "metadata": {},
   "outputs": [],
   "source": [
    "# Hier einfügen"
   ]
  },
  {
   "cell_type": "markdown",
   "metadata": {},
   "source": [
    "## Aufgabe: Satz des Pythagoras\n",
    "Schreiben Sie diese Formel als Python-Ausdruck\n",
    "\n",
    "$c = \\sqrt{(a^2 + b^2)}$"
   ]
  },
  {
   "cell_type": "code",
   "execution_count": 4,
   "metadata": {},
   "outputs": [],
   "source": [
    "# Hier einfügen"
   ]
  },
  {
   "cell_type": "markdown",
   "metadata": {},
   "source": [
    "## Aufgabe: Formel für Kreisfläche\n",
    "Schreiben Sie die Formel für die Kreisfläche als Python-Ausdruck\n",
    "\n",
    "$flaeche = \\pi*r^2$"
   ]
  },
  {
   "cell_type": "code",
   "execution_count": 5,
   "metadata": {},
   "outputs": [],
   "source": [
    "# Hier einfügen"
   ]
  },
  {
   "cell_type": "code",
   "execution_count": null,
   "metadata": {},
   "outputs": [],
   "source": []
  }
 ],
 "metadata": {
  "kernelspec": {
   "display_name": "Python 3",
   "language": "python",
   "name": "python3"
  },
  "language_info": {
   "codemirror_mode": {
    "name": "ipython",
    "version": 3
   },
   "file_extension": ".py",
   "mimetype": "text/x-python",
   "name": "python",
   "nbconvert_exporter": "python",
   "pygments_lexer": "ipython3",
   "version": "3.7.1"
  },
  "rise": {
   "backimage": "background.png",
   "center": false,
   "enable_chalkboard": false,
   "footer": "Univ.-Prof. Dr. Martin Hepp, martin.hepp@unibw.de",
   "header": "Programmierung in Python",
   "showSlideNumber": "pdf",
   "slideNumber": "c/t",
   "theme": "chesterish",
   "transition": "none"
  },
  "toc": {
   "base_numbering": 1,
   "nav_menu": {},
   "number_sections": true,
   "sideBar": true,
   "skip_h1_title": false,
   "title_cell": "Table of Contents",
   "title_sidebar": "Contents",
   "toc_cell": false,
   "toc_position": {},
   "toc_section_display": true,
   "toc_window_display": true
  }
 },
 "nbformat": 4,
 "nbformat_minor": 2
}
