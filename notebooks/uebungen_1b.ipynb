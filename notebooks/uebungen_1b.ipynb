{
 "cells": [
  {
   "cell_type": "markdown",
   "metadata": {
    "slideshow": {
     "slide_type": "slide"
    }
   },
   "source": [
    "# Programmierung in Python <span class=\"tocSkip\" />\n",
    "**Univ.-Prof. Dr. Martin Hepp,** Universität der Bundeswehr München\n",
    "## Übungsaufgaben Einheit 1.2 <span class=\"tocSkip\" />"
   ]
  },
  {
   "cell_type": "markdown",
   "metadata": {
    "slideshow": {
     "slide_type": "slide"
    }
   },
   "source": [
    "# Wiederholung zu Dictionaries\n",
    "Dictionaries sind Datenstrukturen, die Paare aus Name und Wert speichern können."
   ]
  },
  {
   "cell_type": "code",
   "execution_count": 1,
   "metadata": {},
   "outputs": [],
   "source": [
    "my_dict = {'name': 'Martin Hepp', 'fakultaet': 'WOW'}"
   ]
  },
  {
   "cell_type": "markdown",
   "metadata": {
    "slideshow": {
     "slide_type": "slide"
    }
   },
   "source": [
    "## Aufgabe"
   ]
  },
  {
   "cell_type": "markdown",
   "metadata": {
    "slideshow": {
     "slide_type": "-"
    }
   },
   "source": [
    "### Erzeugen Sie ein Dictionary für eine Kundenadresse:\n",
    "```\n",
    "name = \"Peter Muster\"\n",
    "strasse = \"Werner-Heisenberg-Weg 39\"\n",
    "plz = \"85579\"\n",
    "ort = \"Neubiberg\"\n",
    "```"
   ]
  },
  {
   "cell_type": "markdown",
   "metadata": {
    "slideshow": {
     "slide_type": "fragment"
    }
   },
   "source": [
    "### Lösung"
   ]
  },
  {
   "cell_type": "code",
   "execution_count": 2,
   "metadata": {},
   "outputs": [
    {
     "name": "stdout",
     "output_type": "stream",
     "text": [
      "{'name': 'Peter Muster', 'strasse': 'Werner-Heisenberg-Weg 39', 'plz': '85579', 'ort': 'Neubiberg'}\n"
     ]
    }
   ],
   "source": [
    "adresse = {'name' : 'Peter Muster',\n",
    "           'strasse' : 'Werner-Heisenberg-Weg 39',\n",
    "           'plz' : '85579',\n",
    "           'ort' : 'Neubiberg'}\n",
    "print(adresse)"
   ]
  },
  {
   "cell_type": "markdown",
   "metadata": {
    "slideshow": {
     "slide_type": "slide"
    }
   },
   "source": [
    "### Geben Sie den Wert für die Eigenschaft \"plz\" des Dictionaries aus."
   ]
  },
  {
   "cell_type": "markdown",
   "metadata": {
    "slideshow": {
     "slide_type": "fragment"
    }
   },
   "source": [
    "### Lösung"
   ]
  },
  {
   "cell_type": "code",
   "execution_count": 3,
   "metadata": {
    "slideshow": {
     "slide_type": "-"
    }
   },
   "outputs": [
    {
     "name": "stdout",
     "output_type": "stream",
     "text": [
      "85579\n"
     ]
    }
   ],
   "source": [
    "print(adresse['plz'])"
   ]
  },
  {
   "cell_type": "markdown",
   "metadata": {
    "slideshow": {
     "slide_type": "slide"
    }
   },
   "source": [
    "## Aufgabe\n",
    "### Erzeugen Sie eine Matrix als Liste von Listen aus den folgenden Daten.\n",
    "\n",
    "$\n",
    "\\quad\n",
    "\\begin{vmatrix}\n",
    "5 & 7 & 9\\\\\n",
    "3 & 2 & 4\\\\\n",
    "11 & 9 & 13\n",
    "\\end{vmatrix}\n",
    "\\quad\n",
    "$"
   ]
  },
  {
   "cell_type": "markdown",
   "metadata": {
    "slideshow": {
     "slide_type": "fragment"
    }
   },
   "source": [
    "### Lösung"
   ]
  },
  {
   "cell_type": "code",
   "execution_count": 4,
   "metadata": {
    "slideshow": {
     "slide_type": "-"
    }
   },
   "outputs": [],
   "source": [
    "my_matrix = [[5, 7, 9], \n",
    "             [3, 2, 4], \n",
    "             [11, 9, 13]]"
   ]
  },
  {
   "cell_type": "markdown",
   "metadata": {
    "slideshow": {
     "slide_type": "slide"
    }
   },
   "source": [
    "### Geben Sie die gesamte erste Zeile der Matrix aus."
   ]
  },
  {
   "cell_type": "markdown",
   "metadata": {
    "slideshow": {
     "slide_type": "fragment"
    }
   },
   "source": [
    "### Lösung"
   ]
  },
  {
   "cell_type": "code",
   "execution_count": 5,
   "metadata": {
    "slideshow": {
     "slide_type": "-"
    }
   },
   "outputs": [
    {
     "name": "stdout",
     "output_type": "stream",
     "text": [
      "[5, 7, 9]\n"
     ]
    }
   ],
   "source": [
    "print(my_matrix[0])  # erste Zeile"
   ]
  },
  {
   "cell_type": "markdown",
   "metadata": {
    "slideshow": {
     "slide_type": "slide"
    }
   },
   "source": [
    "### Geben Sie das erste Element der ersten Zeile und das letzte Element der letzten Zeile aus."
   ]
  },
  {
   "cell_type": "markdown",
   "metadata": {
    "slideshow": {
     "slide_type": "fragment"
    }
   },
   "source": [
    "### Lösung"
   ]
  },
  {
   "cell_type": "code",
   "execution_count": 6,
   "metadata": {
    "slideshow": {
     "slide_type": "fragment"
    }
   },
   "outputs": [
    {
     "name": "stdout",
     "output_type": "stream",
     "text": [
      "5\n"
     ]
    }
   ],
   "source": [
    "print(my_matrix[0][0])  # erstes Element der ersten Zeile"
   ]
  },
  {
   "cell_type": "code",
   "execution_count": 7,
   "metadata": {
    "slideshow": {
     "slide_type": "fragment"
    }
   },
   "outputs": [
    {
     "name": "stdout",
     "output_type": "stream",
     "text": [
      "13\n"
     ]
    }
   ],
   "source": [
    "print(my_matrix[2][2])  # letztes Element der letzten Zeile,"
   ]
  },
  {
   "cell_type": "markdown",
   "metadata": {
    "slideshow": {
     "slide_type": "slide"
    }
   },
   "source": [
    "## Aufgabe\n",
    "### Erzeugen Sie eine Liste mit zwei Kundenadressen nach obigem Beispiel."
   ]
  },
  {
   "cell_type": "markdown",
   "metadata": {
    "slideshow": {
     "slide_type": "fragment"
    }
   },
   "source": [
    "### Lösung"
   ]
  },
  {
   "cell_type": "code",
   "execution_count": 8,
   "metadata": {
    "slideshow": {
     "slide_type": "-"
    }
   },
   "outputs": [
    {
     "name": "stdout",
     "output_type": "stream",
     "text": [
      "[{'name': 'Petra Meier', 'strasse': 'Werner-Heisenberg-Weg 32', 'plz': '85579', 'ort': 'Neubiberg'}, {'name': 'Peter Muster', 'strasse': 'Werner-Heisenberg-Weg 49', 'plz': '85579', 'ort': 'Neubiberg'}]\n"
     ]
    }
   ],
   "source": [
    "adresse_1 = {'name' : 'Petra Meier',\n",
    "           'strasse' : 'Werner-Heisenberg-Weg 32',\n",
    "           'plz' : '85579',\n",
    "           'ort' : 'Neubiberg'}\n",
    "adresse_2 = {'name' : 'Peter Muster',\n",
    "           'strasse' : 'Werner-Heisenberg-Weg 49',\n",
    "           'plz' : '85579',\n",
    "           'ort' : 'Neubiberg'}\n",
    "liste = [adresse_1, adresse_2]\n",
    "print(liste)"
   ]
  },
  {
   "cell_type": "markdown",
   "metadata": {
    "slideshow": {
     "slide_type": "slide"
    }
   },
   "source": [
    "### Geben Sie die Eigenschaft \"plz\" für die zweite Kundenadresse aus."
   ]
  },
  {
   "cell_type": "markdown",
   "metadata": {
    "slideshow": {
     "slide_type": "fragment"
    }
   },
   "source": [
    "### Lösung"
   ]
  },
  {
   "cell_type": "code",
   "execution_count": 9,
   "metadata": {
    "slideshow": {
     "slide_type": "-"
    }
   },
   "outputs": [
    {
     "name": "stdout",
     "output_type": "stream",
     "text": [
      "85579\n"
     ]
    }
   ],
   "source": [
    "print(liste[1]['plz'])"
   ]
  },
  {
   "cell_type": "markdown",
   "metadata": {
    "slideshow": {
     "slide_type": "slide"
    }
   },
   "source": [
    "## Aufgabe\n",
    "### Erzeugen Sie zunächst zwei Dictionaries, die Informationen zu zwei Musiktiteln enthalten."
   ]
  },
  {
   "cell_type": "markdown",
   "metadata": {
    "slideshow": {
     "slide_type": "fragment"
    }
   },
   "source": [
    "### Lösung"
   ]
  },
  {
   "cell_type": "code",
   "execution_count": 10,
   "metadata": {
    "slideshow": {
     "slide_type": "-"
    }
   },
   "outputs": [],
   "source": [
    "song_1 = {'title' : \"A Hard Day's Night\",\n",
    "          'performer' : 'The Beatles',\n",
    "          'release_year' : 1964,\n",
    "          'duration' : 154 # 2:34\n",
    "         }\n",
    "\n",
    "song_2 = {'title' : 'And I Love Her',\n",
    "          'performer' : 'The Beatles',\n",
    "          'release_year' : 1964,\n",
    "          'duration' : 151 # 2:31\n",
    "         }"
   ]
  },
  {
   "cell_type": "markdown",
   "metadata": {
    "slideshow": {
     "slide_type": "slide"
    }
   },
   "source": [
    "### Speichern Sie diese dann als Playlist in einer Liste."
   ]
  },
  {
   "cell_type": "markdown",
   "metadata": {
    "slideshow": {
     "slide_type": "fragment"
    }
   },
   "source": [
    "### Lösung"
   ]
  },
  {
   "cell_type": "code",
   "execution_count": 11,
   "metadata": {
    "slideshow": {
     "slide_type": "-"
    }
   },
   "outputs": [],
   "source": [
    "playlist = [song_1, song_2]"
   ]
  },
  {
   "cell_type": "markdown",
   "metadata": {
    "slideshow": {
     "slide_type": "slide"
    }
   },
   "source": [
    "### Geben Sie anschließend den Titel des zweiten Songs in der Liste aus."
   ]
  },
  {
   "cell_type": "markdown",
   "metadata": {
    "slideshow": {
     "slide_type": "fragment"
    }
   },
   "source": [
    "### Lösung"
   ]
  },
  {
   "cell_type": "code",
   "execution_count": 12,
   "metadata": {
    "slideshow": {
     "slide_type": "-"
    }
   },
   "outputs": [
    {
     "name": "stdout",
     "output_type": "stream",
     "text": [
      "And I Love Her\n"
     ]
    }
   ],
   "source": [
    "print(playlist[1]['title'])"
   ]
  },
  {
   "cell_type": "markdown",
   "metadata": {
    "slideshow": {
     "slide_type": "slide"
    }
   },
   "source": [
    "# Wiederholung zu mathematischen Ausdrücken"
   ]
  },
  {
   "cell_type": "markdown",
   "metadata": {
    "slideshow": {
     "slide_type": "slide"
    }
   },
   "source": [
    "## Aufgabe: Satz des Pythagoras\n",
    "Schreiben Sie diese Formel als Python-Ausdruck\n",
    "\n",
    "$c = \\sqrt{(a^2 + b^2)}$\n",
    "\n",
    "und berechnen Sie `c` für `a=5, b=7`. "
   ]
  },
  {
   "cell_type": "markdown",
   "metadata": {
    "slideshow": {
     "slide_type": "fragment"
    }
   },
   "source": [
    "## Lösung"
   ]
  },
  {
   "cell_type": "code",
   "execution_count": 13,
   "metadata": {},
   "outputs": [
    {
     "name": "stdout",
     "output_type": "stream",
     "text": [
      "8.602325267042627\n"
     ]
    }
   ],
   "source": [
    "a = 5\n",
    "b = 7\n",
    "c = (a**2 + b**2)**(1/2)\n",
    "print(c)"
   ]
  },
  {
   "cell_type": "markdown",
   "metadata": {
    "slideshow": {
     "slide_type": "slide"
    }
   },
   "source": [
    "## Aufgabe: Formel für Kreisfläche\n",
    "Schreiben Sie die Formel für die Kreisfläche als Python-Ausdruck\n",
    "\n",
    "$flaeche = \\pi*r^2$\n",
    "\n",
    "und berechnen Sie die Fläche für `r=3`."
   ]
  },
  {
   "cell_type": "markdown",
   "metadata": {
    "slideshow": {
     "slide_type": "fragment"
    }
   },
   "source": [
    "### Lösung"
   ]
  },
  {
   "cell_type": "code",
   "execution_count": 14,
   "metadata": {},
   "outputs": [
    {
     "name": "stdout",
     "output_type": "stream",
     "text": [
      "28.274333882308138\n"
     ]
    }
   ],
   "source": [
    "import math\n",
    "\n",
    "r = 3\n",
    "flaeche = math.pi * r**2\n",
    "print(flaeche)"
   ]
  },
  {
   "cell_type": "markdown",
   "metadata": {
    "slideshow": {
     "slide_type": "slide"
    }
   },
   "source": [
    "# Vielen Dank! <a class=\"tocSkip\">\n",
    "[**http://www.ebusiness-unibw.org/wiki/Teaching/PIP**](http://www.ebusiness-unibw.org/wiki/Teaching/PIP)"
   ]
  },
  {
   "cell_type": "code",
   "execution_count": null,
   "metadata": {},
   "outputs": [],
   "source": []
  }
 ],
 "metadata": {
  "celltoolbar": "Slideshow",
  "kernelspec": {
   "display_name": "Python 3",
   "language": "python",
   "name": "python3"
  },
  "language_info": {
   "codemirror_mode": {
    "name": "ipython",
    "version": 3
   },
   "file_extension": ".py",
   "mimetype": "text/x-python",
   "name": "python",
   "nbconvert_exporter": "python",
   "pygments_lexer": "ipython3",
   "version": "3.7.1"
  },
  "rise": {
   "backimage": "background.png",
   "center": false,
   "enable_chalkboard": false,
   "footer": "Univ.-Prof. Dr. Martin Hepp, martin.hepp@unibw.de",
   "header": "Programmierung in Python",
   "showSlideNumber": "pdf",
   "slideNumber": "c/t",
   "theme": "chesterish",
   "transition": "none"
  },
  "toc": {
   "base_numbering": 1,
   "nav_menu": {},
   "number_sections": true,
   "sideBar": true,
   "skip_h1_title": false,
   "title_cell": "Table of Contents",
   "title_sidebar": "Contents",
   "toc_cell": false,
   "toc_position": {},
   "toc_section_display": true,
   "toc_window_display": false
  }
 },
 "nbformat": 4,
 "nbformat_minor": 2
}
