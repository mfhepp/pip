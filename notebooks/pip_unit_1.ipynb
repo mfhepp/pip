{
 "cells": [
  {
   "cell_type": "markdown",
   "metadata": {},
   "source": [
    "# Unit 1: Variablen und Datentypen"
   ]
  },
  {
   "cell_type": "markdown",
   "metadata": {},
   "source": [
    "## Ausgabe mit *print*"
   ]
  },
  {
   "cell_type": "code",
   "execution_count": 47,
   "metadata": {},
   "outputs": [
    {
     "name": "stdout",
     "output_type": "stream",
     "text": [
      "2\n",
      "Hallo\n"
     ]
    }
   ],
   "source": [
    "print(1+1)\n",
    "print('Hallo')"
   ]
  },
  {
   "cell_type": "markdown",
   "metadata": {},
   "source": [
    "## Variablen und Datentypen"
   ]
  },
  {
   "cell_type": "markdown",
   "metadata": {},
   "source": [
    "### Atomare Datentypen"
   ]
  },
  {
   "cell_type": "code",
   "execution_count": 48,
   "metadata": {
    "collapsed": true
   },
   "outputs": [],
   "source": [
    "my_number_integer = 1\n",
    "my_number_float = 1.2345\n",
    "my_boolean_value_1 = True\n",
    "my_boolean_value_2 = False"
   ]
  },
  {
   "cell_type": "code",
   "execution_count": 49,
   "metadata": {},
   "outputs": [
    {
     "name": "stdout",
     "output_type": "stream",
     "text": [
      "3\n",
      "2\n",
      "4\n",
      "2.0\n"
     ]
    }
   ],
   "source": [
    "# Arithmetrische Operatoren\n",
    "a = 1\n",
    "b = 2 \n",
    "c = 3\n",
    "\n",
    "# Grundrechenarten\n",
    "d = a + b\n",
    "e = c - a\n",
    "f = b * e\n",
    "g = f / b\n",
    "\n",
    "print(d)\n",
    "print(e)\n",
    "print(f)\n",
    "print(g)"
   ]
  },
  {
   "cell_type": "markdown",
   "metadata": {},
   "source": [
    "**Achtung:** Seit Python 3.0 ist die Standard-Division eine Gleitkommadivision, 5 / 2 ist also 2.5. In früheren Versionen wurde wurde standardmäßig eine ganzzahlige Division durchgeführt, also 5/2 = 2 (Rest 1)."
   ]
  },
  {
   "cell_type": "code",
   "execution_count": 50,
   "metadata": {},
   "outputs": [
    {
     "name": "stdout",
     "output_type": "stream",
     "text": [
      "128\n"
     ]
    }
   ],
   "source": [
    "# Potenzfunktionen\n",
    "h = 2 ** 7  # 2^7 = 128\n",
    "print(h)\n",
    "\n",
    "# Wurzeln, Logarithmen etc. werden später behandelt."
   ]
  },
  {
   "cell_type": "code",
   "execution_count": 51,
   "metadata": {},
   "outputs": [
    {
     "name": "stdout",
     "output_type": "stream",
     "text": [
      "2\n"
     ]
    }
   ],
   "source": [
    "# Weitere wichtige Operatoren\n",
    "# Ganzzahlige Division\n",
    "\n",
    "a = 5\n",
    "b = 2\n",
    "print(a // b)"
   ]
  },
  {
   "cell_type": "code",
   "execution_count": 52,
   "metadata": {},
   "outputs": [
    {
     "name": "stdout",
     "output_type": "stream",
     "text": [
      "1\n"
     ]
    }
   ],
   "source": [
    "# Modulo / Divisionsrest\n",
    "# Tip 1: Nützlich, um zu prüfen, ob eine Zahl gerade ist.\n",
    "# Tip 2: Auch nützlich, wenn man den Wertebereich einer Zahl begrenzen will.\n",
    "print(a % b)"
   ]
  },
  {
   "cell_type": "code",
   "execution_count": 53,
   "metadata": {},
   "outputs": [
    {
     "name": "stdout",
     "output_type": "stream",
     "text": [
      "False\n",
      "True\n",
      "False\n",
      "True\n"
     ]
    }
   ],
   "source": [
    "# Logische Operatoren\n",
    "a = True\n",
    "b = False\n",
    "\n",
    "print(a and b)\n",
    "print(a or b)\n",
    "print(not a)\n",
    "# Ersatz für XOR, nicht ganz unproblematisch\n",
    "print(a != b)"
   ]
  },
  {
   "cell_type": "code",
   "execution_count": 54,
   "metadata": {},
   "outputs": [
    {
     "name": "stdout",
     "output_type": "stream",
     "text": [
      "False\n",
      "True\n",
      "False\n",
      "True\n",
      "True\n",
      "True\n",
      "False\n"
     ]
    }
   ],
   "source": [
    "# Vergleichsoperatoren\n",
    "# Der Ergebniswert ist immer Boolean.\n",
    "a = 90\n",
    "b = 60\n",
    "c = 60\n",
    "print(a < b)\n",
    "print(a > b)\n",
    "print(a < a)\n",
    "print(a <= a)\n",
    "print(a >= a)\n",
    "# Achtung: Wertevergleich oder Identitätsvergleich?\n",
    "print(a == a)\n",
    "print(b != c)\n",
    "\n"
   ]
  },
  {
   "cell_type": "markdown",
   "metadata": {},
   "source": [
    "### Komplexe Datentypen\n",
    "Als komplexe Datentypen bezeichnet man solche, die eine adressierbare Struktur an Unterelementen haben."
   ]
  },
  {
   "cell_type": "markdown",
   "metadata": {},
   "source": [
    "#### Zeichenketten"
   ]
  },
  {
   "cell_type": "code",
   "execution_count": 55,
   "metadata": {
    "collapsed": true
   },
   "outputs": [],
   "source": [
    "# Zeichenkette\n",
    "my_string_1 = 'UniBwM'\n",
    "my_string_2 = \"UniBwM\"\n",
    "\n",
    "# Die Wahl zwischen einfachen und doppelten Anführungszeichen erlaubt es elegant, \n",
    "# die jeweils andere Form innerhalb der Zeichenkette zu verwenden:\n",
    "my_string_3 = \"Die Abkürzung für unsere Universität lautet 'UniBwM'.\"\n",
    "my_string_3 = 'Die Abkürzung für unsere Universität lautet \"UniBwM\".'\n",
    "\n",
    "# Mehrzeilige Zeichenketten erfordern DREI Anführungszeichen:\n",
    "my_long_string_1 = \"\"\"Herr von Ribbeck auf Ribbeck im Havelland,\n",
    "Ein Birnbaum in seinem Garten stand,\n",
    "Und kam die goldene Herbsteszeit,\n",
    "Und die Birnen leuchteten weit und breit,\n",
    "Da stopfte, wenn’s Mittag vom Thurme scholl,\n",
    "Der von Ribbeck sich beide Taschen voll,\n",
    "Und kam in Pantinen ein Junge daher,\n",
    "So rief er: 'Junge, wist’ ne Beer?'\n",
    "Und kam ein Mädel, so rief er: 'Lütt Dirn'\n",
    "Kumm man röwer, ick hebb’ ne Birn.\"\"\"\n",
    "\n",
    "my_long_string_2 = '''Herr von Ribbeck auf Ribbeck im Havelland,\n",
    "Ein Birnbaum in seinem Garten stand,\n",
    "Und kam die goldene Herbsteszeit,\n",
    "Und die Birnen leuchteten weit und breit,\n",
    "Da stopfte, wenn’s Mittag vom Thurme scholl,\n",
    "Der von Ribbeck sich beide Taschen voll,\n",
    "Und kam in Pantinen ein Junge daher,\n",
    "So rief er: \"Junge, wist’ ne Beer?\"\n",
    "Und kam ein Mädel, so rief er: \"Lütt Dirn\"\n",
    "Kumm man röwer, ick hebb’ ne Birn.'''"
   ]
  },
  {
   "cell_type": "code",
   "execution_count": null,
   "metadata": {
    "collapsed": true
   },
   "outputs": [],
   "source": [
    "# Häufige Operationen mit Zeichenketten\n",
    "# Addition\n",
    "print('Ich studiere an der ' + my_string_1)\n",
    "# Multiplikation\n",
    "print('ABCD' * 3)\n",
    "# Länge ermitteln\n",
    "print(len(my_string))"
   ]
  },
  {
   "cell_type": "code",
   "execution_count": 74,
   "metadata": {},
   "outputs": [
    {
     "name": "stdout",
     "output_type": "stream",
     "text": [
      "84\n",
      "4242\n"
     ]
    }
   ],
   "source": [
    "# Umwandlung einer Zahl in eine Zeichenkette\n",
    "a = 42\n",
    "a_string = str(a)\n",
    "\n",
    "# Was ist hier der Unterschied?\n",
    "print(a * 2)\n",
    "print(a_string * 2)"
   ]
  },
  {
   "cell_type": "markdown",
   "metadata": {},
   "source": [
    "#### Listen\n",
    "Listen sind komplexe Variablen aus mehreren Unterelementen beliebigen Typs. Die Unterelemente können einzeln adressiert und auch geändert werden."
   ]
  },
  {
   "cell_type": "code",
   "execution_count": 56,
   "metadata": {
    "collapsed": true
   },
   "outputs": [],
   "source": [
    "# Liste\n",
    "my_list = [1, 2, 5, 9]\n",
    "my_list_mixed = [1, True, 'UniBwM']"
   ]
  },
  {
   "cell_type": "code",
   "execution_count": 57,
   "metadata": {},
   "outputs": [
    {
     "name": "stdout",
     "output_type": "stream",
     "text": [
      "1\n",
      "2\n",
      "5\n"
     ]
    }
   ],
   "source": [
    "# Listenelemente können einzeln adressiert werden.\n",
    "# Das erste Element hat den Index 0:\n",
    "print(my_list[0])\n",
    "print(my_list[1])\n",
    "print(my_list[2])"
   ]
  },
  {
   "cell_type": "code",
   "execution_count": 58,
   "metadata": {},
   "outputs": [
    {
     "name": "stdout",
     "output_type": "stream",
     "text": [
      "[1, True, 'LMU München']\n"
     ]
    }
   ],
   "source": [
    "# Sie können auch einzeln geändert werden:\n",
    "my_list_mixed[2] = 'LMU München'\n",
    "print(my_list_mixed)"
   ]
  },
  {
   "cell_type": "code",
   "execution_count": 59,
   "metadata": {},
   "outputs": [
    {
     "name": "stdout",
     "output_type": "stream",
     "text": [
      "['two', 'three', 'four', 'five']\n",
      "['one', 'two']\n",
      "['two', 'three']\n",
      "['one', 'two', 'three']\n"
     ]
    }
   ],
   "source": [
    "# Man kann auch Bereiche adressieren:\n",
    "my_list = ['one', 'two', 'three', 'four', 'five']\n",
    "\n",
    "# Alle ab dem zweiten Element\n",
    "print(my_list[1:])\n",
    "# Alle bis zum zweiten Element\n",
    "print(my_list[:2])\n",
    "# Alle vom zweiten bis zum dritten Element\n",
    "print(my_list[1:3])\n",
    "# Alle ohne die letzten beiden\n",
    "print(my_list[:-2])\n"
   ]
  },
  {
   "cell_type": "code",
   "execution_count": 60,
   "metadata": {},
   "outputs": [
    {
     "name": "stdout",
     "output_type": "stream",
     "text": [
      "['one', 'zwei', 'drei', 'four', 'five']\n"
     ]
    }
   ],
   "source": [
    "# Man kann auch Bereiche einer Liste ändern oder die Liste dadurch verkürzen oder verlängern:\n",
    "my_list[1:3] = ['zwei', 'drei']\n",
    "print(my_list)"
   ]
  },
  {
   "cell_type": "code",
   "execution_count": 61,
   "metadata": {},
   "outputs": [
    {
     "name": "stdout",
     "output_type": "stream",
     "text": [
      "['one_and_two', 'three', 'four', 'five']\n"
     ]
    }
   ],
   "source": [
    "my_list = ['one', 'two', 'three', 'four', 'five']\n",
    "my_list[0:2] = ['one_and_two']\n",
    "print(my_list)"
   ]
  },
  {
   "cell_type": "code",
   "execution_count": 62,
   "metadata": {},
   "outputs": [
    {
     "name": "stdout",
     "output_type": "stream",
     "text": [
      "['one_and_two', 'three', 'four', 'five']\n"
     ]
    }
   ],
   "source": [
    "# Achtung: Wenn man einen ListenBEREICH ändert, muss man eine Liste übergeben. \n",
    "my_list = ['one', 'two', 'three', 'four', 'five']\n",
    "my_list[0:2] = ['one_and_two']\n",
    "print(my_list)"
   ]
  },
  {
   "cell_type": "code",
   "execution_count": 63,
   "metadata": {},
   "outputs": [
    {
     "name": "stdout",
     "output_type": "stream",
     "text": [
      "['ABC', 'three', 'four', 'five']\n"
     ]
    }
   ],
   "source": [
    "# Sonst Versucht python, den Wert als Liste seiner Unterelemente zu verstehen.\n",
    "my_list = ['one', 'two', 'three', 'four', 'five']\n",
    "my_list[0:2] = ['ABC']\n",
    "print(my_list)"
   ]
  },
  {
   "cell_type": "code",
   "execution_count": 64,
   "metadata": {},
   "outputs": [
    {
     "name": "stdout",
     "output_type": "stream",
     "text": [
      "['one', 'two', 'drei', 'four', 'five']\n"
     ]
    }
   ],
   "source": [
    "# Wenn man ein Listenelement ändert, muss man ein Element übergeben\n",
    "my_list = ['one', 'two', 'three', 'four', 'five']\n",
    "my_list[2] = 'drei'\n",
    "print(my_list)"
   ]
  },
  {
   "cell_type": "code",
   "execution_count": 65,
   "metadata": {},
   "outputs": [
    {
     "name": "stdout",
     "output_type": "stream",
     "text": [
      "['one', 'two', 'drei_a', 'drei_b', 'four', 'five']\n"
     ]
    }
   ],
   "source": [
    "# Wenn man an einer Position MEHRE neue Elemente einfügen will, \n",
    "# muss man diese Position als Bereich der Länge 1 adressieren.\n",
    "\n",
    "my_list = ['one', 'two', 'three', 'four', 'five']\n",
    "my_list[2:3] = ['drei_a', 'drei_b']\n",
    "print(my_list)"
   ]
  },
  {
   "cell_type": "code",
   "execution_count": 66,
   "metadata": {},
   "outputs": [
    {
     "name": "stdout",
     "output_type": "stream",
     "text": [
      "['one', 'two', ['drei_a', 'drei_b'], 'four', 'five']\n"
     ]
    }
   ],
   "source": [
    "# Sonst würde an dieser Stelle eine Liste als Element eingefügt:\n",
    "my_list = ['one', 'two', 'three', 'four', 'five']\n",
    "my_list[2] = ['drei_a', 'drei_b']\n",
    "print(my_list)"
   ]
  },
  {
   "cell_type": "code",
   "execution_count": 75,
   "metadata": {},
   "outputs": [
    {
     "name": "stdout",
     "output_type": "stream",
     "text": [
      "['one', 'two', 'three']\n"
     ]
    }
   ],
   "source": [
    "# Listen: append()\n",
    "my_list = ['one', 'two']\n",
    "my_list.append('three')\n",
    "print(my_list)"
   ]
  },
  {
   "cell_type": "code",
   "execution_count": 76,
   "metadata": {},
   "outputs": [
    {
     "name": "stdout",
     "output_type": "stream",
     "text": [
      "['one', 'two', 'three', 'four']\n"
     ]
    }
   ],
   "source": [
    "# Listen: extend()\n",
    "my_list = ['one', 'two']\n",
    "my_list.extend(['three', 'four'])\n",
    "print(my_list)"
   ]
  },
  {
   "cell_type": "code",
   "execution_count": 77,
   "metadata": {},
   "outputs": [
    {
     "name": "stdout",
     "output_type": "stream",
     "text": [
      "['one', 'two', ['three', 'four']]\n"
     ]
    }
   ],
   "source": [
    "# Kontrollfrage:\n",
    "# Was passiert, wenn Sie der Methode 'append' eine LISTE als Parameter übergeben?\n",
    "my_list = ['one', 'two']\n",
    "my_list.append(['three', 'four'])\n",
    "print(my_list)"
   ]
  },
  {
   "cell_type": "code",
   "execution_count": 78,
   "metadata": {},
   "outputs": [
    {
     "name": "stdout",
     "output_type": "stream",
     "text": [
      "['one', 'two', 't', 'h', 'r', 'e', 'e']\n"
     ]
    }
   ],
   "source": [
    "# Kontrollfrage:\n",
    "# Was passiert, wenn Sie der Methode 'extend' einen einzelnen Wert als Parameter übergeben?\n",
    "my_list = ['one', 'two']\n",
    "my_list.extend('three')\n",
    "print(my_list)"
   ]
  },
  {
   "cell_type": "code",
   "execution_count": 80,
   "metadata": {},
   "outputs": [
    {
     "ename": "TypeError",
     "evalue": "'int' object is not iterable",
     "output_type": "error",
     "traceback": [
      "\u001b[0;31m---------------------------------------------------------------------------\u001b[0m",
      "\u001b[0;31mTypeError\u001b[0m                                 Traceback (most recent call last)",
      "\u001b[0;32m<ipython-input-80-3d035bd9e185>\u001b[0m in \u001b[0;36m<module>\u001b[0;34m()\u001b[0m\n\u001b[1;32m      1\u001b[0m \u001b[0;31m# Wenn eine atomare Variable übergeben wird, gibt es eine Fehlermeldung:\u001b[0m\u001b[0;34m\u001b[0m\u001b[0;34m\u001b[0m\u001b[0m\n\u001b[1;32m      2\u001b[0m \u001b[0mmy_list\u001b[0m \u001b[0;34m=\u001b[0m \u001b[0;34m[\u001b[0m\u001b[0;34m'one'\u001b[0m\u001b[0;34m,\u001b[0m \u001b[0;34m'two'\u001b[0m\u001b[0;34m]\u001b[0m\u001b[0;34m\u001b[0m\u001b[0m\n\u001b[0;32m----> 3\u001b[0;31m \u001b[0mmy_list\u001b[0m\u001b[0;34m.\u001b[0m\u001b[0mextend\u001b[0m\u001b[0;34m(\u001b[0m\u001b[0;36m1\u001b[0m\u001b[0;34m)\u001b[0m\u001b[0;34m\u001b[0m\u001b[0m\n\u001b[0m\u001b[1;32m      4\u001b[0m \u001b[0mprint\u001b[0m\u001b[0;34m(\u001b[0m\u001b[0mmy_list\u001b[0m\u001b[0;34m)\u001b[0m\u001b[0;34m\u001b[0m\u001b[0m\n",
      "\u001b[0;31mTypeError\u001b[0m: 'int' object is not iterable"
     ]
    }
   ],
   "source": [
    "# Wenn eine atomare Variable übergeben wird, gibt es eine Fehlermeldung:\n",
    "my_list = ['one', 'two']\n",
    "my_list.extend(1)\n",
    "print(my_list)"
   ]
  },
  {
   "cell_type": "code",
   "execution_count": 85,
   "metadata": {},
   "outputs": [
    {
     "name": "stdout",
     "output_type": "stream",
     "text": [
      "[1, 2, 3, 4, 5, 6]\n"
     ]
    }
   ],
   "source": [
    "# Man kann Listen einfach sortieren:\n",
    "my_list = [1, 6, 5, 3, 2, 4]\n",
    "my_list.sort()\n",
    "print(my_list)"
   ]
  },
  {
   "cell_type": "code",
   "execution_count": 86,
   "metadata": {},
   "outputs": [
    {
     "name": "stdout",
     "output_type": "stream",
     "text": [
      "[6, 5, 4, 3, 2, 1]\n"
     ]
    }
   ],
   "source": [
    "# Das geht auch mit inverser Sortierfolge:\n",
    "my_list = [1, 6, 5, 3, 2, 4]\n",
    "my_list.sort(reverse=True)\n",
    "print(my_list)"
   ]
  },
  {
   "cell_type": "markdown",
   "metadata": {},
   "source": [
    "#### Tuples"
   ]
  },
  {
   "cell_type": "code",
   "execution_count": 67,
   "metadata": {
    "collapsed": true
   },
   "outputs": [],
   "source": [
    "# Tuple\n",
    "my_tuple = (1, 3, 9)\n",
    "my_tuple_mixed = (1, True, 'UniBwM')\n",
    "\n",
    "latitude = 48.0803\n",
    "longitude = 11.6382\n",
    "geo_position = (latitude, longitude)"
   ]
  },
  {
   "cell_type": "code",
   "execution_count": 68,
   "metadata": {},
   "outputs": [
    {
     "name": "stdout",
     "output_type": "stream",
     "text": [
      "48.0803\n"
     ]
    }
   ],
   "source": [
    "# Entpacken\n",
    "lat, lon = geo_position\n",
    "print(lat)"
   ]
  },
  {
   "cell_type": "code",
   "execution_count": 69,
   "metadata": {},
   "outputs": [
    {
     "name": "stdout",
     "output_type": "stream",
     "text": [
      "48.0803\n"
     ]
    }
   ],
   "source": [
    "# Auch die Elemente eines Tuples können einzeln adressiert werden:\n",
    "print(geo_position[0])"
   ]
  },
  {
   "cell_type": "code",
   "execution_count": 70,
   "metadata": {},
   "outputs": [
    {
     "ename": "TypeError",
     "evalue": "'tuple' object does not support item assignment",
     "output_type": "error",
     "traceback": [
      "\u001b[0;31m---------------------------------------------------------------------------\u001b[0m",
      "\u001b[0;31mTypeError\u001b[0m                                 Traceback (most recent call last)",
      "\u001b[0;32m<ipython-input-70-e1df6d09a57a>\u001b[0m in \u001b[0;36m<module>\u001b[0;34m()\u001b[0m\n\u001b[1;32m      1\u001b[0m \u001b[0;31m# Die Unterelemente eines Tuples können aber nicht geändert werden:\u001b[0m\u001b[0;34m\u001b[0m\u001b[0;34m\u001b[0m\u001b[0m\n\u001b[0;32m----> 2\u001b[0;31m \u001b[0mgeo_position\u001b[0m\u001b[0;34m[\u001b[0m\u001b[0;36m0\u001b[0m\u001b[0;34m]\u001b[0m \u001b[0;34m=\u001b[0m \u001b[0;36m44.123\u001b[0m\u001b[0;34m\u001b[0m\u001b[0m\n\u001b[0m",
      "\u001b[0;31mTypeError\u001b[0m: 'tuple' object does not support item assignment"
     ]
    }
   ],
   "source": [
    "# Die Unterelemente eines Tuples können aber nicht geändert werden:\n",
    "geo_position[0] = 44.123"
   ]
  },
  {
   "cell_type": "markdown",
   "metadata": {
    "collapsed": true
   },
   "source": [
    "#### Dictionaries"
   ]
  },
  {
   "cell_type": "code",
   "execution_count": null,
   "metadata": {
    "collapsed": true
   },
   "outputs": [],
   "source": [
    "my_dict = {'name' : 'Martin Hepp', 'fakultaet' : 'WOW', 'geburtsjahr' : 1971}\n",
    "print(my_dict['name'])\n",
    "print(my_dict['fakultaet'])\n"
   ]
  },
  {
   "cell_type": "code",
   "execution_count": null,
   "metadata": {
    "collapsed": true
   },
   "outputs": [],
   "source": [
    "# Elemente können geändert und hinzugefügt werden\n",
    "my_dict['fakultaet'] = 'INF'\n",
    "my_dict['lieblingsvorlesung'] = 'Programmierung in Python'"
   ]
  },
  {
   "cell_type": "code",
   "execution_count": null,
   "metadata": {
    "collapsed": true
   },
   "outputs": [],
   "source": [
    "# Wenn es den Schlüssel ('key') nicht gibt, wird eine Fehlermeldung produziert:\n",
    "print(my_dict['einkommen'])"
   ]
  },
  {
   "cell_type": "code",
   "execution_count": null,
   "metadata": {
    "collapsed": true
   },
   "outputs": [],
   "source": [
    "# Das kann man mit der Methode get vermeiden:\n",
    "print(my_dict.get('einkommen'))"
   ]
  },
  {
   "cell_type": "code",
   "execution_count": null,
   "metadata": {
    "collapsed": true
   },
   "outputs": [],
   "source": [
    "# Man kann auch einen Default-Wert vorgeben (normalerweise None):\n",
    "print(my_dict.get('einkommen', 'Unbekannt'))\n",
    "print(my_dict.get('einkommen', 0))"
   ]
  },
  {
   "cell_type": "markdown",
   "metadata": {
    "collapsed": true
   },
   "source": [
    "#### Mengen"
   ]
  },
  {
   "cell_type": "code",
   "execution_count": 81,
   "metadata": {},
   "outputs": [
    {
     "name": "stdout",
     "output_type": "stream",
     "text": [
      "{'rot', 'gruen', 'blau', 'gelb'}\n"
     ]
    }
   ],
   "source": [
    "a = set(['rot', 'gruen', 'blau', 'gelb'])\n",
    "print(a)"
   ]
  },
  {
   "cell_type": "code",
   "execution_count": 82,
   "metadata": {},
   "outputs": [
    {
     "name": "stdout",
     "output_type": "stream",
     "text": [
      "{' ', 'i', 'D', 's', '.', 'Z', 'k', 'e', 'c', 't', 'n', 'h'}\n"
     ]
    }
   ],
   "source": [
    "a = 'Dies ist eine Zeichenkette.'\n",
    "# Nun schauen wir, welche Buchstaben hierin vorkommen.\n",
    "zeichenvorrat = set(a)\n",
    "print(zeichenvorrat)"
   ]
  },
  {
   "cell_type": "code",
   "execution_count": null,
   "metadata": {
    "collapsed": true
   },
   "outputs": [],
   "source": []
  }
 ],
 "metadata": {
  "anaconda-cloud": {},
  "kernelspec": {
   "display_name": "Python [conda env:py36]",
   "language": "python",
   "name": "conda-env-py36-py"
  },
  "language_info": {
   "codemirror_mode": {
    "name": "ipython",
    "version": 3
   },
   "file_extension": ".py",
   "mimetype": "text/x-python",
   "name": "python",
   "nbconvert_exporter": "python",
   "pygments_lexer": "ipython3",
   "version": "3.6.1"
  }
 },
 "nbformat": 4,
 "nbformat_minor": 1
}
