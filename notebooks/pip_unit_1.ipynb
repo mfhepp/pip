{
 "cells": [
  {
   "cell_type": "markdown",
   "metadata": {},
   "source": [
    "<h1>Programmierung in Python</h1>\n",
    "\n"
   ]
  },
  {
   "cell_type": "markdown",
   "metadata": {
    "slideshow": {
     "slide_type": "slide"
    }
   },
   "source": [
    "\n",
    "\n",
    "# Erste Schritte in Python\n"
   ]
  },
  {
   "cell_type": "markdown",
   "metadata": {
    "slideshow": {
     "slide_type": "slide"
    }
   },
   "source": [
    "## Syntaktische Konventionen\n",
    "\n",
    "1. Keine Zeilenummern"
   ]
  },
  {
   "cell_type": "markdown",
   "metadata": {
    "cell_style": "split",
    "slideshow": {
     "slide_type": "fragment"
    }
   },
   "source": [
    "**Ohne Zeilennummern:<br />**\n",
    "(Python etc.)\n",
    "```python\n",
    "a = 1\n",
    "b = 2\n",
    "print(a)\n",
    "```"
   ]
  },
  {
   "cell_type": "markdown",
   "metadata": {
    "cell_style": "split",
    "slideshow": {
     "slide_type": "fragment"
    }
   },
   "source": [
    "**Mit Zeilennummern:<br />**\n",
    "(nur in älteren Sprachen)\n",
    "<code>\n",
    "10    a = 1\n",
    "20    b = 2\n",
    "30    print(a)\n",
    "</code>"
   ]
  },
  {
   "cell_type": "markdown",
   "metadata": {
    "slideshow": {
     "slide_type": "slide"
    }
   },
   "source": [
    "2. Groß-/Kleinschreibung muss beachtet werden:\n",
    "```python\n",
    "    a = 10   # die Variable a wird definiert\n",
    "    print(A) # die Variable A gibt es aber nicht\n",
    "```"
   ]
  },
  {
   "cell_type": "markdown",
   "metadata": {
    "slideshow": {
     "slide_type": "slide"
    }
   },
   "source": [
    "2. Schlüsselwörter\n",
    "`print, if, else, for, in, ....`\n",
    "3. Zuweisungsoperator ="
   ]
  },
  {
   "cell_type": "markdown",
   "metadata": {
    "slideshow": {
     "slide_type": "slide"
    }
   },
   "source": [
    "## Stil und Formatierung\n",
    "### Namen\n",
    "Namen für Variablen sollten aussagekräftig und ohne Umlaute gewählt werden.\n",
    "```python\n",
    "dauer = 5\n",
    "zins = 0.01```"
   ]
  },
  {
   "cell_type": "markdown",
   "metadata": {
    "slideshow": {
     "slide_type": "slide"
    }
   },
   "source": [
    "Wenn der Name aus mehreren Wörtern besteht, <font color=red>werden diese durch einen Unterstrich (\\_)</font> verbunden:\n",
    "```python\n",
    "dauer_in_jahren = 5```\n",
    "\n",
    "Variablennamen sollten stets in Kleinbuchstaben sein."
   ]
  },
  {
   "cell_type": "markdown",
   "metadata": {
    "slideshow": {
     "slide_type": "fragment"
    }
   },
   "source": [
    "Für Konstanten verwendet man dagegen Variablennamen in Großbuchstaben:\n",
    "```python\n",
    "PI = 3.1415\n",
    "ABSOLUTER_NULLPUNKT = - 273.15 # Grad Celsius```"
   ]
  },
  {
   "cell_type": "markdown",
   "metadata": {
    "slideshow": {
     "slide_type": "slide"
    }
   },
   "source": [
    "### Leerzeichen\n",
    "Vor und nach Operanden wie + oder - gehört jeweils ein Leerzeichen:\n",
    "```python\n",
    "zins = 1 + 0.02\n",
    "```\n",
    "\n",
    "Unnötige Einrückungen sind nicht erlaubt:\n",
    "\n",
    "```python\n",
    "zins = 1 + 0.02\n",
    "    zinseszins = guthaben * (1 + zins)**4\n",
    "```"
   ]
  },
  {
   "cell_type": "markdown",
   "metadata": {
    "slideshow": {
     "slide_type": "slide"
    }
   },
   "source": [
    "Keine sonstigen unnötigen Leerzeichen, besonders nicht am Zeilenende.\n",
    "\n",
    "Unnötige Leerzeilen sollten nur sparsam verwendet werden (mehr dazu später).\n",
    "\n",
    "Es gibt noch weitere stilistische Konventionen, die wir aber erst besprechen, wenn die entsprechenden Themen behandelt werden.\n",
    "- [PEP 8](https://www.python.org/dev/peps/pep-0008/)\n",
    "- [Google Python Styleguide](http://google.github.io/styleguide/pyguide.html)"
   ]
  },
  {
   "cell_type": "markdown",
   "metadata": {
    "slideshow": {
     "slide_type": "slide"
    }
   },
   "source": [
    "## Grundlegende Datenstrukturen\n",
    "\n",
    "Werte / Objekte\n",
    "5\n",
    "- 1.23\n",
    "\"M\"\n",
    "\"UniBwM\"\n",
    "True\n",
    "False\n",
    "\n",
    "Ein Wert liegt in einem Bereich des Speichers des Computers.\n",
    "\n",
    "Werte können änderbar oder nicht änderbar sein.\n",
    "\"Variablen\"\n",
    "in Python: mutable vs. immutable\n",
    "\n",
    "Man kann aber immer ein neues Objekt mit einem neuen Wert erzeugen.\n",
    "\n",
    "Objekte können einen Namen haben, über den wir es ansprechen können.\n",
    "\n",
    "Dasselbe Objekt kann auch mehrere Namen haben. (\"Künstlername\", Alias, ...)\n",
    "\n",
    "Es kann aber auch mehrere Objekte mit dem selben Wert geben:\n",
    "\n",
    "a = 5\n",
    "b = 5\n",
    "\n",
    "Ein Objekt kann auf ein anderes verweisen:\n",
    "\n",
    "a = 5\n",
    "liste = [a]\n",
    "\n",
    "Wenn es keinen Verweis mehr gibt, weiß Python, dass das Objekt gelöscht werden kann.\n",
    "Oder anders: Wenn es noch einen Verweis gibt, bleibt der Speicher belegt. (Memory Leakage)\n",
    "\n",
    "Unterschiede im Verhalten"
   ]
  },
  {
   "cell_type": "code",
   "execution_count": 12,
   "metadata": {
    "slideshow": {
     "slide_type": "slide"
    }
   },
   "outputs": [
    {
     "name": "stdout",
     "output_type": "stream",
     "text": [
      "[5, 5]\n"
     ]
    }
   ],
   "source": [
    "a = 5\n",
    "b = a\n",
    "c = [a, a]\n",
    "a = 6\n",
    "print(c)"
   ]
  },
  {
   "cell_type": "code",
   "execution_count": 13,
   "metadata": {
    "slideshow": {
     "slide_type": "slide"
    }
   },
   "outputs": [
    {
     "name": "stdout",
     "output_type": "stream",
     "text": [
      "[5, 5, 5]\n"
     ]
    }
   ],
   "source": [
    "a = 5\n",
    "b = 5\n",
    "c = [a, b, 5]\n",
    "a = 6\n",
    "print(c)"
   ]
  },
  {
   "cell_type": "markdown",
   "metadata": {
    "slideshow": {
     "slide_type": "slide"
    }
   },
   "source": [
    "## Ausgabe mit *print*"
   ]
  },
  {
   "cell_type": "code",
   "execution_count": 1,
   "metadata": {
    "slideshow": {
     "slide_type": "fragment"
    }
   },
   "outputs": [
    {
     "name": "stdout",
     "output_type": "stream",
     "text": [
      "5\n",
      "Hallo\n"
     ]
    }
   ],
   "source": [
    "print(1 + 4)\n",
    "print('Hallo')"
   ]
  },
  {
   "cell_type": "code",
   "execution_count": 6,
   "metadata": {},
   "outputs": [
    {
     "name": "stdout",
     "output_type": "stream",
     "text": [
      "1 15 Hallo 10.3\n"
     ]
    }
   ],
   "source": [
    "# Mehrere Werte durch Kommata getrennt\n",
    "print(1, 5 * 3, 'Hallo', 10.3)"
   ]
  },
  {
   "cell_type": "code",
   "execution_count": null,
   "metadata": {},
   "outputs": [],
   "source": [
    "\n",
    "\n",
    "## Variablen und Datentypen"
   ]
  },
  {
   "cell_type": "markdown",
   "metadata": {
    "slideshow": {
     "slide_type": "slide"
    }
   },
   "source": [
    "### Atomare Datentypen"
   ]
  },
  {
   "cell_type": "markdown",
   "metadata": {
    "slideshow": {
     "slide_type": "slide"
    }
   },
   "source": [
    "#### Numerische Werte"
   ]
  },
  {
   "cell_type": "code",
   "execution_count": null,
   "metadata": {
    "slideshow": {
     "slide_type": "fragment"
    }
   },
   "outputs": [],
   "source": [
    "Ganzzahlen\n"
   ]
  },
  {
   "cell_type": "code",
   "execution_count": null,
   "metadata": {},
   "outputs": [],
   "source": [
    "Binärzahlen, Hexadezimalzahlen"
   ]
  },
  {
   "cell_type": "code",
   "execution_count": null,
   "metadata": {
    "slideshow": {
     "slide_type": "fragment"
    }
   },
   "outputs": [],
   "source": [
    "Gleitkommazahlen: float und double\n",
    "    # Achtung, Genauigkeitprobleme!\n",
    "    "
   ]
  },
  {
   "cell_type": "code",
   "execution_count": null,
   "metadata": {
    "slideshow": {
     "slide_type": "slide"
    }
   },
   "outputs": [],
   "source": [
    "Exkurs: Datentyp Decimal"
   ]
  },
  {
   "cell_type": "code",
   "execution_count": 48,
   "metadata": {
    "collapsed": true,
    "slideshow": {
     "slide_type": "slide"
    }
   },
   "outputs": [],
   "source": [
    "my_number_integer = 1\n",
    "my_number_float = 1.2345\n",
    "my_boolean_value_1 = True\n",
    "my_boolean_value_2 = False"
   ]
  },
  {
   "cell_type": "code",
   "execution_count": 3,
   "metadata": {
    "slideshow": {
     "slide_type": "slide"
    }
   },
   "outputs": [
    {
     "name": "stdout",
     "output_type": "stream",
     "text": [
      "3\n",
      "2\n",
      "4\n",
      "2.0\n"
     ]
    }
   ],
   "source": [
    "# Arithmetrische Operatoren\n",
    "a = 1\n",
    "b = 2 \n",
    "c = 3\n",
    "\n",
    "# Grundrechenarten\n",
    "d = a + b\n",
    "e = c - a\n",
    "f = b * e\n",
    "g = f / b\n",
    "\n",
    "print(d)\n",
    "print(e)\n",
    "print(f)\n",
    "print(g)"
   ]
  },
  {
   "cell_type": "markdown",
   "metadata": {
    "slideshow": {
     "slide_type": "fragment"
    }
   },
   "source": [
    "**Achtung:** Seit Python 3.0 ist die Standard-Division eine Gleitkommadivision, 5 / 2 ist also 2.5. In früheren Versionen wurde wurde standardmäßig eine ganzzahlige Division durchgeführt, also 5/2 = 2 (Rest 1)."
   ]
  },
  {
   "cell_type": "code",
   "execution_count": 4,
   "metadata": {
    "slideshow": {
     "slide_type": "slide"
    }
   },
   "outputs": [
    {
     "name": "stdout",
     "output_type": "stream",
     "text": [
      "128\n"
     ]
    }
   ],
   "source": [
    "# Potenzfunktionen\n",
    "h = 2 ** 7  # 2^7 = 128\n",
    "print(h)\n",
    "\n",
    "# Wurzeln, Logarithmen etc. werden später behandelt."
   ]
  },
  {
   "cell_type": "code",
   "execution_count": 5,
   "metadata": {},
   "outputs": [
    {
     "name": "stdout",
     "output_type": "stream",
     "text": [
      "2\n"
     ]
    }
   ],
   "source": [
    "# Weitere wichtige Operatoren\n",
    "# Ganzzahlige Division\n",
    "\n",
    "a = 5\n",
    "b = 2\n",
    "print(a // b)"
   ]
  },
  {
   "cell_type": "code",
   "execution_count": 6,
   "metadata": {},
   "outputs": [
    {
     "name": "stdout",
     "output_type": "stream",
     "text": [
      "1\n"
     ]
    }
   ],
   "source": [
    "# Modulo / Divisionsrest\n",
    "# Tip 1: Nützlich, um zu prüfen, ob eine Zahl gerade ist.\n",
    "# Tip 2: Auch nützlich, wenn man den Wertebereich einer \n",
    "# Zahl begrenzen will.\n",
    "print(a % b)"
   ]
  },
  {
   "cell_type": "code",
   "execution_count": null,
   "metadata": {},
   "outputs": [],
   "source": [
    "# Typeumwandlung\n",
    "# float als int, was passiert\n",
    "print(int(3.1))\n",
    "print(int(3.5))\n",
    "print(int(3.8))"
   ]
  },
  {
   "cell_type": "code",
   "execution_count": null,
   "metadata": {},
   "outputs": [],
   "source": [
    "# Runden\n",
    "# round(value[, n])\n",
    "print(round(3.5))"
   ]
  },
  {
   "cell_type": "markdown",
   "metadata": {
    "slideshow": {
     "slide_type": "slide"
    }
   },
   "source": [
    "#### Wahrheitswerte (Boolesche Werte)\n"
   ]
  },
  {
   "cell_type": "code",
   "execution_count": 53,
   "metadata": {},
   "outputs": [
    {
     "name": "stdout",
     "output_type": "stream",
     "text": [
      "False\n",
      "True\n",
      "False\n",
      "True\n"
     ]
    }
   ],
   "source": [
    "# Logische Operatoren\n",
    "a = True\n",
    "b = False\n",
    "\n",
    "print(a and b)\n",
    "print(a or b)\n",
    "print(not a)\n",
    "# Ersatz für XOR, nicht ganz unproblematisch\n",
    "print(a != b)"
   ]
  },
  {
   "cell_type": "code",
   "execution_count": 54,
   "metadata": {},
   "outputs": [
    {
     "name": "stdout",
     "output_type": "stream",
     "text": [
      "False\n",
      "True\n",
      "False\n",
      "True\n",
      "True\n",
      "True\n",
      "False\n"
     ]
    }
   ],
   "source": [
    "# Vergleichsoperatoren\n",
    "# Der Ergebniswert ist immer Boolean.\n",
    "a = 90\n",
    "b = 60\n",
    "c = 60\n",
    "print(a < b)\n",
    "print(a > b)\n",
    "print(a < a)\n",
    "print(a <= a)\n",
    "print(a >= a)\n",
    "# Achtung: Wertevergleich oder Identitätsvergleich?\n",
    "print(a == a)\n",
    "print(b != c)\n",
    "\n"
   ]
  },
  {
   "cell_type": "code",
   "execution_count": null,
   "metadata": {},
   "outputs": [],
   "source": [
    "# Etwas kompliziert: Wertevergleich vs. Identitätsvergleich\n",
    "print\n",
    "\n",
    "Unterschied zwischen Objekt und Name\n"
   ]
  },
  {
   "cell_type": "code",
   "execution_count": 17,
   "metadata": {},
   "outputs": [
    {
     "name": "stdout",
     "output_type": "stream",
     "text": [
      "0.9999999999999999\n",
      "False\n"
     ]
    }
   ],
   "source": [
    "# dito\n",
    "ein_drittel = 1/3\n",
    "b = ein_drittel / 10000\n",
    "c = b * 3\n",
    "d = c * 10000\n",
    "print(d)\n",
    "print(d == 1.0)"
   ]
  },
  {
   "cell_type": "code",
   "execution_count": null,
   "metadata": {},
   "outputs": [],
   "source": [
    "# sqrt\n",
    "# pi\n",
    "# cos, sin, tan, cot"
   ]
  },
  {
   "cell_type": "markdown",
   "metadata": {
    "slideshow": {
     "slide_type": "slide"
    }
   },
   "source": [
    "## Übung ##\n",
    "Schreiben Sie diese Formel als Python-Ausdruck\n",
    "\n",
    "$c = \\sqrt(a^2 + b^2)$"
   ]
  },
  {
   "cell_type": "code",
   "execution_count": 3,
   "metadata": {},
   "outputs": [],
   "source": [
    "a = 5\n",
    "b = 7"
   ]
  },
  {
   "cell_type": "code",
   "execution_count": 4,
   "metadata": {},
   "outputs": [],
   "source": [
    "import math\n",
    "c = math.sqrt(a**2 + b**2)"
   ]
  },
  {
   "cell_type": "code",
   "execution_count": 5,
   "metadata": {},
   "outputs": [
    {
     "name": "stdout",
     "output_type": "stream",
     "text": [
      "8.602325267042627\n"
     ]
    }
   ],
   "source": [
    "print(c)"
   ]
  },
  {
   "cell_type": "markdown",
   "metadata": {
    "slideshow": {
     "slide_type": "slide"
    }
   },
   "source": [
    "## Übung ##\n",
    "Schreiben Sie die Formel für die Kreisfläche als Python-Ausdruck\n",
    "\n",
    "$flaeche = \\pi*r^2$"
   ]
  },
  {
   "cell_type": "code",
   "execution_count": null,
   "metadata": {
    "slideshow": {
     "slide_type": "fragment"
    }
   },
   "outputs": [],
   "source": [
    "r = 3"
   ]
  },
  {
   "cell_type": "code",
   "execution_count": null,
   "metadata": {},
   "outputs": [],
   "source": [
    "flaeche = ?"
   ]
  },
  {
   "cell_type": "code",
   "execution_count": null,
   "metadata": {},
   "outputs": [],
   "source": [
    "print(flaeche)"
   ]
  },
  {
   "cell_type": "markdown",
   "metadata": {
    "slideshow": {
     "slide_type": "slide"
    }
   },
   "source": [
    "### Komplexe Datentypen\n",
    "Als komplexe Datentypen bezeichnet man solche, die eine adressierbare Struktur an Unterelementen haben."
   ]
  },
  {
   "cell_type": "markdown",
   "metadata": {},
   "source": [
    "- Zeichenketten \n",
    "\n",
    "| 0 | 1 | 2 |\n",
    "| --- | --- | --- |\n",
    "| W | O | W |\n",
    "\n",
    "- Listen\n",
    "- Dictionaries\n",
    "- Tuples\n",
    "uvm."
   ]
  },
  {
   "cell_type": "markdown",
   "metadata": {
    "slideshow": {
     "slide_type": "slide"
    }
   },
   "source": [
    "#### Zeichenketten"
   ]
  },
  {
   "cell_type": "code",
   "execution_count": null,
   "metadata": {},
   "outputs": [],
   "source": [
    "# Zeichenkette\n",
    "my_string_1 = 'UniBwM'\n",
    "my_string_2 = \"UniBwM\""
   ]
  },
  {
   "cell_type": "code",
   "execution_count": null,
   "metadata": {},
   "outputs": [],
   "source": [
    "# Die Wahl zwischen einfachen und doppelten Anführungszeichen erlaubt es elegant, \n",
    "# die jeweils andere Form innerhalb der Zeichenkette zu verwenden:\n",
    "my_string_3 = \"Die Abkürzung für unsere Universität lautet 'UniBwM'.\"\n",
    "my_string_3 = 'Die Abkürzung für unsere Universität lautet \"UniBwM\".'"
   ]
  },
  {
   "cell_type": "code",
   "execution_count": null,
   "metadata": {},
   "outputs": [],
   "source": [
    "# Mehrzeilige Zeichenketten erfordern DREI Anführungszeichen:\n",
    "my_long_string_1 = \"\"\"Herr von Ribbeck auf Ribbeck im Havelland,\n",
    "Ein Birnbaum in seinem Garten stand,\n",
    "Und kam die goldene Herbsteszeit,\n",
    "Und die Birnen leuchteten weit und breit,\n",
    "Da stopfte, wenn’s Mittag vom Thurme scholl,\n",
    "Der von Ribbeck sich beide Taschen voll,\n",
    "Und kam in Pantinen ein Junge daher,\n",
    "So rief er: 'Junge, wist’ ne Beer?'\n",
    "Und kam ein Mädel, so rief er: 'Lütt Dirn'\n",
    "Kumm man röwer, ick hebb’ ne Birn.\"\"\""
   ]
  },
  {
   "cell_type": "code",
   "execution_count": 17,
   "metadata": {
    "collapsed": true,
    "slideshow": {
     "slide_type": "slide"
    }
   },
   "outputs": [],
   "source": [
    "my_long_string_2 = '''Herr von Ribbeck auf Ribbeck im Havelland,\n",
    "Ein Birnbaum in seinem Garten stand,\n",
    "Und kam die goldene Herbsteszeit,\n",
    "Und die Birnen leuchteten weit und breit,\n",
    "Da stopfte, wenn’s Mittag vom Thurme scholl,\n",
    "Der von Ribbeck sich beide Taschen voll,\n",
    "Und kam in Pantinen ein Junge daher,\n",
    "So rief er: \"Junge, wist’ ne Beer?\"\n",
    "Und kam ein Mädel, so rief er: \"Lütt Dirn\"\n",
    "Kumm man röwer, ick hebb’ ne Birn.'''"
   ]
  },
  {
   "cell_type": "code",
   "execution_count": null,
   "metadata": {
    "slideshow": {
     "slide_type": "slide"
    }
   },
   "outputs": [],
   "source": [
    "# Häufige Operationen mit Zeichenketten\n",
    "# Addition\n",
    "print('Ich studiere an der ' + my_string_1)"
   ]
  },
  {
   "cell_type": "markdown",
   "metadata": {
    "slideshow": {
     "slide_type": "slide"
    }
   },
   "source": [
    "### Multiplikation"
   ]
  },
  {
   "cell_type": "code",
   "execution_count": 1,
   "metadata": {
    "slideshow": {
     "slide_type": "-"
    }
   },
   "outputs": [
    {
     "name": "stdout",
     "output_type": "stream",
     "text": [
      "ABCDABCDABCD\n"
     ]
    }
   ],
   "source": [
    "# Multiplikation\n",
    "print('ABCD' * 3)"
   ]
  },
  {
   "cell_type": "markdown",
   "metadata": {
    "slideshow": {
     "slide_type": "slide"
    }
   },
   "source": [
    "**Aber man kann keine Zeichenketten miteinander multiplizieren:**"
   ]
  },
  {
   "cell_type": "code",
   "execution_count": 4,
   "metadata": {},
   "outputs": [
    {
     "ename": "TypeError",
     "evalue": "can't multiply sequence by non-int of type 'str'",
     "output_type": "error",
     "traceback": [
      "\u001b[0;31m---------------------------------------------------------------------------\u001b[0m",
      "\u001b[0;31mTypeError\u001b[0m                                 Traceback (most recent call last)",
      "\u001b[0;32m<ipython-input-4-1f4b1a3739c9>\u001b[0m in \u001b[0;36m<module>\u001b[0;34m\u001b[0m\n\u001b[1;32m      1\u001b[0m \u001b[0mmy_string_test\u001b[0m \u001b[0;34m=\u001b[0m \u001b[0;34m'11'\u001b[0m\u001b[0;34m\u001b[0m\u001b[0;34m\u001b[0m\u001b[0m\n\u001b[1;32m      2\u001b[0m \u001b[0msecond_string\u001b[0m \u001b[0;34m=\u001b[0m \u001b[0;34m'2'\u001b[0m\u001b[0;34m\u001b[0m\u001b[0;34m\u001b[0m\u001b[0m\n\u001b[0;32m----> 3\u001b[0;31m \u001b[0mprint\u001b[0m\u001b[0;34m(\u001b[0m\u001b[0mmy_string_test\u001b[0m \u001b[0;34m*\u001b[0m \u001b[0msecond_string\u001b[0m\u001b[0;34m)\u001b[0m\u001b[0;34m\u001b[0m\u001b[0;34m\u001b[0m\u001b[0m\n\u001b[0m",
      "\u001b[0;31mTypeError\u001b[0m: can't multiply sequence by non-int of type 'str'"
     ]
    }
   ],
   "source": [
    "my_string_test = '11'\n",
    "second_string = '2'\n",
    "print(my_string_test * second_string)"
   ]
  },
  {
   "cell_type": "markdown",
   "metadata": {
    "slideshow": {
     "slide_type": "slide"
    }
   },
   "source": [
    "### Länge ermitteln"
   ]
  },
  {
   "cell_type": "code",
   "execution_count": null,
   "metadata": {},
   "outputs": [],
   "source": [
    "my_string = \"LOTTO\"\n",
    "print(len(my_string))"
   ]
  },
  {
   "cell_type": "code",
   "execution_count": null,
   "metadata": {},
   "outputs": [],
   "source": [
    "# Benutzereingabe mit input([text])\n",
    "# Ergebnis ist Zeichenkette (s.u.)"
   ]
  },
  {
   "cell_type": "markdown",
   "metadata": {
    "slideshow": {
     "slide_type": "slide"
    }
   },
   "source": [
    "#### Typumwandlung (Type Cast)\n"
   ]
  },
  {
   "cell_type": "code",
   "execution_count": null,
   "metadata": {},
   "outputs": [],
   "source": [
    "# Zeichenkette in Ganzzahl (int)\n",
    "zahl_als_text = \"7\"\n",
    "zahl_als_int = int(zahl_als_text)"
   ]
  },
  {
   "cell_type": "code",
   "execution_count": null,
   "metadata": {},
   "outputs": [],
   "source": [
    "# Zeichenkette als Gleitkommazahl (float)\n",
    "float_als_text = \"3.1415\"\n",
    "float_als_zahl = float(float_als_text)"
   ]
  },
  {
   "cell_type": "code",
   "execution_count": null,
   "metadata": {},
   "outputs": [],
   "source": [
    "# Zahl als Zeichenkette (String)\n",
    "zahl_als_text = str(7)\n",
    "float_als_text = (str(3.1415))\n"
   ]
  },
  {
   "cell_type": "code",
   "execution_count": 74,
   "metadata": {},
   "outputs": [
    {
     "name": "stdout",
     "output_type": "stream",
     "text": [
      "84\n",
      "4242\n"
     ]
    }
   ],
   "source": [
    "# Umwandlung einer Zahl in eine Zeichenkette\n",
    "a = 42\n",
    "a_string = str(a)\n",
    "\n",
    "# Was ist hier der Unterschied?\n",
    "print(a * 2)\n",
    "print(a_string * 2)"
   ]
  },
  {
   "cell_type": "code",
   "execution_count": 7,
   "metadata": {},
   "outputs": [
    {
     "name": "stdout",
     "output_type": "stream",
     "text": [
      "3\n",
      "3\n",
      "3\n"
     ]
    }
   ],
   "source": [
    "Hilfsfunktionen für Strings\n",
    "# https://docs.python.org/3/library/stdtypes.html#str\n",
    "lower\n",
    "upper\n",
    "split"
   ]
  },
  {
   "cell_type": "code",
   "execution_count": 9,
   "metadata": {},
   "outputs": [
    {
     "name": "stdout",
     "output_type": "stream",
     "text": [
      "4\n"
     ]
    }
   ],
   "source": []
  },
  {
   "cell_type": "markdown",
   "metadata": {},
   "source": [
    "## Übung \n",
    "Type cast"
   ]
  },
  {
   "cell_type": "markdown",
   "metadata": {},
   "source": [
    "#### Listen\n",
    "Listen sind komplexe Variablen aus mehreren Unterelementen beliebigen Typs. Die Unterelemente können einzeln adressiert und auch geändert werden."
   ]
  },
  {
   "cell_type": "code",
   "execution_count": 4,
   "metadata": {},
   "outputs": [
    {
     "name": "stdout",
     "output_type": "stream",
     "text": [
      "[1, True, 'UniBwM']\n"
     ]
    }
   ],
   "source": [
    "# Liste\n",
    "my_list = [1, 2, 5, 9]\n",
    "my_list_mixed = [1, True, 'UniBwM']\n",
    "print(my_list_mixed)"
   ]
  },
  {
   "cell_type": "code",
   "execution_count": 2,
   "metadata": {},
   "outputs": [
    {
     "name": "stdout",
     "output_type": "stream",
     "text": [
      "1\n",
      "2\n",
      "5\n"
     ]
    }
   ],
   "source": [
    "# Listenelemente können einzeln adressiert werden.\n",
    "# Das erste Element hat den Index 0:\n",
    "print(my_list[0])\n",
    "print(my_list[1])\n",
    "print(my_list[2])"
   ]
  },
  {
   "cell_type": "code",
   "execution_count": 5,
   "metadata": {},
   "outputs": [
    {
     "name": "stdout",
     "output_type": "stream",
     "text": [
      "[1, True, 'LMU München']\n"
     ]
    }
   ],
   "source": [
    "# Sie können auch einzeln geändert werden:\n",
    "my_list_mixed[2] = 'LMU München'\n",
    "print(my_list_mixed)"
   ]
  },
  {
   "cell_type": "code",
   "execution_count": 59,
   "metadata": {},
   "outputs": [
    {
     "name": "stdout",
     "output_type": "stream",
     "text": [
      "['two', 'three', 'four', 'five']\n",
      "['one', 'two']\n",
      "['two', 'three']\n",
      "['one', 'two', 'three']\n"
     ]
    }
   ],
   "source": [
    "# Man kann auch Bereiche adressieren:\n",
    "my_list = ['one', 'two', 'three', 'four', 'five']\n",
    "\n",
    "# Alle ab dem zweiten Element\n",
    "print(my_list[1:])\n",
    "# Alle bis zum zweiten Element\n",
    "print(my_list[:2])\n",
    "# Alle vom zweiten bis zum dritten Element\n",
    "print(my_list[1:3])\n",
    "# Alle ohne die letzten beiden\n",
    "print(my_list[:-2])\n"
   ]
  },
  {
   "cell_type": "code",
   "execution_count": 60,
   "metadata": {},
   "outputs": [
    {
     "name": "stdout",
     "output_type": "stream",
     "text": [
      "['one', 'zwei', 'drei', 'four', 'five']\n"
     ]
    }
   ],
   "source": [
    "# Man kann auch Bereiche einer Liste ändern oder die Liste dadurch verkürzen oder verlängern:\n",
    "my_list[1:3] = ['zwei', 'drei']\n",
    "print(my_list)"
   ]
  },
  {
   "cell_type": "code",
   "execution_count": 61,
   "metadata": {},
   "outputs": [
    {
     "name": "stdout",
     "output_type": "stream",
     "text": [
      "['one_and_two', 'three', 'four', 'five']\n"
     ]
    }
   ],
   "source": [
    "my_list = ['one', 'two', 'three', 'four', 'five']\n",
    "my_list[0:2] = ['one_and_two']\n",
    "print(my_list)"
   ]
  },
  {
   "cell_type": "code",
   "execution_count": 62,
   "metadata": {},
   "outputs": [
    {
     "name": "stdout",
     "output_type": "stream",
     "text": [
      "['one_and_two', 'three', 'four', 'five']\n"
     ]
    }
   ],
   "source": [
    "# Achtung: Wenn man einen ListenBEREICH ändert, muss man eine Liste übergeben. \n",
    "my_list = ['one', 'two', 'three', 'four', 'five']\n",
    "my_list[0:2] = ['one_and_two']\n",
    "print(my_list)"
   ]
  },
  {
   "cell_type": "code",
   "execution_count": 63,
   "metadata": {},
   "outputs": [
    {
     "name": "stdout",
     "output_type": "stream",
     "text": [
      "['ABC', 'three', 'four', 'five']\n"
     ]
    }
   ],
   "source": [
    "# Sonst Versucht python, den Wert als Liste seiner Unterelemente zu verstehen.\n",
    "my_list = ['one', 'two', 'three', 'four', 'five']\n",
    "my_list[0:2] = ['ABC']\n",
    "print(my_list)"
   ]
  },
  {
   "cell_type": "code",
   "execution_count": 64,
   "metadata": {},
   "outputs": [
    {
     "name": "stdout",
     "output_type": "stream",
     "text": [
      "['one', 'two', 'drei', 'four', 'five']\n"
     ]
    }
   ],
   "source": [
    "# Wenn man ein Listenelement ändert, muss man ein Element übergeben\n",
    "my_list = ['one', 'two', 'three', 'four', 'five']\n",
    "my_list[2] = 'drei'\n",
    "print(my_list)"
   ]
  },
  {
   "cell_type": "code",
   "execution_count": 65,
   "metadata": {},
   "outputs": [
    {
     "name": "stdout",
     "output_type": "stream",
     "text": [
      "['one', 'two', 'drei_a', 'drei_b', 'four', 'five']\n"
     ]
    }
   ],
   "source": [
    "# Wenn man an einer Position MEHRE neue Elemente einfügen will, \n",
    "# muss man diese Position als Bereich der Länge 1 adressieren.\n",
    "\n",
    "my_list = ['one', 'two', 'three', 'four', 'five']\n",
    "my_list[2:3] = ['drei_a', 'drei_b']\n",
    "print(my_list)"
   ]
  },
  {
   "cell_type": "code",
   "execution_count": 66,
   "metadata": {},
   "outputs": [
    {
     "name": "stdout",
     "output_type": "stream",
     "text": [
      "['one', 'two', ['drei_a', 'drei_b'], 'four', 'five']\n"
     ]
    }
   ],
   "source": [
    "# Sonst würde an dieser Stelle eine Liste als Element eingefügt:\n",
    "my_list = ['one', 'two', 'three', 'four', 'five']\n",
    "my_list[2] = ['drei_a', 'drei_b']\n",
    "print(my_list)"
   ]
  },
  {
   "cell_type": "code",
   "execution_count": 75,
   "metadata": {},
   "outputs": [
    {
     "name": "stdout",
     "output_type": "stream",
     "text": [
      "['one', 'two', 'three']\n"
     ]
    }
   ],
   "source": [
    "# Listen: append()\n",
    "my_list = ['one', 'two']\n",
    "my_list.append('three')\n",
    "print(my_list)"
   ]
  },
  {
   "cell_type": "code",
   "execution_count": 76,
   "metadata": {},
   "outputs": [
    {
     "name": "stdout",
     "output_type": "stream",
     "text": [
      "['one', 'two', 'three', 'four']\n"
     ]
    }
   ],
   "source": [
    "# Listen: extend()\n",
    "my_list = ['one', 'two']\n",
    "my_list.extend(['three', 'four'])\n",
    "print(my_list)"
   ]
  },
  {
   "cell_type": "code",
   "execution_count": 77,
   "metadata": {},
   "outputs": [
    {
     "name": "stdout",
     "output_type": "stream",
     "text": [
      "['one', 'two', ['three', 'four']]\n"
     ]
    }
   ],
   "source": [
    "# Kontrollfrage:\n",
    "# Was passiert, wenn Sie der Methode 'append' eine LISTE als Parameter übergeben?\n",
    "my_list = ['one', 'two']\n",
    "my_list.append(['three', 'four'])\n",
    "print(my_list)"
   ]
  },
  {
   "cell_type": "code",
   "execution_count": 78,
   "metadata": {},
   "outputs": [
    {
     "name": "stdout",
     "output_type": "stream",
     "text": [
      "['one', 'two', 't', 'h', 'r', 'e', 'e']\n"
     ]
    }
   ],
   "source": [
    "# Kontrollfrage:\n",
    "# Was passiert, wenn Sie der Methode 'extend' einen einzelnen Wert als Parameter übergeben?\n",
    "my_list = ['one', 'two']\n",
    "my_list.extend('three')\n",
    "print(my_list)"
   ]
  },
  {
   "cell_type": "code",
   "execution_count": 1,
   "metadata": {},
   "outputs": [
    {
     "ename": "TypeError",
     "evalue": "'int' object is not iterable",
     "output_type": "error",
     "traceback": [
      "\u001b[0;31m---------------------------------------------------------------------------\u001b[0m",
      "\u001b[0;31mTypeError\u001b[0m                                 Traceback (most recent call last)",
      "\u001b[0;32m<ipython-input-1-3d035bd9e185>\u001b[0m in \u001b[0;36m<module>\u001b[0;34m()\u001b[0m\n\u001b[1;32m      1\u001b[0m \u001b[0;31m# Wenn eine atomare Variable übergeben wird, gibt es eine Fehlermeldung:\u001b[0m\u001b[0;34m\u001b[0m\u001b[0;34m\u001b[0m\u001b[0m\n\u001b[1;32m      2\u001b[0m \u001b[0mmy_list\u001b[0m \u001b[0;34m=\u001b[0m \u001b[0;34m[\u001b[0m\u001b[0;34m'one'\u001b[0m\u001b[0;34m,\u001b[0m \u001b[0;34m'two'\u001b[0m\u001b[0;34m]\u001b[0m\u001b[0;34m\u001b[0m\u001b[0m\n\u001b[0;32m----> 3\u001b[0;31m \u001b[0mmy_list\u001b[0m\u001b[0;34m.\u001b[0m\u001b[0mextend\u001b[0m\u001b[0;34m(\u001b[0m\u001b[0;36m1\u001b[0m\u001b[0;34m)\u001b[0m\u001b[0;34m\u001b[0m\u001b[0m\n\u001b[0m\u001b[1;32m      4\u001b[0m \u001b[0mprint\u001b[0m\u001b[0;34m(\u001b[0m\u001b[0mmy_list\u001b[0m\u001b[0;34m)\u001b[0m\u001b[0;34m\u001b[0m\u001b[0m\n",
      "\u001b[0;31mTypeError\u001b[0m: 'int' object is not iterable"
     ]
    }
   ],
   "source": [
    "# Wenn eine atomare Variable übergeben wird, gibt es eine Fehlermeldung:\n",
    "my_list = ['one', 'two']\n",
    "my_list.extend(1)\n",
    "print(my_list)"
   ]
  },
  {
   "cell_type": "code",
   "execution_count": 85,
   "metadata": {},
   "outputs": [
    {
     "name": "stdout",
     "output_type": "stream",
     "text": [
      "[1, 2, 3, 4, 5, 6]\n"
     ]
    }
   ],
   "source": [
    "# Man kann Listen einfach sortieren:\n",
    "my_list = [1, 6, 5, 3, 2, 4]\n",
    "my_list.sort()\n",
    "print(my_list)"
   ]
  },
  {
   "cell_type": "code",
   "execution_count": 86,
   "metadata": {},
   "outputs": [
    {
     "name": "stdout",
     "output_type": "stream",
     "text": [
      "[6, 5, 4, 3, 2, 1]\n"
     ]
    }
   ],
   "source": [
    "# Das geht auch mit inverser Sortierfolge:\n",
    "my_list = [1, 6, 5, 3, 2, 4]\n",
    "my_list.sort(reverse=True)\n",
    "print(my_list)"
   ]
  },
  {
   "cell_type": "code",
   "execution_count": 7,
   "metadata": {},
   "outputs": [
    {
     "name": "stdout",
     "output_type": "stream",
     "text": [
      "False\n"
     ]
    }
   ],
   "source": [
    "# Prüfen, ob Element in Liste enthalten\n",
    "my_liste_3 = [1, 4, 9, 7]\n",
    "print(2 in my_liste_3)"
   ]
  },
  {
   "cell_type": "code",
   "execution_count": 14,
   "metadata": {},
   "outputs": [
    {
     "name": "stdout",
     "output_type": "stream",
     "text": [
      "Taeter gefunden!\n",
      "Position: 2\n"
     ]
    }
   ],
   "source": [
    "# Suchen zu Fuß\n",
    "my_liste_4 = ['Hepp', 'Mueller', 'Meier']\n",
    "positionszaehler = 0\n",
    "for element in my_liste_4:\n",
    "    if element == 'Meier':\n",
    "        print('Taeter gefunden!')\n",
    "        print('Position:', positionszaehler)\n",
    "    positionszaehler = positionszaehler + 1"
   ]
  },
  {
   "cell_type": "code",
   "execution_count": 11,
   "metadata": {},
   "outputs": [
    {
     "name": "stdout",
     "output_type": "stream",
     "text": [
      "Taeter gefunden!\n"
     ]
    }
   ],
   "source": [
    "if 'Mueller' in my_liste_4:\n",
    "    print('Taeter gefunden!')"
   ]
  },
  {
   "cell_type": "code",
   "execution_count": null,
   "metadata": {},
   "outputs": [],
   "source": [
    "find in list"
   ]
  },
  {
   "cell_type": "markdown",
   "metadata": {},
   "source": [
    "#### Tuples"
   ]
  },
  {
   "cell_type": "code",
   "execution_count": 67,
   "metadata": {
    "collapsed": true
   },
   "outputs": [],
   "source": [
    "# Tuple\n",
    "my_tuple = (1, 3, 9)\n",
    "my_tuple_mixed = (1, True, 'UniBwM')\n",
    "\n",
    "latitude = 48.0803\n",
    "longitude = 11.6382\n",
    "geo_position = (latitude, longitude)"
   ]
  },
  {
   "cell_type": "code",
   "execution_count": 68,
   "metadata": {},
   "outputs": [
    {
     "name": "stdout",
     "output_type": "stream",
     "text": [
      "48.0803\n"
     ]
    }
   ],
   "source": [
    "# Entpacken\n",
    "lat, lon = geo_position\n",
    "print(lat)"
   ]
  },
  {
   "cell_type": "code",
   "execution_count": 69,
   "metadata": {},
   "outputs": [
    {
     "name": "stdout",
     "output_type": "stream",
     "text": [
      "48.0803\n"
     ]
    }
   ],
   "source": [
    "# Auch die Elemente eines Tuples können einzeln adressiert werden:\n",
    "print(geo_position[0])"
   ]
  },
  {
   "cell_type": "code",
   "execution_count": 70,
   "metadata": {},
   "outputs": [
    {
     "ename": "TypeError",
     "evalue": "'tuple' object does not support item assignment",
     "output_type": "error",
     "traceback": [
      "\u001b[0;31m---------------------------------------------------------------------------\u001b[0m",
      "\u001b[0;31mTypeError\u001b[0m                                 Traceback (most recent call last)",
      "\u001b[0;32m<ipython-input-70-e1df6d09a57a>\u001b[0m in \u001b[0;36m<module>\u001b[0;34m()\u001b[0m\n\u001b[1;32m      1\u001b[0m \u001b[0;31m# Die Unterelemente eines Tuples können aber nicht geändert werden:\u001b[0m\u001b[0;34m\u001b[0m\u001b[0;34m\u001b[0m\u001b[0m\n\u001b[0;32m----> 2\u001b[0;31m \u001b[0mgeo_position\u001b[0m\u001b[0;34m[\u001b[0m\u001b[0;36m0\u001b[0m\u001b[0;34m]\u001b[0m \u001b[0;34m=\u001b[0m \u001b[0;36m44.123\u001b[0m\u001b[0;34m\u001b[0m\u001b[0m\n\u001b[0m",
      "\u001b[0;31mTypeError\u001b[0m: 'tuple' object does not support item assignment"
     ]
    }
   ],
   "source": [
    "# Die Unterelemente eines Tuples können aber nicht geändert werden:\n",
    "geo_position[0] = 44.123"
   ]
  },
  {
   "cell_type": "markdown",
   "metadata": {
    "collapsed": true
   },
   "source": [
    "#### Dictionaries"
   ]
  },
  {
   "cell_type": "code",
   "execution_count": null,
   "metadata": {
    "collapsed": true
   },
   "outputs": [],
   "source": [
    "my_dict = {'name' : 'Martin Hepp', \n",
    "           'fakultaet' : 'WOW', \n",
    "           'geburtsjahr' : 1971}\n",
    "print(my_dict['name'])\n",
    "print(my_dict['fakultaet'])\n"
   ]
  },
  {
   "cell_type": "code",
   "execution_count": null,
   "metadata": {
    "collapsed": true
   },
   "outputs": [],
   "source": [
    "# Elemente können geändert und hinzugefügt werden\n",
    "my_dict['fakultaet'] = 'INF'\n",
    "my_dict['lieblingsvorlesung'] = 'Programmierung in Python'"
   ]
  },
  {
   "cell_type": "code",
   "execution_count": null,
   "metadata": {
    "collapsed": true
   },
   "outputs": [],
   "source": [
    "# Wenn es den Schlüssel ('key') nicht gibt, wird eine Fehlermeldung produziert:\n",
    "print(my_dict['einkommen'])"
   ]
  },
  {
   "cell_type": "code",
   "execution_count": null,
   "metadata": {
    "collapsed": true
   },
   "outputs": [],
   "source": [
    "# Das kann man mit der Methode get vermeiden:\n",
    "print(my_dict.get('einkommen'))"
   ]
  },
  {
   "cell_type": "code",
   "execution_count": null,
   "metadata": {
    "collapsed": true
   },
   "outputs": [],
   "source": [
    "# Man kann auch einen Default-Wert vorgeben (normalerweise None):\n",
    "print(my_dict.get('einkommen', 'Unbekannt'))\n",
    "print(my_dict.get('einkommen', 0))"
   ]
  },
  {
   "cell_type": "code",
   "execution_count": 4,
   "metadata": {},
   "outputs": [
    {
     "name": "stdout",
     "output_type": "stream",
     "text": [
      "{}\n"
     ]
    }
   ],
   "source": [
    "adresse = {}\n",
    "print(adresse)"
   ]
  },
  {
   "cell_type": "code",
   "execution_count": 10,
   "metadata": {},
   "outputs": [
    {
     "name": "stdout",
     "output_type": "stream",
     "text": [
      "85577\n",
      "{'plz': '85577', 'sonderfeld': 'Bemerkungen bitte hier'}\n"
     ]
    }
   ],
   "source": [
    "adresse = {}\n",
    "adresse['plz'] = '85577'\n",
    "print(adresse['plz'])\n",
    "adresse['sonderfeld'] = 'Bemerkungen bitte hier'\n",
    "print(adresse)"
   ]
  },
  {
   "cell_type": "code",
   "execution_count": 27,
   "metadata": {},
   "outputs": [
    {
     "name": "stdout",
     "output_type": "stream",
     "text": [
      "[{'name': 'Frank Farian'}, {'name': 'Lady Gaga', 'bemerkung': 'Supercool!'}, {'name': 'John Lennon'}]\n"
     ]
    }
   ],
   "source": [
    "gast_1 = {'name' : 'Frank Farian'}\n",
    "gast_2 = {'name' : 'Lady Gaga'}\n",
    "gast_3 = {'name' : 'John Lennon'}\n",
    "\n",
    "gaesteliste = []\n",
    "gaesteliste.append(gast_1)\n",
    "gaesteliste.append(gast_2)\n",
    "gaesteliste.append(gast_3)\n",
    "gast_2['bemerkung'] = 'Supercool!'\n",
    "print(gaesteliste)\n"
   ]
  },
  {
   "cell_type": "code",
   "execution_count": 35,
   "metadata": {},
   "outputs": [
    {
     "name": "stdout",
     "output_type": "stream",
     "text": [
      "Frank Farian \n",
      "Lady Gaga Supercool!\n",
      "John Lennon \n"
     ]
    }
   ],
   "source": [
    "for gast in gaesteliste:\n",
    "    print(gast['name'], gast.get('bemerkung', ''))"
   ]
  },
  {
   "cell_type": "code",
   "execution_count": 26,
   "metadata": {},
   "outputs": [
    {
     "name": "stdout",
     "output_type": "stream",
     "text": [
      "[{'name': 'Frank Farian'}, {'name': 'Lady Gaga', 'bemerkung': 'Supercool!'}, {'name': 'John Lennon'}]\n"
     ]
    }
   ],
   "source": [
    "gast_2['bemerkung'] = 'Supercool!'\n",
    "print(gaesteliste)"
   ]
  },
  {
   "cell_type": "markdown",
   "metadata": {
    "collapsed": true
   },
   "source": [
    "#### Mengen"
   ]
  },
  {
   "cell_type": "code",
   "execution_count": 81,
   "metadata": {},
   "outputs": [
    {
     "name": "stdout",
     "output_type": "stream",
     "text": [
      "{'rot', 'gruen', 'blau', 'gelb'}\n"
     ]
    }
   ],
   "source": [
    "a = set(['rot', 'gruen', 'blau', 'gelb'])\n",
    "print(a)"
   ]
  },
  {
   "cell_type": "code",
   "execution_count": 82,
   "metadata": {},
   "outputs": [
    {
     "name": "stdout",
     "output_type": "stream",
     "text": [
      "{' ', 'i', 'D', 's', '.', 'Z', 'k', 'e', 'c', 't', 'n', 'h'}\n"
     ]
    }
   ],
   "source": [
    "a = 'Dies ist eine Zeichenkette.'\n",
    "# Nun schauen wir, welche Buchstaben hierin vorkommen.\n",
    "zeichenvorrat = set(a)\n",
    "print(zeichenvorrat)"
   ]
  },
  {
   "cell_type": "code",
   "execution_count": 15,
   "metadata": {},
   "outputs": [
    {
     "name": "stdout",
     "output_type": "stream",
     "text": [
      "1\n",
      "2\n",
      "[1]\n",
      "1.0\n",
      "<class 'float'>\n"
     ]
    }
   ],
   "source": [
    "# Python 3.6 Type Annotations, PEP 526\n",
    "# http://mypy.readthedocs.io/en/latest/cheat_sheet_py3.html\n",
    "# https://www.python.org/dev/peps/pep-0526/\n",
    "a: int = 1\n",
    "b: int\n",
    "b = 2\n",
    "print(a)\n",
    "print(b)\n",
    "\n",
    "from typing import List, Set, Dict, Tuple, Text, Optional, AnyStr\n",
    "my_list: List[int] = []\n",
    "my_list.append(1)\n",
    "print(my_list)\n",
    "\n",
    "def test(number: int) -> float:\n",
    "    return float(number)\n",
    "\n",
    "print(test(1))\n",
    "print(type(test(1)))"
   ]
  },
  {
   "cell_type": "markdown",
   "metadata": {
    "collapsed": true,
    "slideshow": {
     "slide_type": "slide"
    }
   },
   "source": [
    "# Vielen Dank!\n",
    "**http://www.ebusiness-unibw.org/wiki/Teaching/PIP**"
   ]
  }
 ],
 "metadata": {
  "anaconda-cloud": {},
  "celltoolbar": "Slideshow",
  "kernelspec": {
   "display_name": "Python 3",
   "language": "python",
   "name": "python3"
  },
  "language_info": {
   "codemirror_mode": {
    "name": "ipython",
    "version": 3
   },
   "file_extension": ".py",
   "mimetype": "text/x-python",
   "name": "python",
   "nbconvert_exporter": "python",
   "pygments_lexer": "ipython3",
   "version": "3.7.1"
  },
  "rise": {
   "backimage": "background.png",
   "center": false,
   "enable_chalkboard": false,
   "footer": "Univ.-Prof. Dr. Martin Hepp, martin.hepp@unibw.de",
   "header": "Programmierung in Python",
   "showSlideNumber": "pdf",
   "slideNumber": "c/t",
   "theme": "chesterish",
   "transition": "none"
  },
  "toc": {
   "base_numbering": 1,
   "nav_menu": {},
   "number_sections": true,
   "sideBar": true,
   "skip_h1_title": false,
   "title_cell": "Table of Contents",
   "title_sidebar": "Contents",
   "toc_cell": false,
   "toc_position": {},
   "toc_section_display": true,
   "toc_window_display": false
  }
 },
 "nbformat": 4,
 "nbformat_minor": 1
}
