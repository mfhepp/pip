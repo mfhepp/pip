{
 "cells": [
  {
   "cell_type": "markdown",
   "metadata": {
    "slideshow": {
     "slide_type": "notes"
    }
   },
   "source": [
    "# Programmierung in Python  <a class=\"tocSkip\">"
   ]
  },
  {
   "cell_type": "markdown",
   "metadata": {
    "slideshow": {
     "slide_type": "slide"
    }
   },
   "source": [
    "\n",
    "\n",
    "# Erste Schritte in Python\n",
    "**Version: 2019-10-28**\n"
   ]
  },
  {
   "cell_type": "markdown",
   "metadata": {
    "slideshow": {
     "slide_type": "slide"
    }
   },
   "source": [
    "## Syntaktische Konventionen\n",
    "\n",
    "### Keine Zeilenummern"
   ]
  },
  {
   "cell_type": "markdown",
   "metadata": {
    "cell_style": "split",
    "slideshow": {
     "slide_type": "fragment"
    }
   },
   "source": [
    "**Ohne Zeilennummern:<br />**\n",
    "(Python etc.)\n",
    "```python\n",
    "a = 1\n",
    "b = 2\n",
    "print(a)\n",
    "```"
   ]
  },
  {
   "cell_type": "markdown",
   "metadata": {
    "cell_style": "split",
    "slideshow": {
     "slide_type": "fragment"
    }
   },
   "source": [
    "**Mit Zeilennummern:<br />**\n",
    "(nur in älteren Sprachen)\n",
    "```\n",
    "10    a = 1\n",
    "20    b = 2\n",
    "30    print(a)```"
   ]
  },
  {
   "cell_type": "markdown",
   "metadata": {
    "slideshow": {
     "slide_type": "slide"
    }
   },
   "source": [
    "### Groß-/Kleinschreibung\n",
    "Groß-/Kleinschreibung muss beachtet werden:\n",
    "```python\n",
    "    a = 10   # die Variable a wird definiert\n",
    "    print(A) # die Variable A gibt es aber nicht\n",
    "```"
   ]
  },
  {
   "cell_type": "markdown",
   "metadata": {
    "slideshow": {
     "slide_type": "slide"
    }
   },
   "source": [
    "### Reservierte Namen\n",
    "Namen, die für Befehle etc. verwendet werden, dürfen nicht als Namen für Werte oder Objekte genutzt werden.\n",
    "Es gibt\n",
    "- **Schlüsselwörter** für echte Sprachelemente (\"keywords\")\n",
    "und\n",
    "- **Namen für vordefinierte Objekte und Methoden** (\"Built-ins\")."
   ]
  },
  {
   "cell_type": "markdown",
   "metadata": {
    "slideshow": {
     "slide_type": "slide"
    }
   },
   "source": [
    "**Schlüsselwörter für echte Sprachelemente (\"keywords\")**"
   ]
  },
  {
   "cell_type": "code",
   "execution_count": 1,
   "metadata": {},
   "outputs": [
    {
     "name": "stdout",
     "output_type": "stream",
     "text": [
      "\n",
      "Here is a list of the Python keywords.  Enter any keyword to get more help.\n",
      "\n",
      "False               class               from                or\n",
      "None                continue            global              pass\n",
      "True                def                 if                  raise\n",
      "and                 del                 import              return\n",
      "as                  elif                in                  try\n",
      "assert              else                is                  while\n",
      "async               except              lambda              with\n",
      "await               finally             nonlocal            yield\n",
      "break               for                 not                 \n",
      "\n"
     ]
    }
   ],
   "source": [
    "help('keywords')"
   ]
  },
  {
   "cell_type": "markdown",
   "metadata": {
    "slideshow": {
     "slide_type": "slide"
    }
   },
   "source": [
    "**Namen für vordefinierte Objekte und Methoden (\"Built-ins\")**"
   ]
  },
  {
   "cell_type": "code",
   "execution_count": 2,
   "metadata": {
    "slideshow": {
     "slide_type": "-"
    }
   },
   "outputs": [
    {
     "name": "stdout",
     "output_type": "stream",
     "text": [
      "ArithmeticError           AssertionError            AttributeError            BaseException             \n",
      "BlockingIOError           BrokenPipeError           BufferError               BytesWarning              \n",
      "ChildProcessError         ConnectionAbortedError    ConnectionError           ConnectionRefusedError    \n",
      "ConnectionResetError      DeprecationWarning        EOFError                  Ellipsis                  \n",
      "EnvironmentError          Exception                 False                     FileExistsError           \n",
      "FileNotFoundError         FloatingPointError        FutureWarning             GeneratorExit             \n",
      "IOError                   ImportError               ImportWarning             IndentationError          \n",
      "IndexError                InterruptedError          IsADirectoryError         KeyError                  \n",
      "KeyboardInterrupt         LookupError               MemoryError               ModuleNotFoundError       \n",
      "NameError                 None                      NotADirectoryError        NotImplemented            \n",
      "NotImplementedError       OSError                   OverflowError             PendingDeprecationWarning \n",
      "PermissionError           ProcessLookupError        RecursionError            ReferenceError            \n",
      "ResourceWarning           RuntimeError              RuntimeWarning            StopAsyncIteration        \n",
      "StopIteration             SyntaxError               SyntaxWarning             SystemError               \n",
      "SystemExit                TabError                  TimeoutError              True                      \n",
      "TypeError                 UnboundLocalError         UnicodeDecodeError        UnicodeEncodeError        \n",
      "UnicodeError              UnicodeTranslateError     UnicodeWarning            UserWarning               \n",
      "ValueError                Warning                   ZeroDivisionError         __IPYTHON__               \n",
      "__build_class__           __debug__                 __doc__                   __import__                \n",
      "__loader__                __name__                  __package__               __spec__                  \n",
      "abs                       all                       any                       ascii                     \n",
      "bin                       bool                      breakpoint                bytearray                 \n",
      "bytes                     callable                  chr                       classmethod               \n",
      "compile                   complex                   copyright                 credits                   \n",
      "delattr                   dict                      dir                       display                   \n",
      "divmod                    enumerate                 eval                      exec                      \n",
      "filter                    float                     format                    frozenset                 \n",
      "get_ipython               getattr                   globals                   hasattr                   \n",
      "hash                      help                      hex                       id                        \n",
      "input                     int                       isinstance                issubclass                \n",
      "iter                      len                       license                   list                      \n",
      "locals                    map                       max                       memoryview                \n",
      "min                       next                      object                    oct                       \n",
      "open                      ord                       pow                       print                     \n",
      "property                  range                     repr                      reversed                  \n",
      "round                     set                       setattr                   slice                     \n",
      "sorted                    staticmethod              str                       sum                       \n",
      "super                     tuple                     type                      vars                      \n",
      "zip                       \n"
     ]
    }
   ],
   "source": [
    "import builtins\n",
    "seq = list(dir(builtins))\n",
    "seq.sort()\n",
    "max_len = len(max(seq, key=len))\n",
    "chunks = [seq[pos:pos + 4] for pos in range(0, len(seq), 4)]\n",
    "for chunk in chunks:\n",
    "    print(\"\".join([item.ljust(max_len + 1) for item in chunk]))"
   ]
  },
  {
   "cell_type": "markdown",
   "metadata": {
    "slideshow": {
     "slide_type": "slide"
    }
   },
   "source": [
    "### Zuweisungs- und Vergleichsoperator\n",
    "Die meisten Programmiersprachen unterscheiden zwischen"
   ]
  },
  {
   "cell_type": "markdown",
   "metadata": {
    "cell_style": "split",
    "slideshow": {
     "slide_type": "-"
    }
   },
   "source": [
    "- **Zuweisung** (\"a soll den Wert 5 erhalten\")\n",
    "und\n",
    "- **Vergleich** (\"Entspricht a dem Wert 5?\")\n",
    "von Werten und Ausdrücken."
   ]
  },
  {
   "cell_type": "code",
   "execution_count": 3,
   "metadata": {
    "cell_style": "split",
    "slideshow": {
     "slide_type": "fragment"
    }
   },
   "outputs": [
    {
     "name": "stdout",
     "output_type": "stream",
     "text": [
      "True\n"
     ]
    }
   ],
   "source": [
    "# Python\n",
    "\n",
    "# Zuweisung\n",
    "a = 5\n",
    "# Vergleich \n",
    "# Entspricht a dem Wert 5?\n",
    "print(a == 5)"
   ]
  },
  {
   "cell_type": "markdown",
   "metadata": {
    "slideshow": {
     "slide_type": "slide"
    }
   },
   "source": [
    "## Stil und Formatierung\n",
    "### Namen\n",
    "Namen für Werte (in anderen Programmiersprachen \"Variablen\") sollten aussagekräftig und ohne Umlaute gewählt werden.\n",
    "```python\n",
    "dauer = 5\n",
    "zins = 0.01```"
   ]
  },
  {
   "cell_type": "markdown",
   "metadata": {
    "slideshow": {
     "slide_type": "slide"
    }
   },
   "source": [
    "Wenn der Name aus mehreren Wörtern besteht, <font color=red>werden diese durch einen Unterstrich (\\_)</font> verbunden:\n",
    "```python\n",
    "dauer_in_jahren = 5```\n",
    "\n",
    "Variablennamen sollten stets in **Kleinbuchstaben** sein."
   ]
  },
  {
   "cell_type": "markdown",
   "metadata": {
    "slideshow": {
     "slide_type": "fragment"
    }
   },
   "source": [
    "Für Konstanten verwendet man dagegen Namen in Großbuchstaben:\n",
    "```python\n",
    "PI = 3.1415\n",
    "ABSOLUTER_NULLPUNKT = -273.15 # Grad Celsius```"
   ]
  },
  {
   "cell_type": "markdown",
   "metadata": {
    "slideshow": {
     "slide_type": "slide"
    }
   },
   "source": [
    "### Leerzeichen\n",
    "Vor und nach Operanden wie + oder - gehört jeweils ein Leerzeichen:\n",
    "```python\n",
    "zins = 1 + 0.02\n",
    "```\n",
    "\n",
    "Unnötige Einrückungen sind nicht erlaubt:\n",
    "\n",
    "```python\n",
    "zins = 1 + 0.02\n",
    "    zinseszins = guthaben * (1 + zins)**4```\n",
    "<font color=red>----^^^^</font>"
   ]
  },
  {
   "cell_type": "markdown",
   "metadata": {
    "slideshow": {
     "slide_type": "slide"
    }
   },
   "source": [
    "**Stilistische Konventionen**\n",
    "\n",
    "- Keine sonstigen unnötigen Leerzeichen, besonders nicht am Zeilenende.\n",
    "- Unnötige Leerzeilen nur sparsam verwenden.\n",
    "- Es gibt noch weitere stilistische Konventionen:\n",
    "    - [PEP 8](https://www.python.org/dev/peps/pep-0008/)\n",
    "    - [Google Python Styleguide](http://google.github.io/styleguide/pyguide.html)"
   ]
  },
  {
   "cell_type": "markdown",
   "metadata": {
    "slideshow": {
     "slide_type": "slide"
    }
   },
   "source": [
    "## Grundlegende Datenstrukturen\n",
    "\n",
    "- Alles in Python ist genaugenommen ein Objekt - jeder Wert, jedes Unterprogramm etc. "
   ]
  },
  {
   "cell_type": "markdown",
   "metadata": {
    "slideshow": {
     "slide_type": "fragment"
    }
   },
   "source": [
    "- Alle Objekte, also auch Werte liegen irgendwo im Arbeitsspeicher des Computers."
   ]
  },
  {
   "cell_type": "markdown",
   "metadata": {
    "slideshow": {
     "slide_type": "fragment"
    }
   },
   "source": [
    "- Die Position nennt man die **Adresse**. Sie entspricht der Nummer der Speicherzelle, an der die Daten abgelegt sind, die das Objekt repräsentieren."
   ]
  },
  {
   "cell_type": "markdown",
   "metadata": {
    "slideshow": {
     "slide_type": "slide"
    }
   },
   "source": [
    "### Namen und Objekte\n",
    "#### Alles in Python ist ein Objekt\n",
    "- Objekte können, müssen aber keinen Namen haben.\n",
    "```python\n",
    "print(\"Hallo Welt\")\n",
    "print(42)```\n",
    "- Hier haben die Zeichenfolge \"Hallo Welt\" und die Zahl 42 keinen Namen, sind aber trotzdem Objekte mit einer Adresse."
   ]
  },
  {
   "cell_type": "markdown",
   "metadata": {
    "slideshow": {
     "slide_type": "slide"
    }
   },
   "source": [
    "Die Adresse eines Objektes im Speicher kann man mit der Funktion `id(name)` zeigen:"
   ]
  },
  {
   "cell_type": "code",
   "execution_count": 4,
   "metadata": {
    "slideshow": {
     "slide_type": "fragment"
    }
   },
   "outputs": [
    {
     "name": "stdout",
     "output_type": "stream",
     "text": [
      "<class 'str'> <class 'int'>\n",
      "4579809392 4541229456\n"
     ]
    }
   ],
   "source": [
    "print(type(\"Hallo Welt\"), type(42))\n",
    "print(id(\"Hallo Welt\"), id(42))"
   ]
  },
  {
   "cell_type": "markdown",
   "metadata": {
    "slideshow": {
     "slide_type": "fragment"
    }
   },
   "source": [
    "- `str` und `int` sind die Typen der Objekte\n",
    "- str/String = Zeichenkette und int/Integer = Ganzzahl\n",
    "- Die Zahlen darunter sind die Adressen des Objektes."
   ]
  },
  {
   "cell_type": "markdown",
   "metadata": {
    "slideshow": {
     "slide_type": "slide"
    }
   },
   "source": [
    "#### Objekte _können_ Namen haben"
   ]
  },
  {
   "cell_type": "code",
   "execution_count": 5,
   "metadata": {},
   "outputs": [],
   "source": [
    "mein_text = \"Hallo Welt\"\n",
    "meine_zahl = 42"
   ]
  },
  {
   "cell_type": "markdown",
   "metadata": {
    "slideshow": {
     "slide_type": "fragment"
    }
   },
   "source": [
    "Diese Namen verweisen auf die **Adresse** des Objektes:"
   ]
  },
  {
   "cell_type": "code",
   "execution_count": 117,
   "metadata": {
    "slideshow": {
     "slide_type": "fragment"
    }
   },
   "outputs": [
    {
     "name": "stdout",
     "output_type": "stream",
     "text": [
      "4579625328\n",
      "4541229456\n"
     ]
    }
   ],
   "source": [
    "print(id(mein_text))\n",
    "print(id(meine_zahl))"
   ]
  },
  {
   "cell_type": "markdown",
   "metadata": {
    "slideshow": {
     "slide_type": "slide"
    }
   },
   "source": [
    "Das ist ein wesentlicher Unterschied zu anderen Programmiersprachen.\n",
    "In Python führt eine Anweisung wie\n",
    "```python\n",
    "variable = 1234```\n",
    "nicht dazu, dass eine Variable ***erzeugt*** wird, die mit dem Wert 1234 ***initial gefüllt*** wird."
   ]
  },
  {
   "cell_type": "markdown",
   "metadata": {
    "slideshow": {
     "slide_type": "slide"
    }
   },
   "source": [
    "Stattdessen wird geprüft, ob es das Objekt der Zahl 1234 schon gibt. Falls nicht, wird eines im Speicher erzeugt. \n",
    "Dann wird die Adresse dieses Objektes als Verweis dem Namen `variable` zugewiesen, also damit verbunden.\n",
    "\n",
    "Der Name `variable` wird also mit dem Objekt/Wert verbunden.\n",
    "\n",
    "[\\[vgl. Fredrik Lundh: Call by Object\\]](http://effbot.org/zone/call-by-object.htm)"
   ]
  },
  {
   "cell_type": "markdown",
   "metadata": {
    "slideshow": {
     "slide_type": "slide"
    }
   },
   "source": [
    "Mehrere Anweisungen wie\n",
    "```python\n",
    "zahl_1 = 42\n",
    "zahl_2 = 42\n",
    "zahl_3 = 42\n",
    "```\n",
    "führen daher nicht dazu, dass drei Variablen erzeugt werden, \n",
    "sondern dass drei Namen definiert werden, über die man die Ganzzahl 42 ansprechen kann."
   ]
  },
  {
   "cell_type": "markdown",
   "metadata": {
    "slideshow": {
     "slide_type": "slide"
    }
   },
   "source": [
    "#### Mehrfachzuweisung\n",
    "Man kann übrigens auch in einer Anweisung mehrere Namen für ein Objekt definieren:"
   ]
  },
  {
   "cell_type": "code",
   "execution_count": 7,
   "metadata": {},
   "outputs": [],
   "source": [
    "a = b = c = 3"
   ]
  },
  {
   "cell_type": "markdown",
   "metadata": {
    "slideshow": {
     "slide_type": "fragment"
    }
   },
   "source": [
    "**Verständnischeck:**\n",
    "Wenn wir nun \n",
    "```python\n",
    "b = 4```\n",
    "ausführen, was passiert?"
   ]
  },
  {
   "cell_type": "code",
   "execution_count": 8,
   "metadata": {
    "slideshow": {
     "slide_type": "slide"
    }
   },
   "outputs": [
    {
     "name": "stdout",
     "output_type": "stream",
     "text": [
      "3 3 3\n",
      "3 4 3\n"
     ]
    }
   ],
   "source": [
    "a = b = c = 3\n",
    "print(a, b, c)\n",
    "b = 4\n",
    "print(a, b, c)\n"
   ]
  },
  {
   "cell_type": "markdown",
   "metadata": {},
   "source": [
    "Nur der Wert von `b` ändert sich, weil die Verweise der anderen Namen nicht berührt werden."
   ]
  },
  {
   "cell_type": "markdown",
   "metadata": {
    "slideshow": {
     "slide_type": "slide"
    }
   },
   "source": [
    "### Mutable und Immutable Objects\n",
    "Es gibt in Python Objekte, \n",
    "- die man verändern kann (**\"Mutable Objects\"**), und \n",
    "- solche, die unveränderlich sind (**\"Immutable Objects\"**). \n",
    "\n",
    "Zahlen und Zeichenketten sind unveränderlich."
   ]
  },
  {
   "cell_type": "markdown",
   "metadata": {
    "slideshow": {
     "slide_type": "slide"
    }
   },
   "source": [
    "Das heißt aber nicht, dass man den Wert von Variablen dieser Typen nicht ändern könnte:"
   ]
  },
  {
   "cell_type": "code",
   "execution_count": 9,
   "metadata": {
    "cell_style": "split",
    "slideshow": {
     "slide_type": "fragment"
    }
   },
   "outputs": [
    {
     "name": "stdout",
     "output_type": "stream",
     "text": [
      "Uni\n",
      "FH\n"
     ]
    }
   ],
   "source": [
    "text = \"Uni\"\n",
    "print(text)\n",
    "text = \"FH\"\n",
    "print(text)"
   ]
  },
  {
   "cell_type": "code",
   "execution_count": 10,
   "metadata": {
    "cell_style": "split",
    "slideshow": {
     "slide_type": "fragment"
    }
   },
   "outputs": [
    {
     "name": "stdout",
     "output_type": "stream",
     "text": [
      "1\n",
      "2\n"
     ]
    }
   ],
   "source": [
    "zahl = 1\n",
    "print(zahl)\n",
    "zahl = zahl + 1\n",
    "print(zahl)"
   ]
  },
  {
   "cell_type": "markdown",
   "metadata": {
    "slideshow": {
     "slide_type": "fragment"
    }
   },
   "source": [
    "Hier wird jeweils nicht Variable mit einem neuen Wert überschrieben, sondern der neue Wert als neues Objekt erzeugt und der Name mit der Adresse des neuen Objektes verbunden."
   ]
  },
  {
   "cell_type": "markdown",
   "metadata": {
    "slideshow": {
     "slide_type": "slide"
    }
   },
   "source": [
    "### Ausgabe mit *print*\n",
    "Man kann den Wert jeder Variable und jeden mathematischen Ausdruck mit dem Befehl `print(<ausdruck>)` auf dem Bildschirm anzeigen lassen:"
   ]
  },
  {
   "cell_type": "code",
   "execution_count": 11,
   "metadata": {
    "slideshow": {
     "slide_type": "fragment"
    }
   },
   "outputs": [
    {
     "name": "stdout",
     "output_type": "stream",
     "text": [
      "5\n",
      "Hallo\n"
     ]
    }
   ],
   "source": [
    "print(1 + 4)\n",
    "print('Hallo')"
   ]
  },
  {
   "cell_type": "code",
   "execution_count": 12,
   "metadata": {},
   "outputs": [
    {
     "name": "stdout",
     "output_type": "stream",
     "text": [
      "1 15 Hallo 10.3\n"
     ]
    }
   ],
   "source": [
    "# Mehrere Werte durch Kommata getrennt\n",
    "print(1, 5 * 3, 'Hallo', 10.3)"
   ]
  },
  {
   "cell_type": "markdown",
   "metadata": {
    "slideshow": {
     "slide_type": "slide"
    }
   },
   "source": [
    "### Numerische Werte\n",
    "Numerische Werte, wie\n",
    "- Zahlen wie 5 oder -1.23\n",
    "- Mathematische Konstanten wie $\\pi$ oder $e$\n",
    "- Unendlich ($\\infty/-\\infty$) und Not-a-Number\n",
    "sind die häufigsten Arten von Objekten in den meisten Programmen."
   ]
  },
  {
   "cell_type": "markdown",
   "metadata": {
    "slideshow": {
     "slide_type": "slide"
    }
   },
   "source": [
    "#### Ganze Zahlen\n",
    "Ganze Zahlen werden in Python durch den Datentyp `int`repräsentiert und können beliebig große Werte annehmen (vgl. [Numeric Types — int, float, complex](https://docs.python.org/3/library/stdtypes.html#typesnumeric))."
   ]
  },
  {
   "cell_type": "code",
   "execution_count": 13,
   "metadata": {
    "slideshow": {
     "slide_type": "-"
    }
   },
   "outputs": [],
   "source": [
    "a = 15\n",
    "b = -7\n",
    "c = 240"
   ]
  },
  {
   "cell_type": "markdown",
   "metadata": {
    "slideshow": {
     "slide_type": "slide"
    }
   },
   "source": [
    "Man kann auch eine andere Basis als 10 wählen und dadurch elegant **Binärzahlen** und **Hexadezimalzahlen** erzeugen:"
   ]
  },
  {
   "cell_type": "code",
   "execution_count": 14,
   "metadata": {},
   "outputs": [
    {
     "name": "stdout",
     "output_type": "stream",
     "text": [
      "15 240\n"
     ]
    }
   ],
   "source": [
    "# Binärzahlen\n",
    "a = 0b00001111\n",
    "# Hexadezimalzahlen\n",
    "c = 0xF0\n",
    "print(a, c)"
   ]
  },
  {
   "cell_type": "markdown",
   "metadata": {
    "slideshow": {
     "slide_type": "slide"
    }
   },
   "source": [
    "#### Gleitkommazahlen\n",
    "Wenn ein übergebener Wert einen Dezimalpunkt oder einen Exponenten enthält, wird daraus in Python ein Objekt vom Typ `float` erzeugt. "
   ]
  },
  {
   "cell_type": "code",
   "execution_count": 118,
   "metadata": {
    "cell_style": "split",
    "slideshow": {
     "slide_type": "-"
    }
   },
   "outputs": [
    {
     "name": "stdout",
     "output_type": "stream",
     "text": [
      "0.3333333333333333\n",
      "1.0\n"
     ]
    }
   ],
   "source": [
    "wert_1 = float(1/3)\n",
    "print(wert_1)\n",
    "print(wert_1 * 3)"
   ]
  },
  {
   "cell_type": "code",
   "execution_count": 120,
   "metadata": {
    "cell_style": "split",
    "slideshow": {
     "slide_type": "fragment"
    }
   },
   "outputs": [
    {
     "name": "stdout",
     "output_type": "stream",
     "text": [
      "0.9999999999999998\n"
     ]
    }
   ],
   "source": [
    "# Achtung, Genauigkeitprobleme!\n",
    "wert_2 = wert_1 / 10000\n",
    "print((wert_2 * 10000 * 3))"
   ]
  },
  {
   "cell_type": "markdown",
   "metadata": {
    "slideshow": {
     "slide_type": "slide"
    }
   },
   "source": [
    "Bei einem Python-Objekt vom typ `float` handelt es sich auf fast jedem Computersystem um eine Gleitkommazahl mit 64 Bit. "
   ]
  },
  {
   "cell_type": "markdown",
   "metadata": {
    "slideshow": {
     "slide_type": "fragment"
    }
   },
   "source": [
    "Die Genauigkeit und der Wertebereich entsprechen daher dem, was in anderen Programmiersprachen der Typ `double` bietet."
   ]
  },
  {
   "cell_type": "markdown",
   "metadata": {
    "slideshow": {
     "slide_type": "slide"
    }
   },
   "source": [
    "Man muss dazu wissen, das Python in den neueren Versionen versucht, die Beschränkungen von Gleitkommazahlen bei der Ausgabe duch geschickte Rundungsregeln zu verbergern. So wird $1/3$ intern als eine Gleitkommazahl mit einer begrenzten Anzahl an Stellen gespeichert.\n",
    "\n",
    "Zu den Beschränkungen und Fehlerquellen beim Rechnen mit Gleitkommazahlen vgl. [Floating Point Arithmetic: Issues and Limitations](https://docs.python.org/3/tutorial/floatingpoint.html)."
   ]
  },
  {
   "cell_type": "markdown",
   "metadata": {
    "slideshow": {
     "slide_type": "slide"
    }
   },
   "source": [
    "#### Dezimalzahlen\n",
    "Wenn es wichtig ist, dass Zahlen genau in der gegebenen Genauigkeit gespeichert und verarbeitet werden, sind Dezimalzahlen mit einer festen Stellenzahl besser geeignet.\n",
    "\n",
    "Dies betrifft insbesondere Geldbeträge.\n",
    "\n",
    "Weitere Informationen: https://docs.python.org/3/library/decimal.html"
   ]
  },
  {
   "cell_type": "markdown",
   "metadata": {
    "slideshow": {
     "slide_type": "slide"
    }
   },
   "source": [
    "#### Unendlich ($\\infty$)\n",
    "Der Wert unendlich kann in Python auf zwei Wegen verwendet werden:"
   ]
  },
  {
   "cell_type": "code",
   "execution_count": null,
   "metadata": {
    "slideshow": {
     "slide_type": "-"
    }
   },
   "outputs": [],
   "source": [
    "positive_infinity = float('inf')\n",
    "negative_infinity = float('-inf')"
   ]
  },
  {
   "cell_type": "code",
   "execution_count": null,
   "metadata": {
    "slideshow": {
     "slide_type": "fragment"
    }
   },
   "outputs": [],
   "source": [
    "import math\n",
    "positive_infinity_2 = math.inf\n",
    "negative_infinity2 = -math.inf"
   ]
  },
  {
   "cell_type": "markdown",
   "metadata": {
    "slideshow": {
     "slide_type": "slide"
    }
   },
   "source": [
    "#### Not-a-Number (NaN)\n",
    "Es gibt Operationen, bei denen sich das Ergebnis nicht als reelle Zahl abspeichern lässt. Ferner kann bei der Verarbeitung eigentlich numerischer Werte durch Datenqualitätsprobleme der Fall eintreten, dass einzelne Werte keine Zahlen sind.\n",
    "Für diesen Fall gibt es einen besonderen Wert, der sich **NaN** für \"Not a number\" nennt.\n",
    "Beispiele:\n",
    "- ${\\infty}/{\\infty}$\n",
    "- Quadratwurzel aus negativen Werten"
   ]
  },
  {
   "cell_type": "code",
   "execution_count": null,
   "metadata": {
    "slideshow": {
     "slide_type": "slide"
    }
   },
   "outputs": [],
   "source": [
    "not_a_number = float('NaN')\n",
    "print(100 * not_a_number)"
   ]
  },
  {
   "cell_type": "markdown",
   "metadata": {
    "slideshow": {
     "slide_type": "fragment"
    }
   },
   "source": [
    "Der wesentliche Nutzen dieses Wertes besteht darin, dass man die Ungültigkeit einer Berechnung erkennen kann."
   ]
  },
  {
   "cell_type": "markdown",
   "metadata": {
    "slideshow": {
     "slide_type": "slide"
    }
   },
   "source": [
    "### Mathematische Operationen"
   ]
  },
  {
   "cell_type": "markdown",
   "metadata": {
    "slideshow": {
     "slide_type": "slide"
    }
   },
   "source": [
    "#### Arithmetische Operationen"
   ]
  },
  {
   "cell_type": "code",
   "execution_count": 17,
   "metadata": {
    "slideshow": {
     "slide_type": "-"
    }
   },
   "outputs": [],
   "source": [
    "a = 1\n",
    "b = 2 \n",
    "c = 3"
   ]
  },
  {
   "cell_type": "code",
   "execution_count": 18,
   "metadata": {
    "slideshow": {
     "slide_type": "-"
    }
   },
   "outputs": [
    {
     "name": "stdout",
     "output_type": "stream",
     "text": [
      "3\n"
     ]
    }
   ],
   "source": [
    "# Grundrechenarten\n",
    "d = a + b\n",
    "print(d)"
   ]
  },
  {
   "cell_type": "code",
   "execution_count": 19,
   "metadata": {
    "slideshow": {
     "slide_type": "slide"
    }
   },
   "outputs": [
    {
     "name": "stdout",
     "output_type": "stream",
     "text": [
      "2\n"
     ]
    }
   ],
   "source": [
    "e = c - a\n",
    "print(e)"
   ]
  },
  {
   "cell_type": "code",
   "execution_count": 20,
   "metadata": {
    "slideshow": {
     "slide_type": "fragment"
    }
   },
   "outputs": [
    {
     "name": "stdout",
     "output_type": "stream",
     "text": [
      "4\n"
     ]
    }
   ],
   "source": [
    "f = b * e\n",
    "print(f)"
   ]
  },
  {
   "cell_type": "code",
   "execution_count": 21,
   "metadata": {
    "slideshow": {
     "slide_type": "slide"
    }
   },
   "outputs": [
    {
     "name": "stdout",
     "output_type": "stream",
     "text": [
      "2.0\n"
     ]
    }
   ],
   "source": [
    "g = f / b\n",
    "print(g)"
   ]
  },
  {
   "cell_type": "markdown",
   "metadata": {
    "slideshow": {
     "slide_type": "fragment"
    }
   },
   "source": [
    "**Achtung:** Seit Python 3.0 ist die Standard-Division eine Gleitkommadivision, 5 / 2 ist also 2.5. In früheren Versionen wurde wurde standardmäßig eine ganzzahlige Division durchgeführt, also 5/2 = 2 (Rest 1)."
   ]
  },
  {
   "cell_type": "markdown",
   "metadata": {
    "slideshow": {
     "slide_type": "slide"
    }
   },
   "source": [
    "#### Potenz\n",
    "$x^y$ in Python als `x**y`\n"
   ]
  },
  {
   "cell_type": "code",
   "execution_count": 22,
   "metadata": {
    "slideshow": {
     "slide_type": "-"
    }
   },
   "outputs": [
    {
     "name": "stdout",
     "output_type": "stream",
     "text": [
      "128\n"
     ]
    }
   ],
   "source": [
    "# Potenzfunktionen\n",
    "h = 2**7  # 2^7 = 128\n",
    "print(h)\n"
   ]
  },
  {
   "cell_type": "markdown",
   "metadata": {
    "slideshow": {
     "slide_type": "slide"
    }
   },
   "source": [
    "#### Wurzel\n",
    "Direkt in Python gibt es keine Funktion für die Quadratwurzel, weil man dies einfach als Potenzfunktion mit einem Bruch als Exponenten ausdrücken kann:\n",
    "$\\sqrt{x} = x^\\frac{1}{2}$"
   ]
  },
  {
   "cell_type": "code",
   "execution_count": 23,
   "metadata": {},
   "outputs": [
    {
     "name": "stdout",
     "output_type": "stream",
     "text": [
      "4.0\n",
      "4.0\n"
     ]
    }
   ],
   "source": [
    "# Quadratwurzel\n",
    "a = 16\n",
    "print(a**(1/2))\n",
    "print(a**0.5)"
   ]
  },
  {
   "cell_type": "code",
   "execution_count": 24,
   "metadata": {
    "slideshow": {
     "slide_type": "slide"
    }
   },
   "outputs": [
    {
     "name": "stdout",
     "output_type": "stream",
     "text": [
      "4.0\n"
     ]
    }
   ],
   "source": [
    "# Es gibt auch ein spezielles Modul math mit zusätzlichen mathematischen Methoden\n",
    "import math\n",
    "a = 16\n",
    "print(math.sqrt(a))"
   ]
  },
  {
   "cell_type": "markdown",
   "metadata": {
    "slideshow": {
     "slide_type": "slide"
    }
   },
   "source": [
    "#### Ganzzahlige Division"
   ]
  },
  {
   "cell_type": "code",
   "execution_count": 25,
   "metadata": {},
   "outputs": [
    {
     "name": "stdout",
     "output_type": "stream",
     "text": [
      "2\n"
     ]
    }
   ],
   "source": [
    "a = 5\n",
    "b = 2\n",
    "print(a // b)"
   ]
  },
  {
   "cell_type": "markdown",
   "metadata": {
    "slideshow": {
     "slide_type": "slide"
    }
   },
   "source": [
    "#### Divisionsrest (modulo)\n",
    "- **Tip 1:** Nützlich, um zu prüfen, ob eine Zahl gerade ist.\n",
    "- **Tip 2:** Auch nützlich, wenn man den Wertebereich einer Zahl begrenzen will."
   ]
  },
  {
   "cell_type": "code",
   "execution_count": 26,
   "metadata": {},
   "outputs": [
    {
     "name": "stdout",
     "output_type": "stream",
     "text": [
      "1\n"
     ]
    }
   ],
   "source": [
    "# Modulo / Divisionsrest\n",
    "print(a % b)"
   ]
  },
  {
   "cell_type": "markdown",
   "metadata": {
    "slideshow": {
     "slide_type": "slide"
    }
   },
   "source": [
    "### Umwandlung des Datentyps numerischer Werte"
   ]
  },
  {
   "cell_type": "code",
   "execution_count": 27,
   "metadata": {
    "cell_style": "split"
   },
   "outputs": [
    {
     "name": "stdout",
     "output_type": "stream",
     "text": [
      "3\n",
      "3\n",
      "3\n"
     ]
    }
   ],
   "source": [
    "# float als int\n",
    "# Was passiert?\n",
    "print(int(3.1))\n",
    "print(int(3.5))\n",
    "print(int(3.8))"
   ]
  },
  {
   "cell_type": "code",
   "execution_count": 28,
   "metadata": {
    "cell_style": "split",
    "slideshow": {
     "slide_type": "fragment"
    }
   },
   "outputs": [
    {
     "name": "stdout",
     "output_type": "stream",
     "text": [
      "7.0\n"
     ]
    }
   ],
   "source": [
    "# int als float\n",
    "print(float(7))"
   ]
  },
  {
   "cell_type": "code",
   "execution_count": 29,
   "metadata": {
    "cell_style": "center",
    "slideshow": {
     "slide_type": "slide"
    }
   },
   "outputs": [
    {
     "name": "stdout",
     "output_type": "stream",
     "text": [
      "0b11111111\n"
     ]
    }
   ],
   "source": [
    "# int als Binärzahl\n",
    "print(bin(255))"
   ]
  },
  {
   "cell_type": "code",
   "execution_count": 30,
   "metadata": {
    "cell_style": "center",
    "slideshow": {
     "slide_type": "fragment"
    }
   },
   "outputs": [
    {
     "name": "stdout",
     "output_type": "stream",
     "text": [
      "0xff\n"
     ]
    }
   ],
   "source": [
    "# int als Hexadezimalzahl\n",
    "print(hex(255))"
   ]
  },
  {
   "cell_type": "markdown",
   "metadata": {
    "slideshow": {
     "slide_type": "slide"
    }
   },
   "source": [
    "### Rundung"
   ]
  },
  {
   "cell_type": "code",
   "execution_count": 31,
   "metadata": {},
   "outputs": [
    {
     "name": "stdout",
     "output_type": "stream",
     "text": [
      "4\n"
     ]
    }
   ],
   "source": [
    "# Runden\n",
    "# round(value[, n])\n",
    "print(round(3.5))"
   ]
  },
  {
   "cell_type": "markdown",
   "metadata": {
    "slideshow": {
     "slide_type": "fragment"
    }
   },
   "source": [
    "Der optionale zweite Parameter gibt an, wieviele Nachkommastellen gewünscht werden:"
   ]
  },
  {
   "cell_type": "code",
   "execution_count": 32,
   "metadata": {
    "slideshow": {
     "slide_type": "fragment"
    }
   },
   "outputs": [
    {
     "name": "stdout",
     "output_type": "stream",
     "text": [
      "3.142\n"
     ]
    }
   ],
   "source": [
    "# Wir runden Pi auf drei Stellen nach dem Komma\n",
    "print(round(3.1415926, 3))"
   ]
  },
  {
   "cell_type": "markdown",
   "metadata": {
    "slideshow": {
     "slide_type": "slide"
    }
   },
   "source": [
    "### Wahrheitswerte (Boolesche Werte)\n",
    "Ähnlich wie wir in der elementaren Algebra mit Zahlen arbeiten, kann man in der sogenannten Booleschen Algebra mit den Wahrheitswerten `wahr(true)` und `unwahr(false)` arbeiten. \n",
    "Als Operatoren stehen uns **AND** (Konjunktion), **OR** (Disjunktion), **XOR** (Kontravalenz) und **NOT** (Negation) zur Verfügung. "
   ]
  },
  {
   "cell_type": "markdown",
   "metadata": {
    "slideshow": {
     "slide_type": "slide"
    }
   },
   "source": [
    "Zwei (oder mehr) Boolesche Werte kann man mit den Operatoren AND, OR oder XOR verknüpfen.\n",
    "Mit NOT kann man einen Booleschen Wert invertieren:\n",
    "\n",
    "|a|b|a AND b|a OR b|NOT a|a XOR b|\n",
    "|:---:|:---:|:-------:|:------:|:-----:|:-------:|\n",
    "|False|False|False|False|True|False|\n",
    "|True|False|False|True|False|True|\n",
    "|False|True|False|True|True|True|\n",
    "|True|True|True|True|False|False|\n",
    "\n",
    "Praktisch relevant ist dies z.B. bei Suchmaschinen \n",
    "\n",
    "`\"finde alle Bücher, die entweder 'Informatik' oder 'BWL' im Titel enthalten\"`\n",
    "\n",
    "und bei Bedingungen in Geschäftsprozessen \n",
    "\n",
    "`\"Kreditkarte_gültig AND Produkt_lieferbar\"`."
   ]
  },
  {
   "cell_type": "markdown",
   "metadata": {
    "slideshow": {
     "slide_type": "slide"
    }
   },
   "source": [
    "#### Boolesche Werte und Operatoren in Python"
   ]
  },
  {
   "cell_type": "code",
   "execution_count": 33,
   "metadata": {},
   "outputs": [],
   "source": [
    "# Wahr und Falsch sind vordefinierte Werte\n",
    "# Achtung: Schreibweise!\n",
    "a = True\n",
    "b = False"
   ]
  },
  {
   "cell_type": "code",
   "execution_count": 34,
   "metadata": {
    "slideshow": {
     "slide_type": "fragment"
    }
   },
   "outputs": [
    {
     "name": "stdout",
     "output_type": "stream",
     "text": [
      "False\n",
      "True\n",
      "False\n",
      "True\n"
     ]
    }
   ],
   "source": [
    "# Logische Operatoren\n",
    "print(a and b)\n",
    "print(a or b)\n",
    "print(not a)\n",
    "print(bool(a) ^ bool(b))"
   ]
  },
  {
   "cell_type": "markdown",
   "metadata": {
    "slideshow": {
     "slide_type": "slide"
    }
   },
   "source": [
    "#### Boolesche Werte lassen sich in Ganzzahlen umwandeln"
   ]
  },
  {
   "cell_type": "code",
   "execution_count": 35,
   "metadata": {},
   "outputs": [
    {
     "name": "stdout",
     "output_type": "stream",
     "text": [
      "1\n",
      "0\n"
     ]
    }
   ],
   "source": [
    "print(int(True))\n",
    "print(int(False))"
   ]
  },
  {
   "cell_type": "code",
   "execution_count": 36,
   "metadata": {
    "slideshow": {
     "slide_type": "fragment"
    }
   },
   "outputs": [
    {
     "name": "stdout",
     "output_type": "stream",
     "text": [
      "140.95\n"
     ]
    }
   ],
   "source": [
    "# Ziemlich nützlich bei Berechnungen\n",
    "versandkostenpflichtig = True\n",
    "versandkosten = 5.95\n",
    "nettobetrag = 135.00\n",
    "bruttobetrag = nettobetrag + versandkosten * versandkostenpflichtig\n",
    "print(bruttobetrag)"
   ]
  },
  {
   "cell_type": "markdown",
   "metadata": {
    "slideshow": {
     "slide_type": "slide"
    }
   },
   "source": [
    "### Vergleichsoperatoren\n",
    "In einem Programm muss man oft den Wert von Objekten vergleichen, z.B. den Lagerbestand mit einer Mindestmenge. Dazu gibt es sogenannte **Vergleichsoperatoren**. Das Ergebnis ist immer ein Boolescher Wert, also `True` oder `False`. "
   ]
  },
  {
   "cell_type": "code",
   "execution_count": 37,
   "metadata": {
    "slideshow": {
     "slide_type": "slide"
    }
   },
   "outputs": [],
   "source": [
    "a = 90\n",
    "b = 60\n",
    "c = 60"
   ]
  },
  {
   "cell_type": "code",
   "execution_count": 38,
   "metadata": {
    "slideshow": {
     "slide_type": "fragment"
    }
   },
   "outputs": [
    {
     "name": "stdout",
     "output_type": "stream",
     "text": [
      "False\n"
     ]
    }
   ],
   "source": [
    "print(a < b)"
   ]
  },
  {
   "cell_type": "code",
   "execution_count": 39,
   "metadata": {
    "slideshow": {
     "slide_type": "slide"
    }
   },
   "outputs": [
    {
     "name": "stdout",
     "output_type": "stream",
     "text": [
      "True\n"
     ]
    }
   ],
   "source": [
    "print(a > b)"
   ]
  },
  {
   "cell_type": "code",
   "execution_count": 40,
   "metadata": {
    "slideshow": {
     "slide_type": "fragment"
    }
   },
   "outputs": [
    {
     "name": "stdout",
     "output_type": "stream",
     "text": [
      "False\n"
     ]
    }
   ],
   "source": [
    "print(a < a)"
   ]
  },
  {
   "cell_type": "code",
   "execution_count": 41,
   "metadata": {
    "slideshow": {
     "slide_type": "slide"
    }
   },
   "outputs": [
    {
     "name": "stdout",
     "output_type": "stream",
     "text": [
      "True\n"
     ]
    }
   ],
   "source": [
    "print(a <= a)"
   ]
  },
  {
   "cell_type": "code",
   "execution_count": 42,
   "metadata": {
    "slideshow": {
     "slide_type": "fragment"
    }
   },
   "outputs": [
    {
     "name": "stdout",
     "output_type": "stream",
     "text": [
      "True\n"
     ]
    }
   ],
   "source": [
    "print(a >= a)"
   ]
  },
  {
   "cell_type": "markdown",
   "metadata": {
    "slideshow": {
     "slide_type": "slide"
    }
   },
   "source": [
    "### Wertevergleich oder Identitätsvergleich?\n",
    "Wenn man Ausdrücke oder Objekte vergleicht, muss man sich überlegen, ob man \n",
    "\n",
    "1. den **Wert** der Ausdrücke vergleichen will, \n",
    "oder \n",
    "2. ob geprüft werden soll, ob es sich um **dasselbe Objekt** handelt.\n",
    "\n",
    "**Wertevergleich mit `a == b`**\n",
    "\n",
    "**Identitäsvergleich mit `a is b`**"
   ]
  },
  {
   "cell_type": "code",
   "execution_count": 43,
   "metadata": {
    "slideshow": {
     "slide_type": "-"
    }
   },
   "outputs": [
    {
     "name": "stdout",
     "output_type": "stream",
     "text": [
      "True\n",
      "True\n"
     ]
    }
   ],
   "source": [
    "# Bei numerischen Ausdrücken gibt es keinen Unterschied:\n",
    "print(3 * 5 == 15)\n",
    "print(3 * 5 is 15)"
   ]
  },
  {
   "cell_type": "code",
   "execution_count": 44,
   "metadata": {
    "slideshow": {
     "slide_type": "slide"
    }
   },
   "outputs": [
    {
     "name": "stdout",
     "output_type": "stream",
     "text": [
      "True\n",
      "True\n"
     ]
    }
   ],
   "source": [
    "# Dito bei Strings \n",
    "a = \"Text\"\n",
    "b = \"Text\"\n",
    "print(a == b)\n",
    "print(a is b)\n",
    "# Warum?"
   ]
  },
  {
   "cell_type": "markdown",
   "metadata": {
    "slideshow": {
     "slide_type": "slide"
    }
   },
   "source": [
    "**Bei änderbaren Objekten (Mutables) sieht es aber anders aus:**"
   ]
  },
  {
   "cell_type": "code",
   "execution_count": 45,
   "metadata": {
    "slideshow": {
     "slide_type": "-"
    }
   },
   "outputs": [
    {
     "name": "stdout",
     "output_type": "stream",
     "text": [
      "True\n",
      "False\n"
     ]
    }
   ],
   "source": [
    "a = [1, 2]\n",
    "b = [1, 2]\n",
    "print(a == b)\n",
    "print(a is b)"
   ]
  },
  {
   "cell_type": "markdown",
   "metadata": {
    "slideshow": {
     "slide_type": "fragment"
    }
   },
   "source": [
    "Das liegt daran, dass änderbare Objekten im Speicher eigene Plätze einnehmen, weil der Computer ja nicht wissen kann, ob sie immer identisch bleiben. "
   ]
  },
  {
   "cell_type": "markdown",
   "metadata": {
    "slideshow": {
     "slide_type": "slide"
    }
   },
   "source": [
    "**Beim Wertevergleich mit == wird automatisch eine Typumwandlung versucht:**"
   ]
  },
  {
   "cell_type": "code",
   "execution_count": 46,
   "metadata": {},
   "outputs": [
    {
     "name": "stdout",
     "output_type": "stream",
     "text": [
      "True\n"
     ]
    }
   ],
   "source": [
    "print(5 == 5.0)"
   ]
  },
  {
   "cell_type": "markdown",
   "metadata": {
    "slideshow": {
     "slide_type": "slide"
    }
   },
   "source": [
    "**Beim Identitätsvergleich sind verschiedene Datentypen verschiedene Objekte, selbst wenn sich ihre Werte umwandeln ließen:**"
   ]
  },
  {
   "cell_type": "code",
   "execution_count": 47,
   "metadata": {
    "cell_style": "split",
    "slideshow": {
     "slide_type": "fragment"
    }
   },
   "outputs": [
    {
     "name": "stdout",
     "output_type": "stream",
     "text": [
      "False\n",
      "False\n"
     ]
    }
   ],
   "source": [
    "print(5 is 5.0)\n",
    "print(True is 1)"
   ]
  },
  {
   "cell_type": "code",
   "execution_count": 48,
   "metadata": {
    "cell_style": "split",
    "slideshow": {
     "slide_type": "fragment"
    }
   },
   "outputs": [
    {
     "name": "stdout",
     "output_type": "stream",
     "text": [
      "True\n",
      "True\n",
      "True\n"
     ]
    }
   ],
   "source": [
    "# Aber:\n",
    "print(5 is int(5.0))\n",
    "print(int(True) is 1)\n",
    "print(True is bool(1))"
   ]
  },
  {
   "cell_type": "markdown",
   "metadata": {
    "slideshow": {
     "slide_type": "slide"
    }
   },
   "source": [
    "### Trigonometrische Funktionen\n",
    "\n",
    "Siehe auch https://docs.python.org/3/library/math.html."
   ]
  },
  {
   "cell_type": "code",
   "execution_count": 49,
   "metadata": {},
   "outputs": [
    {
     "name": "stdout",
     "output_type": "stream",
     "text": [
      "3.141592653589793\n",
      "2.718281828459045\n"
     ]
    }
   ],
   "source": [
    "import math\n",
    "\n",
    "# Pi\n",
    "print(math.pi)\n",
    "# Eulersche Zahl\n",
    "print(math.e)"
   ]
  },
  {
   "cell_type": "code",
   "execution_count": 50,
   "metadata": {
    "slideshow": {
     "slide_type": "slide"
    }
   },
   "outputs": [
    {
     "name": "stdout",
     "output_type": "stream",
     "text": [
      "4.0\n",
      "0.8939966636005579\n",
      "-1.0\n",
      "-1.2246467991473532e-16\n",
      "8.0\n"
     ]
    }
   ],
   "source": [
    "# Quadratwurzel\n",
    "print(math.sqrt(16))\n",
    "# Sinus\n",
    "print(math.sin(90))\n",
    "# Cosinus\n",
    "print(math.cos(math.pi))\n",
    "# Tangens\n",
    "print(math.tan(math.pi))\n",
    "# Log2\n",
    "print(math.log2(256))"
   ]
  },
  {
   "cell_type": "markdown",
   "metadata": {
    "slideshow": {
     "slide_type": "slide"
    }
   },
   "source": [
    "### Komplexe Datentypen\n",
    "Als komplexe Datentypen bezeichnet man solche, die eine adressierbare Struktur an Unterelementen haben."
   ]
  },
  {
   "cell_type": "markdown",
   "metadata": {},
   "source": [
    "- Zeichenketten \n",
    "\n",
    "| 0 | 1 | 2 |\n",
    "| --- | --- | --- |\n",
    "| W | O | W |\n",
    "\n",
    "- Listen\n",
    "- Dictionaries\n",
    "- Tuples\n",
    "uvm."
   ]
  },
  {
   "cell_type": "markdown",
   "metadata": {
    "slideshow": {
     "slide_type": "slide"
    }
   },
   "source": [
    "#### Zeichenketten"
   ]
  },
  {
   "cell_type": "code",
   "execution_count": 51,
   "metadata": {},
   "outputs": [],
   "source": [
    "# Zeichenkette\n",
    "my_string_1 = 'UniBwM'\n",
    "my_string_2 = \"UniBwM\""
   ]
  },
  {
   "cell_type": "code",
   "execution_count": 52,
   "metadata": {},
   "outputs": [],
   "source": [
    "# Die Wahl zwischen einfachen und doppelten Anführungszeichen erlaubt es elegant, \n",
    "# die jeweils andere Form innerhalb der Zeichenkette zu verwenden:\n",
    "my_string_3 = \"Die Abkürzung für unsere Universität lautet 'UniBwM'.\"\n",
    "my_string_3 = 'Die Abkürzung für unsere Universität lautet \"UniBwM\".'"
   ]
  },
  {
   "cell_type": "code",
   "execution_count": 53,
   "metadata": {
    "slideshow": {
     "slide_type": "slide"
    }
   },
   "outputs": [],
   "source": [
    "# Mehrzeilige Zeichenketten erfordern DREI Anführungszeichen:\n",
    "my_long_string_1 = \"\"\"Herr von Ribbeck auf Ribbeck im Havelland,\n",
    "Ein Birnbaum in seinem Garten stand,\n",
    "Und kam die goldene Herbsteszeit,\n",
    "Und die Birnen leuchteten weit und breit,\n",
    "Da stopfte, wenn’s Mittag vom Thurme scholl,\n",
    "Der von Ribbeck sich beide Taschen voll,\n",
    "Und kam in Pantinen ein Junge daher,\n",
    "So rief er: 'Junge, wist’ ne Beer?'\n",
    "Und kam ein Mädel, so rief er: 'Lütt Dirn'\n",
    "Kumm man röwer, ick hebb’ ne Birn.\"\"\""
   ]
  },
  {
   "cell_type": "code",
   "execution_count": 54,
   "metadata": {
    "slideshow": {
     "slide_type": "slide"
    }
   },
   "outputs": [],
   "source": [
    "my_long_string_2 = '''Herr von Ribbeck auf Ribbeck im Havelland,\n",
    "Ein Birnbaum in seinem Garten stand,\n",
    "Und kam die goldene Herbsteszeit,\n",
    "Und die Birnen leuchteten weit und breit,\n",
    "Da stopfte, wenn’s Mittag vom Thurme scholl,\n",
    "Der von Ribbeck sich beide Taschen voll,\n",
    "Und kam in Pantinen ein Junge daher,\n",
    "So rief er: \"Junge, wist’ ne Beer?\"\n",
    "Und kam ein Mädel, so rief er: \"Lütt Dirn\"\n",
    "Kumm man röwer, ick hebb’ ne Birn.'''"
   ]
  },
  {
   "cell_type": "markdown",
   "metadata": {
    "slideshow": {
     "slide_type": "slide"
    }
   },
   "source": [
    "##### Addition von Zeichenketten"
   ]
  },
  {
   "cell_type": "code",
   "execution_count": 55,
   "metadata": {
    "slideshow": {
     "slide_type": "-"
    }
   },
   "outputs": [
    {
     "name": "stdout",
     "output_type": "stream",
     "text": [
      "Ich studiere an der UniBwM\n"
     ]
    }
   ],
   "source": [
    "my_string_1 = \"UniBwM\"\n",
    "print('Ich studiere an der ' + my_string_1)"
   ]
  },
  {
   "cell_type": "markdown",
   "metadata": {
    "slideshow": {
     "slide_type": "slide"
    }
   },
   "source": [
    "##### Multiplikation von Zeichenketten"
   ]
  },
  {
   "cell_type": "code",
   "execution_count": 56,
   "metadata": {
    "slideshow": {
     "slide_type": "-"
    }
   },
   "outputs": [
    {
     "name": "stdout",
     "output_type": "stream",
     "text": [
      "ABCDABCDABCD\n"
     ]
    }
   ],
   "source": [
    "print('ABCD' * 3)"
   ]
  },
  {
   "cell_type": "code",
   "execution_count": 57,
   "metadata": {
    "slideshow": {
     "slide_type": "fragment"
    }
   },
   "outputs": [
    {
     "name": "stdout",
     "output_type": "stream",
     "text": [
      "============================================================\n",
      "Progamm ABCD Version 1.0\n",
      "============================================================\n"
     ]
    }
   ],
   "source": [
    "# Nützlich z.B. für\n",
    "print('=' * 60)\n",
    "print('Progamm ABCD Version 1.0')\n",
    "print('=' * 60)"
   ]
  },
  {
   "cell_type": "markdown",
   "metadata": {
    "slideshow": {
     "slide_type": "slide"
    }
   },
   "source": [
    "**Aber man kann keine Zeichenketten** ***miteinander*** **multiplizieren:**"
   ]
  },
  {
   "cell_type": "code",
   "execution_count": 58,
   "metadata": {},
   "outputs": [
    {
     "ename": "TypeError",
     "evalue": "can't multiply sequence by non-int of type 'str'",
     "output_type": "error",
     "traceback": [
      "\u001b[0;31m---------------------------------------------------------------------------\u001b[0m",
      "\u001b[0;31mTypeError\u001b[0m                                 Traceback (most recent call last)",
      "\u001b[0;32m<ipython-input-58-1f4b1a3739c9>\u001b[0m in \u001b[0;36m<module>\u001b[0;34m\u001b[0m\n\u001b[1;32m      1\u001b[0m \u001b[0mmy_string_test\u001b[0m \u001b[0;34m=\u001b[0m \u001b[0;34m'11'\u001b[0m\u001b[0;34m\u001b[0m\u001b[0;34m\u001b[0m\u001b[0m\n\u001b[1;32m      2\u001b[0m \u001b[0msecond_string\u001b[0m \u001b[0;34m=\u001b[0m \u001b[0;34m'2'\u001b[0m\u001b[0;34m\u001b[0m\u001b[0;34m\u001b[0m\u001b[0m\n\u001b[0;32m----> 3\u001b[0;31m \u001b[0mprint\u001b[0m\u001b[0;34m(\u001b[0m\u001b[0mmy_string_test\u001b[0m \u001b[0;34m*\u001b[0m \u001b[0msecond_string\u001b[0m\u001b[0;34m)\u001b[0m\u001b[0;34m\u001b[0m\u001b[0;34m\u001b[0m\u001b[0m\n\u001b[0m",
      "\u001b[0;31mTypeError\u001b[0m: can't multiply sequence by non-int of type 'str'"
     ]
    }
   ],
   "source": [
    "my_string_test = '11'\n",
    "second_string = '2'\n",
    "print(my_string_test * second_string)"
   ]
  },
  {
   "cell_type": "markdown",
   "metadata": {
    "slideshow": {
     "slide_type": "slide"
    }
   },
   "source": [
    "##### Länge ermitteln"
   ]
  },
  {
   "cell_type": "code",
   "execution_count": 60,
   "metadata": {},
   "outputs": [
    {
     "name": "stdout",
     "output_type": "stream",
     "text": [
      "5\n"
     ]
    }
   ],
   "source": [
    "my_string = \"LOTTO\"\n",
    "print(len(my_string))"
   ]
  },
  {
   "cell_type": "markdown",
   "metadata": {
    "slideshow": {
     "slide_type": "slide"
    }
   },
   "source": [
    "##### Weitere Hilfsfunktionen für Strings"
   ]
  },
  {
   "cell_type": "code",
   "execution_count": 123,
   "metadata": {},
   "outputs": [
    {
     "name": "stdout",
     "output_type": "stream",
     "text": [
      "unibwm ist toll\n",
      "UNIBWM IST TOLL\n",
      "['UniBwM', 'ist', 'toll']\n"
     ]
    }
   ],
   "source": [
    "# https://docs.python.org/3/library/stdtypes.html\n",
    "text = \"UniBwM ist toll\"\n",
    "print(text.lower())\n",
    "print(text.upper())\n",
    "print(text.split(\" \"))"
   ]
  },
  {
   "cell_type": "markdown",
   "metadata": {
    "slideshow": {
     "slide_type": "slide"
    }
   },
   "source": [
    "#### Listen\n",
    "Listen sind komplexe Variablen aus mehreren Unterelementen beliebigen Typs. Die Unterelemente können einzeln adressiert und auch geändert werden."
   ]
  },
  {
   "cell_type": "code",
   "execution_count": 61,
   "metadata": {},
   "outputs": [
    {
     "name": "stdout",
     "output_type": "stream",
     "text": [
      "[1, True, 'UniBwM']\n"
     ]
    }
   ],
   "source": [
    "# Liste\n",
    "my_list = [1, 2, 5, 9]\n",
    "my_list_mixed = [1, True, 'UniBwM']\n",
    "print(my_list_mixed)"
   ]
  },
  {
   "cell_type": "code",
   "execution_count": 62,
   "metadata": {
    "slideshow": {
     "slide_type": "slide"
    }
   },
   "outputs": [
    {
     "name": "stdout",
     "output_type": "stream",
     "text": [
      "1\n",
      "2\n",
      "5\n"
     ]
    }
   ],
   "source": [
    "# Listenelemente können einzeln adressiert werden.\n",
    "# Das erste Element hat den Index 0:\n",
    "print(my_list[0])\n",
    "print(my_list[1])\n",
    "print(my_list[2])"
   ]
  },
  {
   "cell_type": "code",
   "execution_count": 63,
   "metadata": {
    "slideshow": {
     "slide_type": "fragment"
    }
   },
   "outputs": [
    {
     "name": "stdout",
     "output_type": "stream",
     "text": [
      "[1, True, 'LMU München']\n"
     ]
    }
   ],
   "source": [
    "# Sie können auch einzeln geändert werden:\n",
    "my_list_mixed[2] = 'LMU München'\n",
    "print(my_list_mixed)"
   ]
  },
  {
   "cell_type": "code",
   "execution_count": 64,
   "metadata": {
    "slideshow": {
     "slide_type": "slide"
    }
   },
   "outputs": [
    {
     "name": "stdout",
     "output_type": "stream",
     "text": [
      "['two', 'three', 'four', 'five']\n",
      "['one', 'two']\n",
      "['two', 'three']\n",
      "['one', 'two', 'three']\n"
     ]
    }
   ],
   "source": [
    "# Man kann auch Bereiche adressieren:\n",
    "my_list = ['one', 'two', 'three', 'four', 'five']\n",
    "\n",
    "# Alle ab dem zweiten Element\n",
    "print(my_list[1:])\n",
    "# Alle bis zum zweiten Element\n",
    "print(my_list[:2])\n",
    "# Alle vom zweiten bis zum dritten Element\n",
    "print(my_list[1:3])\n",
    "# Alle ohne die letzten beiden\n",
    "print(my_list[:-2])\n"
   ]
  },
  {
   "cell_type": "code",
   "execution_count": 65,
   "metadata": {
    "slideshow": {
     "slide_type": "slide"
    }
   },
   "outputs": [
    {
     "name": "stdout",
     "output_type": "stream",
     "text": [
      "['one', 'zwei', 'drei', 'four', 'five']\n"
     ]
    }
   ],
   "source": [
    "# Man kann auch Bereiche einer Liste ändern oder die Liste dadurch verkürzen oder verlängern:\n",
    "my_list[1:3] = ['zwei', 'drei']\n",
    "print(my_list)"
   ]
  },
  {
   "cell_type": "code",
   "execution_count": 66,
   "metadata": {
    "slideshow": {
     "slide_type": "fragment"
    }
   },
   "outputs": [
    {
     "name": "stdout",
     "output_type": "stream",
     "text": [
      "['one_and_two', 'three', 'four', 'five']\n"
     ]
    }
   ],
   "source": [
    "my_list = ['one', 'two', 'three', 'four', 'five']\n",
    "my_list[0:2] = ['one_and_two']\n",
    "print(my_list)"
   ]
  },
  {
   "cell_type": "code",
   "execution_count": 67,
   "metadata": {
    "slideshow": {
     "slide_type": "slide"
    }
   },
   "outputs": [
    {
     "name": "stdout",
     "output_type": "stream",
     "text": [
      "['one_and_two', 'three', 'four', 'five']\n"
     ]
    }
   ],
   "source": [
    "# Achtung: Wenn man einen ListenBEREICH ändert, muss man eine Liste übergeben. \n",
    "my_list = ['one', 'two', 'three', 'four', 'five']\n",
    "my_list[0:2] = ['one_and_two']\n",
    "print(my_list)"
   ]
  },
  {
   "cell_type": "code",
   "execution_count": 68,
   "metadata": {
    "slideshow": {
     "slide_type": "slide"
    }
   },
   "outputs": [
    {
     "name": "stdout",
     "output_type": "stream",
     "text": [
      "['ABC', 'three', 'four', 'five']\n"
     ]
    }
   ],
   "source": [
    "# Sonst Versucht python, den Wert als Liste seiner Unterelemente zu verstehen.\n",
    "my_list = ['one', 'two', 'three', 'four', 'five']\n",
    "my_list[0:2] = ['ABC']\n",
    "print(my_list)"
   ]
  },
  {
   "cell_type": "code",
   "execution_count": 69,
   "metadata": {
    "slideshow": {
     "slide_type": "slide"
    }
   },
   "outputs": [
    {
     "name": "stdout",
     "output_type": "stream",
     "text": [
      "['one', 'two', 'drei', 'four', 'five']\n"
     ]
    }
   ],
   "source": [
    "# Wenn man ein Listenelement ändert, muss man ein Element übergeben\n",
    "my_list = ['one', 'two', 'three', 'four', 'five']\n",
    "my_list[2] = 'drei'\n",
    "print(my_list)"
   ]
  },
  {
   "cell_type": "code",
   "execution_count": 70,
   "metadata": {
    "slideshow": {
     "slide_type": "slide"
    }
   },
   "outputs": [
    {
     "name": "stdout",
     "output_type": "stream",
     "text": [
      "['one', 'two', 'drei_a', 'drei_b', 'four', 'five']\n"
     ]
    }
   ],
   "source": [
    "# Wenn man an einer Position MEHRE neue Elemente einfügen will, \n",
    "# muss man diese Position als Bereich der Länge 1 adressieren.\n",
    "\n",
    "my_list = ['one', 'two', 'three', 'four', 'five']\n",
    "my_list[2:3] = ['drei_a', 'drei_b']\n",
    "print(my_list)"
   ]
  },
  {
   "cell_type": "code",
   "execution_count": 71,
   "metadata": {
    "slideshow": {
     "slide_type": "slide"
    }
   },
   "outputs": [
    {
     "name": "stdout",
     "output_type": "stream",
     "text": [
      "['one', 'two', ['drei_a', 'drei_b'], 'four', 'five']\n"
     ]
    }
   ],
   "source": [
    "# Sonst würde an dieser Stelle eine Liste als Element eingefügt:\n",
    "my_list = ['one', 'two', 'three', 'four', 'five']\n",
    "my_list[2] = ['drei_a', 'drei_b']\n",
    "print(my_list)"
   ]
  },
  {
   "cell_type": "code",
   "execution_count": 72,
   "metadata": {
    "slideshow": {
     "slide_type": "slide"
    }
   },
   "outputs": [
    {
     "name": "stdout",
     "output_type": "stream",
     "text": [
      "['one', 'two', 'three']\n"
     ]
    }
   ],
   "source": [
    "# Listen: append()\n",
    "my_list = ['one', 'two']\n",
    "my_list.append('three')\n",
    "print(my_list)"
   ]
  },
  {
   "cell_type": "code",
   "execution_count": 73,
   "metadata": {
    "slideshow": {
     "slide_type": "slide"
    }
   },
   "outputs": [
    {
     "name": "stdout",
     "output_type": "stream",
     "text": [
      "['one', 'two', 'three', 'four']\n"
     ]
    }
   ],
   "source": [
    "# Listen: extend()\n",
    "my_list = ['one', 'two']\n",
    "my_list.extend(['three', 'four'])\n",
    "print(my_list)"
   ]
  },
  {
   "cell_type": "code",
   "execution_count": 74,
   "metadata": {
    "slideshow": {
     "slide_type": "slide"
    }
   },
   "outputs": [
    {
     "name": "stdout",
     "output_type": "stream",
     "text": [
      "['one', 'two', ['three', 'four']]\n"
     ]
    }
   ],
   "source": [
    "# Kontrollfrage:\n",
    "# Was passiert, wenn Sie der Methode 'append' eine LISTE als Parameter übergeben?\n",
    "my_list = ['one', 'two']\n",
    "my_list.append(['three', 'four'])\n",
    "print(my_list)"
   ]
  },
  {
   "cell_type": "code",
   "execution_count": 75,
   "metadata": {
    "slideshow": {
     "slide_type": "slide"
    }
   },
   "outputs": [
    {
     "name": "stdout",
     "output_type": "stream",
     "text": [
      "['one', 'two', 't', 'h', 'r', 'e', 'e']\n"
     ]
    }
   ],
   "source": [
    "# Kontrollfrage:\n",
    "# Was passiert, wenn Sie der Methode 'extend' einen einzelnen Wert als Parameter übergeben?\n",
    "my_list = ['one', 'two']\n",
    "my_list.extend('three')\n",
    "print(my_list)"
   ]
  },
  {
   "cell_type": "code",
   "execution_count": 76,
   "metadata": {
    "slideshow": {
     "slide_type": "slide"
    }
   },
   "outputs": [
    {
     "ename": "TypeError",
     "evalue": "'int' object is not iterable",
     "output_type": "error",
     "traceback": [
      "\u001b[0;31m---------------------------------------------------------------------------\u001b[0m",
      "\u001b[0;31mTypeError\u001b[0m                                 Traceback (most recent call last)",
      "\u001b[0;32m<ipython-input-76-bca24c3ec178>\u001b[0m in \u001b[0;36m<module>\u001b[0;34m\u001b[0m\n\u001b[1;32m      1\u001b[0m \u001b[0;31m# Wenn eine atomare Variable übergeben wird, gibt es eine Fehlermeldung:\u001b[0m\u001b[0;34m\u001b[0m\u001b[0;34m\u001b[0m\u001b[0;34m\u001b[0m\u001b[0m\n\u001b[1;32m      2\u001b[0m \u001b[0mmy_list\u001b[0m \u001b[0;34m=\u001b[0m \u001b[0;34m[\u001b[0m\u001b[0;34m'one'\u001b[0m\u001b[0;34m,\u001b[0m \u001b[0;34m'two'\u001b[0m\u001b[0;34m]\u001b[0m\u001b[0;34m\u001b[0m\u001b[0;34m\u001b[0m\u001b[0m\n\u001b[0;32m----> 3\u001b[0;31m \u001b[0mmy_list\u001b[0m\u001b[0;34m.\u001b[0m\u001b[0mextend\u001b[0m\u001b[0;34m(\u001b[0m\u001b[0;36m1\u001b[0m\u001b[0;34m)\u001b[0m\u001b[0;34m\u001b[0m\u001b[0;34m\u001b[0m\u001b[0m\n\u001b[0m\u001b[1;32m      4\u001b[0m \u001b[0mprint\u001b[0m\u001b[0;34m(\u001b[0m\u001b[0mmy_list\u001b[0m\u001b[0;34m)\u001b[0m\u001b[0;34m\u001b[0m\u001b[0;34m\u001b[0m\u001b[0m\n",
      "\u001b[0;31mTypeError\u001b[0m: 'int' object is not iterable"
     ]
    }
   ],
   "source": [
    "# Wenn eine atomare Variable übergeben wird, gibt es eine Fehlermeldung:\n",
    "my_list = ['one', 'two']\n",
    "my_list.extend(1)\n",
    "print(my_list)"
   ]
  },
  {
   "cell_type": "code",
   "execution_count": 78,
   "metadata": {
    "slideshow": {
     "slide_type": "slide"
    }
   },
   "outputs": [
    {
     "name": "stdout",
     "output_type": "stream",
     "text": [
      "[1, 2, 3, 4, 5, 6]\n"
     ]
    }
   ],
   "source": [
    "# Man kann Listen einfach sortieren:\n",
    "my_list = [1, 6, 5, 3, 2, 4]\n",
    "my_list.sort()\n",
    "print(my_list)"
   ]
  },
  {
   "cell_type": "code",
   "execution_count": 79,
   "metadata": {
    "slideshow": {
     "slide_type": "slide"
    }
   },
   "outputs": [
    {
     "name": "stdout",
     "output_type": "stream",
     "text": [
      "[6, 5, 4, 3, 2, 1]\n"
     ]
    }
   ],
   "source": [
    "# Das geht auch mit inverser Sortierfolge:\n",
    "my_list = [1, 6, 5, 3, 2, 4]\n",
    "my_list.sort(reverse=True)\n",
    "print(my_list)"
   ]
  },
  {
   "cell_type": "code",
   "execution_count": 80,
   "metadata": {
    "slideshow": {
     "slide_type": "slide"
    }
   },
   "outputs": [
    {
     "name": "stdout",
     "output_type": "stream",
     "text": [
      "False\n"
     ]
    }
   ],
   "source": [
    "# Prüfen, ob Element in Liste enthalten\n",
    "my_liste_3 = [1, 4, 9, 7]\n",
    "print(2 in my_liste_3)"
   ]
  },
  {
   "cell_type": "code",
   "execution_count": 81,
   "metadata": {
    "slideshow": {
     "slide_type": "fragment"
    }
   },
   "outputs": [
    {
     "name": "stdout",
     "output_type": "stream",
     "text": [
      "Täter gefunden!\n",
      "Position: 2\n"
     ]
    }
   ],
   "source": [
    "# Suchen zu Fuß\n",
    "my_liste_4 = ['Hepp', 'Mueller', 'Meier']\n",
    "positionszaehler = 0\n",
    "for element in my_liste_4:\n",
    "    if element == 'Meier':\n",
    "        print('Täter gefunden!')\n",
    "        print('Position:', positionszaehler)\n",
    "    positionszaehler = positionszaehler + 1"
   ]
  },
  {
   "cell_type": "code",
   "execution_count": 82,
   "metadata": {
    "slideshow": {
     "slide_type": "slide"
    }
   },
   "outputs": [
    {
     "name": "stdout",
     "output_type": "stream",
     "text": [
      "Täter gefunden!\n"
     ]
    }
   ],
   "source": [
    "if 'Mueller' in my_liste_4:\n",
    "    print('Täter gefunden!')"
   ]
  },
  {
   "cell_type": "code",
   "execution_count": 121,
   "metadata": {
    "slideshow": {
     "slide_type": "fragment"
    }
   },
   "outputs": [
    {
     "name": "stdout",
     "output_type": "stream",
     "text": [
      "1\n"
     ]
    }
   ],
   "source": [
    "if 'Mueller' in my_liste_4:\n",
    "    print(my_liste_4.index('Mueller'))"
   ]
  },
  {
   "cell_type": "markdown",
   "metadata": {
    "slideshow": {
     "slide_type": "slide"
    }
   },
   "source": [
    "#### Tuples"
   ]
  },
  {
   "cell_type": "code",
   "execution_count": 83,
   "metadata": {},
   "outputs": [],
   "source": [
    "# Tuple\n",
    "my_tuple = (1, 3, 9)\n",
    "my_tuple_mixed = (1, True, 'UniBwM')\n",
    "\n",
    "latitude = 48.0803\n",
    "longitude = 11.6382\n",
    "geo_position = (latitude, longitude)"
   ]
  },
  {
   "cell_type": "code",
   "execution_count": 84,
   "metadata": {
    "slideshow": {
     "slide_type": "slide"
    }
   },
   "outputs": [
    {
     "name": "stdout",
     "output_type": "stream",
     "text": [
      "48.0803\n"
     ]
    }
   ],
   "source": [
    "# Entpacken\n",
    "lat, lon = geo_position\n",
    "print(lat)"
   ]
  },
  {
   "cell_type": "code",
   "execution_count": 85,
   "metadata": {
    "slideshow": {
     "slide_type": "fragment"
    }
   },
   "outputs": [
    {
     "name": "stdout",
     "output_type": "stream",
     "text": [
      "48.0803\n"
     ]
    }
   ],
   "source": [
    "# Auch die Elemente eines Tuples können einzeln adressiert werden:\n",
    "print(geo_position[0])"
   ]
  },
  {
   "cell_type": "code",
   "execution_count": 86,
   "metadata": {
    "slideshow": {
     "slide_type": "slide"
    }
   },
   "outputs": [
    {
     "ename": "TypeError",
     "evalue": "'tuple' object does not support item assignment",
     "output_type": "error",
     "traceback": [
      "\u001b[0;31m---------------------------------------------------------------------------\u001b[0m",
      "\u001b[0;31mTypeError\u001b[0m                                 Traceback (most recent call last)",
      "\u001b[0;32m<ipython-input-86-623b6a40f573>\u001b[0m in \u001b[0;36m<module>\u001b[0;34m\u001b[0m\n\u001b[1;32m      1\u001b[0m \u001b[0;31m# Die Unterelemente eines Tuples können aber nicht geändert werden:\u001b[0m\u001b[0;34m\u001b[0m\u001b[0;34m\u001b[0m\u001b[0;34m\u001b[0m\u001b[0m\n\u001b[0;32m----> 2\u001b[0;31m \u001b[0mgeo_position\u001b[0m\u001b[0;34m[\u001b[0m\u001b[0;36m0\u001b[0m\u001b[0;34m]\u001b[0m \u001b[0;34m=\u001b[0m \u001b[0;36m44.123\u001b[0m\u001b[0;34m\u001b[0m\u001b[0;34m\u001b[0m\u001b[0m\n\u001b[0m",
      "\u001b[0;31mTypeError\u001b[0m: 'tuple' object does not support item assignment"
     ]
    }
   ],
   "source": [
    "# Die Unterelemente eines Tuples können aber nicht geändert werden:\n",
    "geo_position[0] = 44.123"
   ]
  },
  {
   "cell_type": "markdown",
   "metadata": {
    "collapsed": true,
    "slideshow": {
     "slide_type": "slide"
    }
   },
   "source": [
    "#### Dictionaries"
   ]
  },
  {
   "cell_type": "code",
   "execution_count": 87,
   "metadata": {},
   "outputs": [
    {
     "name": "stdout",
     "output_type": "stream",
     "text": [
      "Martin Hepp\n",
      "WOW\n"
     ]
    }
   ],
   "source": [
    "my_dict = {'name' : 'Martin Hepp', \n",
    "           'fakultaet' : 'WOW', \n",
    "           'geburtsjahr' : 1971}\n",
    "print(my_dict['name'])\n",
    "print(my_dict['fakultaet'])\n"
   ]
  },
  {
   "cell_type": "code",
   "execution_count": 88,
   "metadata": {
    "slideshow": {
     "slide_type": "slide"
    }
   },
   "outputs": [],
   "source": [
    "# Elemente können geändert und hinzugefügt werden\n",
    "my_dict['fakultaet'] = 'INF'\n",
    "my_dict['lieblingsvorlesung'] = 'Programmierung in Python'"
   ]
  },
  {
   "cell_type": "code",
   "execution_count": 89,
   "metadata": {
    "slideshow": {
     "slide_type": "fragment"
    }
   },
   "outputs": [
    {
     "ename": "KeyError",
     "evalue": "'einkommen'",
     "output_type": "error",
     "traceback": [
      "\u001b[0;31m---------------------------------------------------------------------------\u001b[0m",
      "\u001b[0;31mKeyError\u001b[0m                                  Traceback (most recent call last)",
      "\u001b[0;32m<ipython-input-89-909ad30b7b4b>\u001b[0m in \u001b[0;36m<module>\u001b[0;34m\u001b[0m\n\u001b[1;32m      1\u001b[0m \u001b[0;31m# Wenn es den Schlüssel ('key') nicht gibt, wird eine Fehlermeldung produziert:\u001b[0m\u001b[0;34m\u001b[0m\u001b[0;34m\u001b[0m\u001b[0;34m\u001b[0m\u001b[0m\n\u001b[0;32m----> 2\u001b[0;31m \u001b[0mprint\u001b[0m\u001b[0;34m(\u001b[0m\u001b[0mmy_dict\u001b[0m\u001b[0;34m[\u001b[0m\u001b[0;34m'einkommen'\u001b[0m\u001b[0;34m]\u001b[0m\u001b[0;34m)\u001b[0m\u001b[0;34m\u001b[0m\u001b[0;34m\u001b[0m\u001b[0m\n\u001b[0m",
      "\u001b[0;31mKeyError\u001b[0m: 'einkommen'"
     ]
    }
   ],
   "source": [
    "# Wenn es den Schlüssel ('key') nicht gibt, wird eine Fehlermeldung produziert:\n",
    "print(my_dict['einkommen'])"
   ]
  },
  {
   "cell_type": "code",
   "execution_count": 90,
   "metadata": {
    "slideshow": {
     "slide_type": "slide"
    }
   },
   "outputs": [
    {
     "name": "stdout",
     "output_type": "stream",
     "text": [
      "None\n"
     ]
    }
   ],
   "source": [
    "# Das kann man mit der Methode get vermeiden:\n",
    "print(my_dict.get('einkommen'))"
   ]
  },
  {
   "cell_type": "code",
   "execution_count": 91,
   "metadata": {
    "slideshow": {
     "slide_type": "fragment"
    }
   },
   "outputs": [
    {
     "name": "stdout",
     "output_type": "stream",
     "text": [
      "Unbekannt\n",
      "0\n"
     ]
    }
   ],
   "source": [
    "# Man kann auch einen Default-Wert vorgeben (normalerweise None):\n",
    "print(my_dict.get('einkommen', 'Unbekannt'))\n",
    "print(my_dict.get('einkommen', 0))"
   ]
  },
  {
   "cell_type": "code",
   "execution_count": 92,
   "metadata": {
    "slideshow": {
     "slide_type": "slide"
    }
   },
   "outputs": [
    {
     "name": "stdout",
     "output_type": "stream",
     "text": [
      "{}\n"
     ]
    }
   ],
   "source": [
    "adresse = {}\n",
    "print(adresse)"
   ]
  },
  {
   "cell_type": "code",
   "execution_count": 93,
   "metadata": {
    "slideshow": {
     "slide_type": "fragment"
    }
   },
   "outputs": [
    {
     "name": "stdout",
     "output_type": "stream",
     "text": [
      "85577\n",
      "{'plz': '85577', 'sonderfeld': 'Bemerkungen bitte hier'}\n"
     ]
    }
   ],
   "source": [
    "adresse = {}\n",
    "adresse['plz'] = '85577'\n",
    "print(adresse['plz'])\n",
    "adresse['sonderfeld'] = 'Bemerkungen bitte hier'\n",
    "print(adresse)"
   ]
  },
  {
   "cell_type": "code",
   "execution_count": 94,
   "metadata": {
    "slideshow": {
     "slide_type": "slide"
    }
   },
   "outputs": [
    {
     "name": "stdout",
     "output_type": "stream",
     "text": [
      "[{'name': 'Frank Farian'}, {'name': 'Lady Gaga', 'bemerkung': 'Supercool!'}, {'name': 'John Lennon'}]\n"
     ]
    }
   ],
   "source": [
    "gast_1 = {'name' : 'Frank Farian'}\n",
    "gast_2 = {'name' : 'Lady Gaga'}\n",
    "gast_3 = {'name' : 'John Lennon'}\n",
    "\n",
    "gaesteliste = []\n",
    "gaesteliste.append(gast_1)\n",
    "gaesteliste.append(gast_2)\n",
    "gaesteliste.append(gast_3)\n",
    "gast_2['bemerkung'] = 'Supercool!'\n",
    "print(gaesteliste)\n"
   ]
  },
  {
   "cell_type": "code",
   "execution_count": 95,
   "metadata": {
    "slideshow": {
     "slide_type": "slide"
    }
   },
   "outputs": [
    {
     "name": "stdout",
     "output_type": "stream",
     "text": [
      "Frank Farian \n",
      "Lady Gaga Supercool!\n",
      "John Lennon \n"
     ]
    }
   ],
   "source": [
    "for gast in gaesteliste:\n",
    "    print(gast['name'], gast.get('bemerkung', ''))"
   ]
  },
  {
   "cell_type": "code",
   "execution_count": 96,
   "metadata": {
    "slideshow": {
     "slide_type": "fragment"
    }
   },
   "outputs": [
    {
     "name": "stdout",
     "output_type": "stream",
     "text": [
      "[{'name': 'Frank Farian'}, {'name': 'Lady Gaga', 'bemerkung': 'Supercool!'}, {'name': 'John Lennon'}]\n"
     ]
    }
   ],
   "source": [
    "gast_2['bemerkung'] = 'Supercool!'\n",
    "print(gaesteliste)"
   ]
  },
  {
   "cell_type": "markdown",
   "metadata": {
    "slideshow": {
     "slide_type": "slide"
    }
   },
   "source": [
    "#### Sets (Mengen)"
   ]
  },
  {
   "cell_type": "code",
   "execution_count": 97,
   "metadata": {},
   "outputs": [
    {
     "name": "stdout",
     "output_type": "stream",
     "text": [
      "{'gelb', 'rot', 'blau', 'gruen'}\n"
     ]
    }
   ],
   "source": [
    "a = set(['rot', 'gruen', 'blau', 'gelb'])\n",
    "print(a)"
   ]
  },
  {
   "cell_type": "code",
   "execution_count": 98,
   "metadata": {
    "slideshow": {
     "slide_type": "slide"
    }
   },
   "outputs": [
    {
     "name": "stdout",
     "output_type": "stream",
     "text": [
      "{' ', '.', 'i', 'h', 'e', 'Z', 'k', 's', 'n', 'c', 'D', 't'}\n"
     ]
    }
   ],
   "source": [
    "a = 'Dies ist eine Zeichenkette.'\n",
    "# Nun schauen wir, welche Buchstaben hierin vorkommen.\n",
    "zeichenvorrat = set(a)\n",
    "print(zeichenvorrat)"
   ]
  },
  {
   "cell_type": "markdown",
   "metadata": {
    "slideshow": {
     "slide_type": "slide"
    }
   },
   "source": [
    "### Benutzereingabe mit ```input()```"
   ]
  },
  {
   "cell_type": "code",
   "execution_count": 99,
   "metadata": {},
   "outputs": [
    {
     "name": "stdout",
     "output_type": "stream",
     "text": [
      "Ihr Name?\n"
     ]
    }
   ],
   "source": [
    "# Benutzereingabe mit input([text])\n",
    "# Ergebnis ist Zeichenkette (s.u.)\n",
    "eingabe = input('Ihr Name?')"
   ]
  },
  {
   "cell_type": "markdown",
   "metadata": {
    "slideshow": {
     "slide_type": "slide"
    }
   },
   "source": [
    "### Typumwandlung (Type Cast)\n"
   ]
  },
  {
   "cell_type": "code",
   "execution_count": 100,
   "metadata": {},
   "outputs": [],
   "source": [
    "# Zeichenkette in Ganzzahl (int)\n",
    "zahl_als_text = \"7\"\n",
    "zahl_als_int = int(zahl_als_text)"
   ]
  },
  {
   "cell_type": "code",
   "execution_count": 101,
   "metadata": {
    "slideshow": {
     "slide_type": "fragment"
    }
   },
   "outputs": [],
   "source": [
    "# Zeichenkette als Gleitkommazahl (float)\n",
    "float_als_text = \"3.1415\"\n",
    "float_als_zahl = float(float_als_text)"
   ]
  },
  {
   "cell_type": "code",
   "execution_count": 102,
   "metadata": {
    "slideshow": {
     "slide_type": "slide"
    }
   },
   "outputs": [],
   "source": [
    "# Zahl als Zeichenkette (String)\n",
    "zahl_als_text = str(7)\n",
    "float_als_text = (str(3.1415))\n"
   ]
  },
  {
   "cell_type": "code",
   "execution_count": 103,
   "metadata": {
    "slideshow": {
     "slide_type": "slide"
    }
   },
   "outputs": [
    {
     "name": "stdout",
     "output_type": "stream",
     "text": [
      "84\n",
      "4242\n"
     ]
    }
   ],
   "source": [
    "# Umwandlung einer Zahl in eine Zeichenkette\n",
    "a = 42\n",
    "a_string = str(a)\n",
    "\n",
    "# Was ist hier der Unterschied?\n",
    "print(a * 2)\n",
    "print(a_string * 2)"
   ]
  },
  {
   "cell_type": "markdown",
   "metadata": {
    "slideshow": {
     "slide_type": "slide"
    }
   },
   "source": [
    "## Übungsaufgaben"
   ]
  },
  {
   "cell_type": "markdown",
   "metadata": {
    "slideshow": {
     "slide_type": "slide"
    }
   },
   "source": [
    "### Übung: Satz des Pythagoras\n",
    "Schreiben Sie diese Formel als Python-Ausdruck\n",
    "\n",
    "$c = \\sqrt{(a^2 + b^2)}$"
   ]
  },
  {
   "cell_type": "code",
   "execution_count": 105,
   "metadata": {},
   "outputs": [],
   "source": [
    "a = 5\n",
    "b = 7"
   ]
  },
  {
   "cell_type": "code",
   "execution_count": 106,
   "metadata": {},
   "outputs": [],
   "source": [
    "c = ?"
   ]
  },
  {
   "cell_type": "code",
   "execution_count": 107,
   "metadata": {},
   "outputs": [
    {
     "name": "stdout",
     "output_type": "stream",
     "text": [
      "8.602325267042627\n"
     ]
    }
   ],
   "source": [
    "print(c)"
   ]
  },
  {
   "cell_type": "markdown",
   "metadata": {
    "slideshow": {
     "slide_type": "slide"
    }
   },
   "source": [
    "### Übung: Formel für Kreisfläche\n",
    "Schreiben Sie die Formel für die Kreisfläche als Python-Ausdruck\n",
    "\n",
    "$flaeche = \\pi*r^2$"
   ]
  },
  {
   "cell_type": "code",
   "execution_count": 108,
   "metadata": {
    "slideshow": {
     "slide_type": "fragment"
    }
   },
   "outputs": [],
   "source": [
    "r = 3"
   ]
  },
  {
   "cell_type": "code",
   "execution_count": null,
   "metadata": {},
   "outputs": [],
   "source": [
    "flaeche = ?"
   ]
  },
  {
   "cell_type": "code",
   "execution_count": null,
   "metadata": {},
   "outputs": [],
   "source": [
    "print(flaeche)"
   ]
  },
  {
   "cell_type": "markdown",
   "metadata": {
    "slideshow": {
     "slide_type": "slide"
    }
   },
   "source": [
    "## Erweiterungen"
   ]
  },
  {
   "cell_type": "markdown",
   "metadata": {
    "slideshow": {
     "slide_type": "slide"
    }
   },
   "source": [
    "### Python 3.6 Type Annotations, PEP 526"
   ]
  },
  {
   "cell_type": "code",
   "execution_count": 112,
   "metadata": {
    "slideshow": {
     "slide_type": "-"
    }
   },
   "outputs": [
    {
     "name": "stdout",
     "output_type": "stream",
     "text": [
      "1\n",
      "2\n"
     ]
    }
   ],
   "source": [
    "# http://mypy.readthedocs.io/en/latest/cheat_sheet_py3.html\n",
    "# https://www.python.org/dev/peps/pep-0526/\n",
    "a: int = 1\n",
    "b: int\n",
    "b = 2\n",
    "print(a)\n",
    "print(b)"
   ]
  },
  {
   "cell_type": "code",
   "execution_count": 113,
   "metadata": {
    "slideshow": {
     "slide_type": "slide"
    }
   },
   "outputs": [
    {
     "name": "stdout",
     "output_type": "stream",
     "text": [
      "[1]\n",
      "1.0\n",
      "<class 'float'>\n"
     ]
    }
   ],
   "source": [
    "from typing import List, Set, Dict, Tuple, Text, Optional, AnyStr\n",
    "my_list: List[int] = []\n",
    "my_list.append(1)\n",
    "print(my_list)\n",
    "\n",
    "def test(number: int) -> float:\n",
    "    return float(number)\n",
    "\n",
    "print(test(1))\n",
    "print(type(test(1)))"
   ]
  },
  {
   "cell_type": "markdown",
   "metadata": {
    "collapsed": true,
    "slideshow": {
     "slide_type": "slide"
    }
   },
   "source": [
    "# Vielen Dank! <a class=\"tocSkip\">\n",
    "**http://www.ebusiness-unibw.org/wiki/Teaching/PIP**"
   ]
  },
  {
   "cell_type": "code",
   "execution_count": null,
   "metadata": {},
   "outputs": [],
   "source": []
  }
 ],
 "metadata": {
  "anaconda-cloud": {},
  "celltoolbar": "Slideshow",
  "kernelspec": {
   "display_name": "Python 3",
   "language": "python",
   "name": "python3"
  },
  "language_info": {
   "codemirror_mode": {
    "name": "ipython",
    "version": 3
   },
   "file_extension": ".py",
   "mimetype": "text/x-python",
   "name": "python",
   "nbconvert_exporter": "python",
   "pygments_lexer": "ipython3",
   "version": "3.7.1"
  },
  "rise": {
   "backimage": "background.png",
   "center": false,
   "enable_chalkboard": false,
   "footer": "Univ.-Prof. Dr. Martin Hepp, martin.hepp@unibw.de",
   "header": "Programmierung in Python",
   "showSlideNumber": "pdf",
   "slideNumber": "c/t",
   "theme": "chesterish",
   "transition": "none"
  },
  "toc": {
   "base_numbering": 1,
   "nav_menu": {},
   "number_sections": true,
   "sideBar": true,
   "skip_h1_title": false,
   "title_cell": "Table of Contents",
   "title_sidebar": "Contents",
   "toc_cell": false,
   "toc_position": {
    "height": "calc(100% - 180px)",
    "left": "10px",
    "top": "150px",
    "width": "245.391px"
   },
   "toc_section_display": true,
   "toc_window_display": true
  }
 },
 "nbformat": 4,
 "nbformat_minor": 1
}
